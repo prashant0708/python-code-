{
 "cells": [
  {
   "cell_type": "markdown",
   "id": "c91fc8fe",
   "metadata": {},
   "source": [
    "# Pandas Module \n",
    "\n",
    "- Pandas is one of the library in python which is used for data wrangling , data transformation , data cleaning and many more data operation . \n",
    "- Pandas is open source library \n",
    "- once you install Anconda , it will install with it \n",
    "- for more info [Visit ](https://pandas.pydata.org/docs/reference/index.html)"
   ]
  },
  {
   "cell_type": "code",
   "execution_count": 4,
   "id": "00833f87",
   "metadata": {},
   "outputs": [],
   "source": [
    "import pandas as pd"
   ]
  },
  {
   "cell_type": "markdown",
   "id": "7dda1989",
   "metadata": {},
   "source": [
    "## Read the Excel File using Pandas "
   ]
  },
  {
   "cell_type": "code",
   "execution_count": 17,
   "id": "9d846966",
   "metadata": {},
   "outputs": [],
   "source": [
    "## reading the frist sheet of Excel .\n",
    "df= pd.read_excel(r\"C:\\Users\\prash\\Documents\\Prashant doc\\Study Materials\\Dataset\\Movie data set\\Movie data.xlsx\")"
   ]
  },
  {
   "cell_type": "code",
   "execution_count": 18,
   "id": "86aed50a",
   "metadata": {},
   "outputs": [],
   "source": [
    "## Raed the user define excel sheet\n",
    "\n",
    "df1=pd.read_excel(r\"C:\\Users\\prash\\Documents\\Prashant doc\\Study Materials\\Dataset\\Movie data set\\Movie data.xlsx\",sheet_name='Financial')"
   ]
  },
  {
   "cell_type": "markdown",
   "id": "c0616c8f",
   "metadata": {},
   "source": [
    "# Read all the Sheet from Excel\n",
    "\n",
    "1. Get the all sheet name of the Excel\n",
    "2. Then based on your desire "
   ]
  },
  {
   "cell_type": "code",
   "execution_count": 22,
   "id": "4d3d6f04",
   "metadata": {},
   "outputs": [],
   "source": [
    "xls=pd.ExcelFile(r\"C:\\Users\\prash\\Documents\\Prashant doc\\Study Materials\\Dataset\\Movie data set\\Movie data.xlsx\")"
   ]
  },
  {
   "cell_type": "code",
   "execution_count": 24,
   "id": "861167bc",
   "metadata": {},
   "outputs": [
    {
     "data": {
      "text/plain": [
       "['Movie', 'Financial', 'Movie_actor', 'Actor', 'language']"
      ]
     },
     "execution_count": 24,
     "metadata": {},
     "output_type": "execute_result"
    }
   ],
   "source": [
    "### get the all excel sheet name\n",
    "xls.sheet_names"
   ]
  },
  {
   "cell_type": "code",
   "execution_count": 25,
   "id": "f74efdad",
   "metadata": {},
   "outputs": [],
   "source": [
    "### read the Actor sheet. \n",
    "df2=pd.read_excel(xls,sheet_name='Actor')"
   ]
  },
  {
   "cell_type": "code",
   "execution_count": 26,
   "id": "bb508a68",
   "metadata": {},
   "outputs": [
    {
     "data": {
      "text/html": [
       "<div>\n",
       "<style scoped>\n",
       "    .dataframe tbody tr th:only-of-type {\n",
       "        vertical-align: middle;\n",
       "    }\n",
       "\n",
       "    .dataframe tbody tr th {\n",
       "        vertical-align: top;\n",
       "    }\n",
       "\n",
       "    .dataframe thead th {\n",
       "        text-align: right;\n",
       "    }\n",
       "</style>\n",
       "<table border=\"1\" class=\"dataframe\">\n",
       "  <thead>\n",
       "    <tr style=\"text-align: right;\">\n",
       "      <th></th>\n",
       "      <th>actor_id</th>\n",
       "      <th>name</th>\n",
       "      <th>birth_year</th>\n",
       "    </tr>\n",
       "  </thead>\n",
       "  <tbody>\n",
       "    <tr>\n",
       "      <th>0</th>\n",
       "      <td>50</td>\n",
       "      <td>Yash</td>\n",
       "      <td>1986</td>\n",
       "    </tr>\n",
       "    <tr>\n",
       "      <th>1</th>\n",
       "      <td>51</td>\n",
       "      <td>Sanjay Dutt</td>\n",
       "      <td>1959</td>\n",
       "    </tr>\n",
       "    <tr>\n",
       "      <th>2</th>\n",
       "      <td>52</td>\n",
       "      <td>Benedict Cumberbatch</td>\n",
       "      <td>1976</td>\n",
       "    </tr>\n",
       "    <tr>\n",
       "      <th>3</th>\n",
       "      <td>53</td>\n",
       "      <td>Elizabeth Olsen</td>\n",
       "      <td>1989</td>\n",
       "    </tr>\n",
       "    <tr>\n",
       "      <th>4</th>\n",
       "      <td>54</td>\n",
       "      <td>Chris Hemsworth</td>\n",
       "      <td>1983</td>\n",
       "    </tr>\n",
       "    <tr>\n",
       "      <th>...</th>\n",
       "      <td>...</td>\n",
       "      <td>...</td>\n",
       "      <td>...</td>\n",
       "    </tr>\n",
       "    <tr>\n",
       "      <th>62</th>\n",
       "      <td>166</td>\n",
       "      <td>Tommy Lee Jones</td>\n",
       "      <td>1946</td>\n",
       "    </tr>\n",
       "    <tr>\n",
       "      <th>63</th>\n",
       "      <td>167</td>\n",
       "      <td>Sebastian Stan</td>\n",
       "      <td>1982</td>\n",
       "    </tr>\n",
       "    <tr>\n",
       "      <th>64</th>\n",
       "      <td>168</td>\n",
       "      <td>Anil Kapoor</td>\n",
       "      <td>1956</td>\n",
       "    </tr>\n",
       "    <tr>\n",
       "      <th>65</th>\n",
       "      <td>169</td>\n",
       "      <td>Sidharth Malhotra</td>\n",
       "      <td>1985</td>\n",
       "    </tr>\n",
       "    <tr>\n",
       "      <th>66</th>\n",
       "      <td>170</td>\n",
       "      <td>Kiara Advani</td>\n",
       "      <td>1991</td>\n",
       "    </tr>\n",
       "  </tbody>\n",
       "</table>\n",
       "<p>67 rows × 3 columns</p>\n",
       "</div>"
      ],
      "text/plain": [
       "    actor_id                  name  birth_year\n",
       "0         50                  Yash        1986\n",
       "1         51           Sanjay Dutt        1959\n",
       "2         52  Benedict Cumberbatch        1976\n",
       "3         53       Elizabeth Olsen        1989\n",
       "4         54       Chris Hemsworth        1983\n",
       "..       ...                   ...         ...\n",
       "62       166       Tommy Lee Jones        1946\n",
       "63       167        Sebastian Stan        1982\n",
       "64       168           Anil Kapoor        1956\n",
       "65       169     Sidharth Malhotra        1985\n",
       "66       170          Kiara Advani        1991\n",
       "\n",
       "[67 rows x 3 columns]"
      ]
     },
     "execution_count": 26,
     "metadata": {},
     "output_type": "execute_result"
    }
   ],
   "source": [
    "df2"
   ]
  },
  {
   "cell_type": "code",
   "execution_count": null,
   "id": "97cf406b",
   "metadata": {},
   "outputs": [],
   "source": []
  }
 ],
 "metadata": {
  "kernelspec": {
   "display_name": "Python 3 (ipykernel)",
   "language": "python",
   "name": "python3"
  },
  "language_info": {
   "codemirror_mode": {
    "name": "ipython",
    "version": 3
   },
   "file_extension": ".py",
   "mimetype": "text/x-python",
   "name": "python",
   "nbconvert_exporter": "python",
   "pygments_lexer": "ipython3",
   "version": "3.11.5"
  }
 },
 "nbformat": 4,
 "nbformat_minor": 5
}
