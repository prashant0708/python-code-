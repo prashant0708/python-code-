{
 "cells": [
  {
   "cell_type": "markdown",
   "id": "a4538cb2",
   "metadata": {},
   "source": [
    "## Numpy "
   ]
  },
  {
   "cell_type": "markdown",
   "id": "f21dc2e8",
   "metadata": {},
   "source": [
    "-- Numpy is nothing but numerical python which is package / library in python that deals in arry and metric and other mathematical \n",
    "-- operation \n",
    "\n",
    "### What is arry \n",
    "- Array is same as list in python but there are some advantage with array over list. \n",
    "- computation execution time is lesser in array comare to list. "
   ]
  },
  {
   "cell_type": "code",
   "execution_count": 88,
   "id": "58951dd0",
   "metadata": {},
   "outputs": [],
   "source": [
    "import numpy as np\n",
    "import pandas as pd \n",
    "import matplotlib.pyplot as plt\n",
    "import seaborn as sns"
   ]
  },
  {
   "cell_type": "code",
   "execution_count": 18,
   "id": "80b9918e",
   "metadata": {},
   "outputs": [
    {
     "name": "stdout",
     "output_type": "stream",
     "text": [
      "4999999950000000\n",
      "46.225401401519775\n"
     ]
    }
   ],
   "source": [
    "import time \n",
    "\n",
    "result=0\n",
    "\n",
    "start_time=time.time()\n",
    "\n",
    "for i in range(1,100000000):\n",
    "    result=result+i\n",
    "print(result)\n",
    "\n",
    "end_time=time.time()\n",
    "\n",
    "print(end_time-start_time)\n",
    "\n",
    "    "
   ]
  },
  {
   "cell_type": "code",
   "execution_count": 17,
   "id": "9b4e0447",
   "metadata": {},
   "outputs": [
    {
     "name": "stdout",
     "output_type": "stream",
     "text": [
      "4999999950000000\n",
      "0.831202507019043\n"
     ]
    }
   ],
   "source": [
    "### with numpy \n",
    "\n",
    "start_time=time.time()\n",
    "\n",
    "number=100000000\n",
    "num=np.arange(1,number)\n",
    "result=np.sum(num, dtype=np.uint64)\n",
    "print(result)\n",
    "end_time=time.time()\n",
    "print(end_time-start_time)"
   ]
  },
  {
   "cell_type": "code",
   "execution_count": 20,
   "id": "09ab4729",
   "metadata": {},
   "outputs": [],
   "source": [
    "number=10\n",
    "num=np.arange(number)"
   ]
  },
  {
   "cell_type": "code",
   "execution_count": 21,
   "id": "2e796d50",
   "metadata": {},
   "outputs": [
    {
     "data": {
      "text/plain": [
       "numpy.ndarray"
      ]
     },
     "execution_count": 21,
     "metadata": {},
     "output_type": "execute_result"
    }
   ],
   "source": [
    "type(num)"
   ]
  },
  {
   "cell_type": "code",
   "execution_count": 23,
   "id": "72c63235",
   "metadata": {},
   "outputs": [
    {
     "data": {
      "text/plain": [
       "array([1, 2, 3, 4])"
      ]
     },
     "execution_count": 23,
     "metadata": {},
     "output_type": "execute_result"
    }
   ],
   "source": [
    "num[1:5]"
   ]
  },
  {
   "cell_type": "code",
   "execution_count": 24,
   "id": "f09cb242",
   "metadata": {},
   "outputs": [
    {
     "data": {
      "text/plain": [
       "array([0, 1, 2, 3, 4, 5, 6, 7, 8, 9])"
      ]
     },
     "execution_count": 24,
     "metadata": {},
     "output_type": "execute_result"
    }
   ],
   "source": [
    "num"
   ]
  },
  {
   "cell_type": "code",
   "execution_count": 28,
   "id": "5dee93f7",
   "metadata": {},
   "outputs": [],
   "source": [
    "num2=num.reshape(5,2)"
   ]
  },
  {
   "cell_type": "code",
   "execution_count": 29,
   "id": "9096da71",
   "metadata": {},
   "outputs": [
    {
     "data": {
      "text/plain": [
       "numpy.ndarray"
      ]
     },
     "execution_count": 29,
     "metadata": {},
     "output_type": "execute_result"
    }
   ],
   "source": [
    "type(num2)"
   ]
  },
  {
   "cell_type": "code",
   "execution_count": 31,
   "id": "90f1f92a",
   "metadata": {},
   "outputs": [
    {
     "data": {
      "text/plain": [
       "array([0., 0., 0., 0., 0., 0.])"
      ]
     },
     "execution_count": 31,
     "metadata": {},
     "output_type": "execute_result"
    }
   ],
   "source": [
    "np.zeros(6)"
   ]
  },
  {
   "cell_type": "code",
   "execution_count": 34,
   "id": "dbc6588c",
   "metadata": {},
   "outputs": [
    {
     "data": {
      "text/plain": [
       "array([1., 1., 1.])"
      ]
     },
     "execution_count": 34,
     "metadata": {},
     "output_type": "execute_result"
    }
   ],
   "source": [
    "np.ones(3)"
   ]
  },
  {
   "cell_type": "code",
   "execution_count": 39,
   "id": "7e64f961",
   "metadata": {},
   "outputs": [
    {
     "data": {
      "text/plain": [
       "array([0.72371777])"
      ]
     },
     "execution_count": 39,
     "metadata": {},
     "output_type": "execute_result"
    }
   ],
   "source": [
    "## print the random values\n",
    "\n",
    "np.random.rand(1)"
   ]
  },
  {
   "cell_type": "code",
   "execution_count": 67,
   "id": "89bfc30c",
   "metadata": {},
   "outputs": [],
   "source": [
    "### print the random int \n",
    "\n",
    "a1=np.random.randint(2,5,2)"
   ]
  },
  {
   "cell_type": "code",
   "execution_count": 68,
   "id": "2e54e114",
   "metadata": {},
   "outputs": [
    {
     "data": {
      "text/plain": [
       "array([2, 3])"
      ]
     },
     "execution_count": 68,
     "metadata": {},
     "output_type": "execute_result"
    }
   ],
   "source": [
    "a1"
   ]
  },
  {
   "cell_type": "code",
   "execution_count": 69,
   "id": "f858587b",
   "metadata": {},
   "outputs": [],
   "source": [
    "a2=np.random.randint(2,9,2)"
   ]
  },
  {
   "cell_type": "code",
   "execution_count": 70,
   "id": "1b943879",
   "metadata": {},
   "outputs": [
    {
     "data": {
      "text/plain": [
       "array([8, 6])"
      ]
     },
     "execution_count": 70,
     "metadata": {},
     "output_type": "execute_result"
    }
   ],
   "source": [
    "a2"
   ]
  },
  {
   "cell_type": "code",
   "execution_count": 71,
   "id": "b98e772a",
   "metadata": {},
   "outputs": [
    {
     "data": {
      "text/plain": [
       "array([10,  9])"
      ]
     },
     "execution_count": 71,
     "metadata": {},
     "output_type": "execute_result"
    }
   ],
   "source": [
    "a1+a2"
   ]
  },
  {
   "cell_type": "code",
   "execution_count": 72,
   "id": "cf6cb015",
   "metadata": {},
   "outputs": [
    {
     "data": {
      "text/plain": [
       "34"
      ]
     },
     "execution_count": 72,
     "metadata": {},
     "output_type": "execute_result"
    }
   ],
   "source": [
    "np.dot(a1,a2)"
   ]
  },
  {
   "cell_type": "code",
   "execution_count": 73,
   "id": "0e79149d",
   "metadata": {},
   "outputs": [
    {
     "data": {
      "text/plain": [
       "34"
      ]
     },
     "execution_count": 73,
     "metadata": {},
     "output_type": "execute_result"
    }
   ],
   "source": [
    "16+18"
   ]
  },
  {
   "cell_type": "code",
   "execution_count": 74,
   "id": "64b6d3f8",
   "metadata": {},
   "outputs": [
    {
     "data": {
      "text/plain": [
       "array(-12)"
      ]
     },
     "execution_count": 74,
     "metadata": {},
     "output_type": "execute_result"
    }
   ],
   "source": [
    "np.cross(a1,a2)"
   ]
  },
  {
   "cell_type": "code",
   "execution_count": 75,
   "id": "3444b3e9",
   "metadata": {},
   "outputs": [
    {
     "data": {
      "text/plain": [
       "array([2, 3])"
      ]
     },
     "execution_count": 75,
     "metadata": {},
     "output_type": "execute_result"
    }
   ],
   "source": [
    "a1"
   ]
  },
  {
   "cell_type": "code",
   "execution_count": 76,
   "id": "f66d9282",
   "metadata": {},
   "outputs": [],
   "source": [
    "l1=[1,2,3,4,5,89,56]"
   ]
  },
  {
   "cell_type": "code",
   "execution_count": 77,
   "id": "61bcfa1f",
   "metadata": {},
   "outputs": [
    {
     "data": {
      "text/plain": [
       "160"
      ]
     },
     "execution_count": 77,
     "metadata": {},
     "output_type": "execute_result"
    }
   ],
   "source": [
    "np.sum(l1)"
   ]
  },
  {
   "cell_type": "code",
   "execution_count": 78,
   "id": "d0f3f4b6",
   "metadata": {},
   "outputs": [
    {
     "data": {
      "text/plain": [
       "4.0"
      ]
     },
     "execution_count": 78,
     "metadata": {},
     "output_type": "execute_result"
    }
   ],
   "source": [
    "np.median(l1)"
   ]
  },
  {
   "cell_type": "code",
   "execution_count": 79,
   "id": "6652e0f0",
   "metadata": {},
   "outputs": [
    {
     "data": {
      "text/plain": [
       "22.857142857142858"
      ]
     },
     "execution_count": 79,
     "metadata": {},
     "output_type": "execute_result"
    }
   ],
   "source": [
    "np.mean(l1)"
   ]
  },
  {
   "cell_type": "code",
   "execution_count": 80,
   "id": "fa7a84f8",
   "metadata": {},
   "outputs": [
    {
     "data": {
      "text/plain": [
       "array([ 1,  2,  3,  4,  5, 56, 89])"
      ]
     },
     "execution_count": 80,
     "metadata": {},
     "output_type": "execute_result"
    }
   ],
   "source": [
    "np.sort(l1)"
   ]
  },
  {
   "cell_type": "code",
   "execution_count": 84,
   "id": "d6558341",
   "metadata": {},
   "outputs": [
    {
     "data": {
      "text/plain": [
       "array([34, 34, 34, 34, 34, 34, 34])"
      ]
     },
     "execution_count": 84,
     "metadata": {},
     "output_type": "execute_result"
    }
   ],
   "source": []
  },
  {
   "cell_type": "code",
   "execution_count": 89,
   "id": "5fe223cd",
   "metadata": {},
   "outputs": [],
   "source": [
    "sales=pd.read_excel(r\"C:\\Users\\prash\\Documents\\Prashant_doc\\Study_Materials\\Dataset\\Sales data\\Super market data\\Fact_Sales.xlsx\")"
   ]
  },
  {
   "cell_type": "code",
   "execution_count": 91,
   "id": "32d328ba",
   "metadata": {},
   "outputs": [
    {
     "data": {
      "text/html": [
       "<div>\n",
       "<style scoped>\n",
       "    .dataframe tbody tr th:only-of-type {\n",
       "        vertical-align: middle;\n",
       "    }\n",
       "\n",
       "    .dataframe tbody tr th {\n",
       "        vertical-align: top;\n",
       "    }\n",
       "\n",
       "    .dataframe thead th {\n",
       "        text-align: right;\n",
       "    }\n",
       "</style>\n",
       "<table border=\"1\" class=\"dataframe\">\n",
       "  <thead>\n",
       "    <tr style=\"text-align: right;\">\n",
       "      <th></th>\n",
       "      <th>Order ID</th>\n",
       "      <th>Order Date</th>\n",
       "      <th>Product Code</th>\n",
       "      <th>Unit</th>\n",
       "      <th>Sales Amount</th>\n",
       "      <th>Discount_pct</th>\n",
       "      <th>State code</th>\n",
       "      <th>City</th>\n",
       "      <th>Customer _code</th>\n",
       "    </tr>\n",
       "  </thead>\n",
       "  <tbody>\n",
       "    <tr>\n",
       "      <th>0</th>\n",
       "      <td>OD1</td>\n",
       "      <td>2017-08-11 00:00:00</td>\n",
       "      <td>RFT488</td>\n",
       "      <td>22</td>\n",
       "      <td>1254.000000</td>\n",
       "      <td>0.12</td>\n",
       "      <td>KL</td>\n",
       "      <td>Kanoor</td>\n",
       "      <td>HAR807</td>\n",
       "    </tr>\n",
       "    <tr>\n",
       "      <th>1</th>\n",
       "      <td>OD2</td>\n",
       "      <td>2017-08-11 00:00:00</td>\n",
       "      <td>TYD905</td>\n",
       "      <td>8</td>\n",
       "      <td>749.000000</td>\n",
       "      <td>0.18</td>\n",
       "      <td>HP</td>\n",
       "      <td>Manali</td>\n",
       "      <td>SUD975</td>\n",
       "    </tr>\n",
       "    <tr>\n",
       "      <th>2</th>\n",
       "      <td>OD3</td>\n",
       "      <td>2017-12-06 00:00:00</td>\n",
       "      <td>SER118</td>\n",
       "      <td>12</td>\n",
       "      <td>2360.000000</td>\n",
       "      <td>0.21</td>\n",
       "      <td>KL</td>\n",
       "      <td>Wayanad</td>\n",
       "      <td>HUS152</td>\n",
       "    </tr>\n",
       "    <tr>\n",
       "      <th>3</th>\n",
       "      <td>OD4</td>\n",
       "      <td>2016-11-10 00:00:00</td>\n",
       "      <td>SER773</td>\n",
       "      <td>43</td>\n",
       "      <td>896.000000</td>\n",
       "      <td>0.25</td>\n",
       "      <td>KL</td>\n",
       "      <td>Kanoor</td>\n",
       "      <td>JAC965</td>\n",
       "    </tr>\n",
       "    <tr>\n",
       "      <th>4</th>\n",
       "      <td>OD5</td>\n",
       "      <td>2016-11-10 00:00:00</td>\n",
       "      <td>RFT452</td>\n",
       "      <td>40</td>\n",
       "      <td>2355.000000</td>\n",
       "      <td>0.26</td>\n",
       "      <td>MH</td>\n",
       "      <td>Solapur</td>\n",
       "      <td>RID114</td>\n",
       "    </tr>\n",
       "    <tr>\n",
       "      <th>...</th>\n",
       "      <td>...</td>\n",
       "      <td>...</td>\n",
       "      <td>...</td>\n",
       "      <td>...</td>\n",
       "      <td>...</td>\n",
       "      <td>...</td>\n",
       "      <td>...</td>\n",
       "      <td>...</td>\n",
       "      <td>...</td>\n",
       "    </tr>\n",
       "    <tr>\n",
       "      <th>9989</th>\n",
       "      <td>OD9990</td>\n",
       "      <td>12-24-2015</td>\n",
       "      <td>SER178</td>\n",
       "      <td>42</td>\n",
       "      <td>686.980000</td>\n",
       "      <td>0.16</td>\n",
       "      <td>AP</td>\n",
       "      <td>Guntur</td>\n",
       "      <td>SUD871</td>\n",
       "    </tr>\n",
       "    <tr>\n",
       "      <th>9990</th>\n",
       "      <td>OD9991</td>\n",
       "      <td>2015-12-07 00:00:00</td>\n",
       "      <td>TYD470</td>\n",
       "      <td>4</td>\n",
       "      <td>74.164080</td>\n",
       "      <td>0.26</td>\n",
       "      <td>KA</td>\n",
       "      <td>Mangalore</td>\n",
       "      <td>ALA245</td>\n",
       "    </tr>\n",
       "    <tr>\n",
       "      <th>9991</th>\n",
       "      <td>OD9992</td>\n",
       "      <td>2017-06-06 00:00:00</td>\n",
       "      <td>CLP711</td>\n",
       "      <td>3</td>\n",
       "      <td>169.834483</td>\n",
       "      <td>0.16</td>\n",
       "      <td>MH</td>\n",
       "      <td>Thene</td>\n",
       "      <td>RAV755</td>\n",
       "    </tr>\n",
       "    <tr>\n",
       "      <th>9992</th>\n",
       "      <td>OD9993</td>\n",
       "      <td>10-16-2018</td>\n",
       "      <td>CLW714</td>\n",
       "      <td>46</td>\n",
       "      <td>4755.405405</td>\n",
       "      <td>0.15</td>\n",
       "      <td>OR</td>\n",
       "      <td>Angul</td>\n",
       "      <td>PEE150</td>\n",
       "    </tr>\n",
       "    <tr>\n",
       "      <th>9993</th>\n",
       "      <td>OD9994</td>\n",
       "      <td>4-17-2018</td>\n",
       "      <td>SER118</td>\n",
       "      <td>19</td>\n",
       "      <td>3405.569620</td>\n",
       "      <td>0.28</td>\n",
       "      <td>DL</td>\n",
       "      <td>Delhi</td>\n",
       "      <td>GAN658</td>\n",
       "    </tr>\n",
       "  </tbody>\n",
       "</table>\n",
       "<p>9994 rows × 9 columns</p>\n",
       "</div>"
      ],
      "text/plain": [
       "     Order ID           Order Date Product Code  Unit  Sales Amount  \\\n",
       "0         OD1  2017-08-11 00:00:00       RFT488    22   1254.000000   \n",
       "1         OD2  2017-08-11 00:00:00       TYD905     8    749.000000   \n",
       "2         OD3  2017-12-06 00:00:00       SER118    12   2360.000000   \n",
       "3         OD4  2016-11-10 00:00:00       SER773    43    896.000000   \n",
       "4         OD5  2016-11-10 00:00:00       RFT452    40   2355.000000   \n",
       "...       ...                  ...          ...   ...           ...   \n",
       "9989   OD9990           12-24-2015       SER178    42    686.980000   \n",
       "9990   OD9991  2015-12-07 00:00:00       TYD470     4     74.164080   \n",
       "9991   OD9992  2017-06-06 00:00:00       CLP711     3    169.834483   \n",
       "9992   OD9993           10-16-2018       CLW714    46   4755.405405   \n",
       "9993   OD9994            4-17-2018       SER118    19   3405.569620   \n",
       "\n",
       "      Discount_pct State code       City Customer _code  \n",
       "0             0.12         KL     Kanoor         HAR807  \n",
       "1             0.18         HP     Manali         SUD975  \n",
       "2             0.21         KL    Wayanad         HUS152  \n",
       "3             0.25         KL     Kanoor         JAC965  \n",
       "4             0.26         MH    Solapur         RID114  \n",
       "...            ...        ...        ...            ...  \n",
       "9989          0.16         AP     Guntur         SUD871  \n",
       "9990          0.26         KA  Mangalore         ALA245  \n",
       "9991          0.16         MH      Thene         RAV755  \n",
       "9992          0.15         OR      Angul         PEE150  \n",
       "9993          0.28         DL      Delhi         GAN658  \n",
       "\n",
       "[9994 rows x 9 columns]"
      ]
     },
     "execution_count": 91,
     "metadata": {},
     "output_type": "execute_result"
    }
   ],
   "source": [
    "sales"
   ]
  },
  {
   "cell_type": "code",
   "execution_count": 93,
   "id": "3e39ab43",
   "metadata": {},
   "outputs": [],
   "source": [
    "dim_state=pd.read_excel(r\"C:\\Users\\prash\\Documents\\Prashant_doc\\Study_Materials\\Dataset\\Sales data\\Super market data\\Dim_State.xlsx\")"
   ]
  },
  {
   "cell_type": "code",
   "execution_count": 94,
   "id": "7e6aad96",
   "metadata": {},
   "outputs": [
    {
     "data": {
      "text/html": [
       "<div>\n",
       "<style scoped>\n",
       "    .dataframe tbody tr th:only-of-type {\n",
       "        vertical-align: middle;\n",
       "    }\n",
       "\n",
       "    .dataframe tbody tr th {\n",
       "        vertical-align: top;\n",
       "    }\n",
       "\n",
       "    .dataframe thead th {\n",
       "        text-align: right;\n",
       "    }\n",
       "</style>\n",
       "<table border=\"1\" class=\"dataframe\">\n",
       "  <thead>\n",
       "    <tr style=\"text-align: right;\">\n",
       "      <th></th>\n",
       "      <th>State Code</th>\n",
       "      <th>State</th>\n",
       "      <th>Region</th>\n",
       "    </tr>\n",
       "  </thead>\n",
       "  <tbody>\n",
       "    <tr>\n",
       "      <th>0</th>\n",
       "      <td>KL</td>\n",
       "      <td>Kerala</td>\n",
       "      <td>South</td>\n",
       "    </tr>\n",
       "    <tr>\n",
       "      <th>1</th>\n",
       "      <td>HP</td>\n",
       "      <td>Himachal Pradesh</td>\n",
       "      <td>North</td>\n",
       "    </tr>\n",
       "    <tr>\n",
       "      <th>2</th>\n",
       "      <td>MH</td>\n",
       "      <td>Maharshtra</td>\n",
       "      <td>West</td>\n",
       "    </tr>\n",
       "    <tr>\n",
       "      <th>3</th>\n",
       "      <td>TN</td>\n",
       "      <td>Tamil Nadu</td>\n",
       "      <td>South</td>\n",
       "    </tr>\n",
       "    <tr>\n",
       "      <th>4</th>\n",
       "      <td>MP</td>\n",
       "      <td>MadhyaPradesh</td>\n",
       "      <td>West</td>\n",
       "    </tr>\n",
       "    <tr>\n",
       "      <th>5</th>\n",
       "      <td>OR</td>\n",
       "      <td>Orrisa</td>\n",
       "      <td>East</td>\n",
       "    </tr>\n",
       "    <tr>\n",
       "      <th>6</th>\n",
       "      <td>DL</td>\n",
       "      <td>Delhi</td>\n",
       "      <td>North</td>\n",
       "    </tr>\n",
       "    <tr>\n",
       "      <th>7</th>\n",
       "      <td>KA</td>\n",
       "      <td>Karnataka</td>\n",
       "      <td>South</td>\n",
       "    </tr>\n",
       "    <tr>\n",
       "      <th>8</th>\n",
       "      <td>AP</td>\n",
       "      <td>Andra Pradesh</td>\n",
       "      <td>South</td>\n",
       "    </tr>\n",
       "    <tr>\n",
       "      <th>9</th>\n",
       "      <td>GU</td>\n",
       "      <td>Gujarat</td>\n",
       "      <td>North</td>\n",
       "    </tr>\n",
       "  </tbody>\n",
       "</table>\n",
       "</div>"
      ],
      "text/plain": [
       "  State Code             State Region\n",
       "0         KL            Kerala  South\n",
       "1         HP  Himachal Pradesh  North\n",
       "2         MH        Maharshtra   West\n",
       "3         TN        Tamil Nadu  South\n",
       "4         MP     MadhyaPradesh   West\n",
       "5         OR            Orrisa   East\n",
       "6         DL             Delhi  North\n",
       "7         KA         Karnataka  South\n",
       "8         AP     Andra Pradesh  South\n",
       "9         GU           Gujarat  North"
      ]
     },
     "execution_count": 94,
     "metadata": {},
     "output_type": "execute_result"
    }
   ],
   "source": [
    "dim_state"
   ]
  },
  {
   "cell_type": "code",
   "execution_count": 95,
   "id": "5e59b271",
   "metadata": {},
   "outputs": [],
   "source": [
    "dim_product=pd.read_excel(r\"C:\\Users\\prash\\Documents\\Prashant_doc\\Study_Materials\\Dataset\\Sales data\\Super market data\\Dim_Product.xlsx\")"
   ]
  },
  {
   "cell_type": "code",
   "execution_count": 96,
   "id": "ced734dd",
   "metadata": {},
   "outputs": [
    {
     "data": {
      "text/html": [
       "<div>\n",
       "<style scoped>\n",
       "    .dataframe tbody tr th:only-of-type {\n",
       "        vertical-align: middle;\n",
       "    }\n",
       "\n",
       "    .dataframe tbody tr th {\n",
       "        vertical-align: top;\n",
       "    }\n",
       "\n",
       "    .dataframe thead th {\n",
       "        text-align: right;\n",
       "    }\n",
       "</style>\n",
       "<table border=\"1\" class=\"dataframe\">\n",
       "  <thead>\n",
       "    <tr style=\"text-align: right;\">\n",
       "      <th></th>\n",
       "      <th>Product code</th>\n",
       "      <th>Product</th>\n",
       "      <th>Category</th>\n",
       "      <th>Unit cost  Price</th>\n",
       "      <th>Unit sales price Price</th>\n",
       "    </tr>\n",
       "  </thead>\n",
       "  <tbody>\n",
       "    <tr>\n",
       "      <th>0</th>\n",
       "      <td>RFT488</td>\n",
       "      <td>Masalas</td>\n",
       "      <td>Oil &amp; Masala</td>\n",
       "      <td>38.760000</td>\n",
       "      <td>64.772727</td>\n",
       "    </tr>\n",
       "    <tr>\n",
       "      <th>1</th>\n",
       "      <td>TYD905</td>\n",
       "      <td>Health Drinks</td>\n",
       "      <td>Beverages</td>\n",
       "      <td>74.900000</td>\n",
       "      <td>114.176829</td>\n",
       "    </tr>\n",
       "    <tr>\n",
       "      <th>2</th>\n",
       "      <td>SER118</td>\n",
       "      <td>Atta &amp; Flour</td>\n",
       "      <td>Food Grains</td>\n",
       "      <td>182.900000</td>\n",
       "      <td>248.945148</td>\n",
       "    </tr>\n",
       "    <tr>\n",
       "      <th>3</th>\n",
       "      <td>SER773</td>\n",
       "      <td>Fresh Vegetables</td>\n",
       "      <td>Fruits &amp; Veggies</td>\n",
       "      <td>18.753488</td>\n",
       "      <td>27.782946</td>\n",
       "    </tr>\n",
       "    <tr>\n",
       "      <th>4</th>\n",
       "      <td>RFT452</td>\n",
       "      <td>Organic Staples</td>\n",
       "      <td>Food Grains</td>\n",
       "      <td>35.913750</td>\n",
       "      <td>79.560811</td>\n",
       "    </tr>\n",
       "    <tr>\n",
       "      <th>5</th>\n",
       "      <td>CLP190</td>\n",
       "      <td>Fresh Fruits</td>\n",
       "      <td>Fruits &amp; Veggies</td>\n",
       "      <td>48.549714</td>\n",
       "      <td>77.605042</td>\n",
       "    </tr>\n",
       "    <tr>\n",
       "      <th>6</th>\n",
       "      <td>TYD470</td>\n",
       "      <td>Biscuits</td>\n",
       "      <td>Bakery</td>\n",
       "      <td>14.855366</td>\n",
       "      <td>25.055432</td>\n",
       "    </tr>\n",
       "    <tr>\n",
       "      <th>7</th>\n",
       "      <td>CLW531</td>\n",
       "      <td>Cakes</td>\n",
       "      <td>Bakery</td>\n",
       "      <td>31.959756</td>\n",
       "      <td>59.973271</td>\n",
       "    </tr>\n",
       "    <tr>\n",
       "      <th>8</th>\n",
       "      <td>TYD646</td>\n",
       "      <td>Chocolates</td>\n",
       "      <td>Snacks</td>\n",
       "      <td>77.121579</td>\n",
       "      <td>115.124017</td>\n",
       "    </tr>\n",
       "    <tr>\n",
       "      <th>9</th>\n",
       "      <td>SER178</td>\n",
       "      <td>Eggs</td>\n",
       "      <td>Eggs, Meat &amp; Fish</td>\n",
       "      <td>9.814000</td>\n",
       "      <td>19.472222</td>\n",
       "    </tr>\n",
       "    <tr>\n",
       "      <th>10</th>\n",
       "      <td>RFT905</td>\n",
       "      <td>Cookies</td>\n",
       "      <td>Snacks</td>\n",
       "      <td>58.425652</td>\n",
       "      <td>89.049919</td>\n",
       "    </tr>\n",
       "    <tr>\n",
       "      <th>11</th>\n",
       "      <td>CLP156</td>\n",
       "      <td>Chicken</td>\n",
       "      <td>Eggs, Meat &amp; Fish</td>\n",
       "      <td>15.581250</td>\n",
       "      <td>26.634615</td>\n",
       "    </tr>\n",
       "    <tr>\n",
       "      <th>12</th>\n",
       "      <td>TYD882</td>\n",
       "      <td>Edible Oil &amp; Ghee</td>\n",
       "      <td>Oil &amp; Masala</td>\n",
       "      <td>267.840000</td>\n",
       "      <td>323.595506</td>\n",
       "    </tr>\n",
       "    <tr>\n",
       "      <th>13</th>\n",
       "      <td>TYD388</td>\n",
       "      <td>Mutton</td>\n",
       "      <td>Eggs, Meat &amp; Fish</td>\n",
       "      <td>31.871163</td>\n",
       "      <td>62.862254</td>\n",
       "    </tr>\n",
       "    <tr>\n",
       "      <th>14</th>\n",
       "      <td>SER922</td>\n",
       "      <td>Soft Drinks</td>\n",
       "      <td>Beverages</td>\n",
       "      <td>14.401081</td>\n",
       "      <td>26.341835</td>\n",
       "    </tr>\n",
       "    <tr>\n",
       "      <th>15</th>\n",
       "      <td>TYD656</td>\n",
       "      <td>Dals &amp; Pulses</td>\n",
       "      <td>Food Grains</td>\n",
       "      <td>60.040000</td>\n",
       "      <td>72.643678</td>\n",
       "    </tr>\n",
       "    <tr>\n",
       "      <th>16</th>\n",
       "      <td>CLP243</td>\n",
       "      <td>Organic Vegetables</td>\n",
       "      <td>Fruits &amp; Veggies</td>\n",
       "      <td>24.763333</td>\n",
       "      <td>37.910798</td>\n",
       "    </tr>\n",
       "    <tr>\n",
       "      <th>17</th>\n",
       "      <td>RFT600</td>\n",
       "      <td>Noodles</td>\n",
       "      <td>Snacks</td>\n",
       "      <td>20.416667</td>\n",
       "      <td>32.771536</td>\n",
       "    </tr>\n",
       "    <tr>\n",
       "      <th>18</th>\n",
       "      <td>CLW680</td>\n",
       "      <td>Organic Fruits</td>\n",
       "      <td>Fruits &amp; Veggies</td>\n",
       "      <td>33.295238</td>\n",
       "      <td>50.264550</td>\n",
       "    </tr>\n",
       "    <tr>\n",
       "      <th>19</th>\n",
       "      <td>SER962</td>\n",
       "      <td>Fish</td>\n",
       "      <td>Eggs, Meat &amp; Fish</td>\n",
       "      <td>60.522000</td>\n",
       "      <td>119.090909</td>\n",
       "    </tr>\n",
       "    <tr>\n",
       "      <th>20</th>\n",
       "      <td>CLW714</td>\n",
       "      <td>Spices</td>\n",
       "      <td>Oil &amp; Masala</td>\n",
       "      <td>69.300000</td>\n",
       "      <td>121.621622</td>\n",
       "    </tr>\n",
       "    <tr>\n",
       "      <th>21</th>\n",
       "      <td>CLP711</td>\n",
       "      <td>Rice</td>\n",
       "      <td>Food Grains</td>\n",
       "      <td>39.425862</td>\n",
       "      <td>67.394636</td>\n",
       "    </tr>\n",
       "    <tr>\n",
       "      <th>22</th>\n",
       "      <td>SER215</td>\n",
       "      <td>Breads &amp; Buns</td>\n",
       "      <td>Bakery</td>\n",
       "      <td>160.084167</td>\n",
       "      <td>222.679325</td>\n",
       "    </tr>\n",
       "  </tbody>\n",
       "</table>\n",
       "</div>"
      ],
      "text/plain": [
       "   Product code             Product           Category  Unit cost  Price  \\\n",
       "0        RFT488             Masalas       Oil & Masala         38.760000   \n",
       "1        TYD905       Health Drinks          Beverages         74.900000   \n",
       "2        SER118        Atta & Flour        Food Grains        182.900000   \n",
       "3        SER773    Fresh Vegetables   Fruits & Veggies         18.753488   \n",
       "4        RFT452     Organic Staples        Food Grains         35.913750   \n",
       "5        CLP190        Fresh Fruits   Fruits & Veggies         48.549714   \n",
       "6        TYD470            Biscuits             Bakery         14.855366   \n",
       "7        CLW531               Cakes             Bakery         31.959756   \n",
       "8        TYD646          Chocolates             Snacks         77.121579   \n",
       "9        SER178                Eggs  Eggs, Meat & Fish          9.814000   \n",
       "10       RFT905             Cookies             Snacks         58.425652   \n",
       "11       CLP156             Chicken  Eggs, Meat & Fish         15.581250   \n",
       "12       TYD882   Edible Oil & Ghee       Oil & Masala        267.840000   \n",
       "13       TYD388              Mutton  Eggs, Meat & Fish         31.871163   \n",
       "14       SER922         Soft Drinks          Beverages         14.401081   \n",
       "15       TYD656       Dals & Pulses        Food Grains         60.040000   \n",
       "16       CLP243  Organic Vegetables   Fruits & Veggies         24.763333   \n",
       "17       RFT600             Noodles             Snacks         20.416667   \n",
       "18       CLW680      Organic Fruits   Fruits & Veggies         33.295238   \n",
       "19       SER962                Fish  Eggs, Meat & Fish         60.522000   \n",
       "20       CLW714              Spices       Oil & Masala         69.300000   \n",
       "21       CLP711                Rice        Food Grains         39.425862   \n",
       "22       SER215       Breads & Buns             Bakery        160.084167   \n",
       "\n",
       "    Unit sales price Price  \n",
       "0                64.772727  \n",
       "1               114.176829  \n",
       "2               248.945148  \n",
       "3                27.782946  \n",
       "4                79.560811  \n",
       "5                77.605042  \n",
       "6                25.055432  \n",
       "7                59.973271  \n",
       "8               115.124017  \n",
       "9                19.472222  \n",
       "10               89.049919  \n",
       "11               26.634615  \n",
       "12              323.595506  \n",
       "13               62.862254  \n",
       "14               26.341835  \n",
       "15               72.643678  \n",
       "16               37.910798  \n",
       "17               32.771536  \n",
       "18               50.264550  \n",
       "19              119.090909  \n",
       "20              121.621622  \n",
       "21               67.394636  \n",
       "22              222.679325  "
      ]
     },
     "execution_count": 96,
     "metadata": {},
     "output_type": "execute_result"
    }
   ],
   "source": [
    "dim_product"
   ]
  },
  {
   "cell_type": "code",
   "execution_count": 97,
   "id": "fd9279b9",
   "metadata": {},
   "outputs": [],
   "source": [
    "dim_customer=pd.read_excel(r\"C:\\Users\\prash\\Documents\\Prashant_doc\\Study_Materials\\Dataset\\Sales data\\Super market data\\Dim_Customer.xlsx\")"
   ]
  },
  {
   "cell_type": "code",
   "execution_count": 99,
   "id": "538a4b48",
   "metadata": {},
   "outputs": [
    {
     "data": {
      "text/html": [
       "<div>\n",
       "<style scoped>\n",
       "    .dataframe tbody tr th:only-of-type {\n",
       "        vertical-align: middle;\n",
       "    }\n",
       "\n",
       "    .dataframe tbody tr th {\n",
       "        vertical-align: top;\n",
       "    }\n",
       "\n",
       "    .dataframe thead th {\n",
       "        text-align: right;\n",
       "    }\n",
       "</style>\n",
       "<table border=\"1\" class=\"dataframe\">\n",
       "  <thead>\n",
       "    <tr style=\"text-align: right;\">\n",
       "      <th></th>\n",
       "      <th>Customer Code</th>\n",
       "      <th>Customer Name</th>\n",
       "      <th>Gender</th>\n",
       "      <th>Age</th>\n",
       "    </tr>\n",
       "  </thead>\n",
       "  <tbody>\n",
       "    <tr>\n",
       "      <th>0</th>\n",
       "      <td>HAR807</td>\n",
       "      <td>Harish</td>\n",
       "      <td>F</td>\n",
       "      <td>17</td>\n",
       "    </tr>\n",
       "    <tr>\n",
       "      <th>1</th>\n",
       "      <td>SUD975</td>\n",
       "      <td>Sudha</td>\n",
       "      <td>F</td>\n",
       "      <td>22</td>\n",
       "    </tr>\n",
       "    <tr>\n",
       "      <th>2</th>\n",
       "      <td>HUS152</td>\n",
       "      <td>Hussain</td>\n",
       "      <td>M</td>\n",
       "      <td>34</td>\n",
       "    </tr>\n",
       "    <tr>\n",
       "      <th>3</th>\n",
       "      <td>JAC965</td>\n",
       "      <td>Jackson</td>\n",
       "      <td>F</td>\n",
       "      <td>21</td>\n",
       "    </tr>\n",
       "    <tr>\n",
       "      <th>4</th>\n",
       "      <td>RID114</td>\n",
       "      <td>Ridhesh</td>\n",
       "      <td>F</td>\n",
       "      <td>20</td>\n",
       "    </tr>\n",
       "    <tr>\n",
       "      <th>5</th>\n",
       "      <td>ADA740</td>\n",
       "      <td>Adavan</td>\n",
       "      <td>F</td>\n",
       "      <td>37</td>\n",
       "    </tr>\n",
       "    <tr>\n",
       "      <th>6</th>\n",
       "      <td>JON668</td>\n",
       "      <td>Jonas</td>\n",
       "      <td>M</td>\n",
       "      <td>35</td>\n",
       "    </tr>\n",
       "    <tr>\n",
       "      <th>7</th>\n",
       "      <td>HAF585</td>\n",
       "      <td>Hafiz</td>\n",
       "      <td>F</td>\n",
       "      <td>28</td>\n",
       "    </tr>\n",
       "    <tr>\n",
       "      <th>8</th>\n",
       "      <td>KRI619</td>\n",
       "      <td>Krithika</td>\n",
       "      <td>F</td>\n",
       "      <td>24</td>\n",
       "    </tr>\n",
       "    <tr>\n",
       "      <th>9</th>\n",
       "      <td>GAN658</td>\n",
       "      <td>Ganesh</td>\n",
       "      <td>F</td>\n",
       "      <td>35</td>\n",
       "    </tr>\n",
       "    <tr>\n",
       "      <th>10</th>\n",
       "      <td>YAD669</td>\n",
       "      <td>Yadav</td>\n",
       "      <td>M</td>\n",
       "      <td>23</td>\n",
       "    </tr>\n",
       "    <tr>\n",
       "      <th>11</th>\n",
       "      <td>SHA647</td>\n",
       "      <td>Sharon</td>\n",
       "      <td>F</td>\n",
       "      <td>25</td>\n",
       "    </tr>\n",
       "    <tr>\n",
       "      <th>12</th>\n",
       "      <td>PEE150</td>\n",
       "      <td>Peer</td>\n",
       "      <td>M</td>\n",
       "      <td>18</td>\n",
       "    </tr>\n",
       "    <tr>\n",
       "      <th>13</th>\n",
       "      <td>SUN805</td>\n",
       "      <td>Sundar</td>\n",
       "      <td>M</td>\n",
       "      <td>34</td>\n",
       "    </tr>\n",
       "    <tr>\n",
       "      <th>14</th>\n",
       "      <td>RAM987</td>\n",
       "      <td>Ramesh</td>\n",
       "      <td>M</td>\n",
       "      <td>22</td>\n",
       "    </tr>\n",
       "    <tr>\n",
       "      <th>15</th>\n",
       "      <td>ALA245</td>\n",
       "      <td>Alan</td>\n",
       "      <td>F</td>\n",
       "      <td>29</td>\n",
       "    </tr>\n",
       "    <tr>\n",
       "      <th>16</th>\n",
       "      <td>ARU317</td>\n",
       "      <td>Arutra</td>\n",
       "      <td>F</td>\n",
       "      <td>17</td>\n",
       "    </tr>\n",
       "    <tr>\n",
       "      <th>17</th>\n",
       "      <td>HAS820</td>\n",
       "      <td>Haseena</td>\n",
       "      <td>F</td>\n",
       "      <td>35</td>\n",
       "    </tr>\n",
       "    <tr>\n",
       "      <th>18</th>\n",
       "      <td>VER473</td>\n",
       "      <td>Verma</td>\n",
       "      <td>F</td>\n",
       "      <td>36</td>\n",
       "    </tr>\n",
       "    <tr>\n",
       "      <th>19</th>\n",
       "      <td>MUN941</td>\n",
       "      <td>Muneer</td>\n",
       "      <td>M</td>\n",
       "      <td>36</td>\n",
       "    </tr>\n",
       "    <tr>\n",
       "      <th>20</th>\n",
       "      <td>VER526</td>\n",
       "      <td>Veronica</td>\n",
       "      <td>M</td>\n",
       "      <td>23</td>\n",
       "    </tr>\n",
       "    <tr>\n",
       "      <th>21</th>\n",
       "      <td>SHA856</td>\n",
       "      <td>Shah</td>\n",
       "      <td>F</td>\n",
       "      <td>22</td>\n",
       "    </tr>\n",
       "    <tr>\n",
       "      <th>22</th>\n",
       "      <td>MAT354</td>\n",
       "      <td>Mathew</td>\n",
       "      <td>F</td>\n",
       "      <td>27</td>\n",
       "    </tr>\n",
       "    <tr>\n",
       "      <th>23</th>\n",
       "      <td>AKA783</td>\n",
       "      <td>Akash</td>\n",
       "      <td>F</td>\n",
       "      <td>30</td>\n",
       "    </tr>\n",
       "    <tr>\n",
       "      <th>24</th>\n",
       "      <td>ANU801</td>\n",
       "      <td>Anu</td>\n",
       "      <td>M</td>\n",
       "      <td>20</td>\n",
       "    </tr>\n",
       "    <tr>\n",
       "      <th>25</th>\n",
       "      <td>SAB748</td>\n",
       "      <td>Sabeela</td>\n",
       "      <td>F</td>\n",
       "      <td>37</td>\n",
       "    </tr>\n",
       "    <tr>\n",
       "      <th>26</th>\n",
       "      <td>JAM479</td>\n",
       "      <td>James</td>\n",
       "      <td>M</td>\n",
       "      <td>32</td>\n",
       "    </tr>\n",
       "    <tr>\n",
       "      <th>27</th>\n",
       "      <td>WIL124</td>\n",
       "      <td>Willams</td>\n",
       "      <td>F</td>\n",
       "      <td>31</td>\n",
       "    </tr>\n",
       "    <tr>\n",
       "      <th>28</th>\n",
       "      <td>MAL568</td>\n",
       "      <td>Malik</td>\n",
       "      <td>F</td>\n",
       "      <td>18</td>\n",
       "    </tr>\n",
       "    <tr>\n",
       "      <th>29</th>\n",
       "      <td>AMR770</td>\n",
       "      <td>Amrish</td>\n",
       "      <td>M</td>\n",
       "      <td>23</td>\n",
       "    </tr>\n",
       "    <tr>\n",
       "      <th>30</th>\n",
       "      <td>VIN832</td>\n",
       "      <td>Vince</td>\n",
       "      <td>F</td>\n",
       "      <td>37</td>\n",
       "    </tr>\n",
       "    <tr>\n",
       "      <th>31</th>\n",
       "      <td>SUR204</td>\n",
       "      <td>Suresh</td>\n",
       "      <td>F</td>\n",
       "      <td>20</td>\n",
       "    </tr>\n",
       "    <tr>\n",
       "      <th>32</th>\n",
       "      <td>EST936</td>\n",
       "      <td>Esther</td>\n",
       "      <td>M</td>\n",
       "      <td>21</td>\n",
       "    </tr>\n",
       "    <tr>\n",
       "      <th>33</th>\n",
       "      <td>YUS862</td>\n",
       "      <td>Yusuf</td>\n",
       "      <td>F</td>\n",
       "      <td>32</td>\n",
       "    </tr>\n",
       "    <tr>\n",
       "      <th>34</th>\n",
       "      <td>KOM704</td>\n",
       "      <td>Komal</td>\n",
       "      <td>M</td>\n",
       "      <td>21</td>\n",
       "    </tr>\n",
       "    <tr>\n",
       "      <th>35</th>\n",
       "      <td>VEE989</td>\n",
       "      <td>Veena</td>\n",
       "      <td>F</td>\n",
       "      <td>21</td>\n",
       "    </tr>\n",
       "    <tr>\n",
       "      <th>36</th>\n",
       "      <td>SHR727</td>\n",
       "      <td>Shree</td>\n",
       "      <td>M</td>\n",
       "      <td>25</td>\n",
       "    </tr>\n",
       "    <tr>\n",
       "      <th>37</th>\n",
       "      <td>ROS891</td>\n",
       "      <td>Roshan</td>\n",
       "      <td>F</td>\n",
       "      <td>31</td>\n",
       "    </tr>\n",
       "    <tr>\n",
       "      <th>38</th>\n",
       "      <td>SUD871</td>\n",
       "      <td>Sudeep</td>\n",
       "      <td>F</td>\n",
       "      <td>18</td>\n",
       "    </tr>\n",
       "    <tr>\n",
       "      <th>39</th>\n",
       "      <td>VIN295</td>\n",
       "      <td>Vinne</td>\n",
       "      <td>M</td>\n",
       "      <td>31</td>\n",
       "    </tr>\n",
       "    <tr>\n",
       "      <th>40</th>\n",
       "      <td>VID674</td>\n",
       "      <td>Vidya</td>\n",
       "      <td>F</td>\n",
       "      <td>24</td>\n",
       "    </tr>\n",
       "    <tr>\n",
       "      <th>41</th>\n",
       "      <td>ARV919</td>\n",
       "      <td>Arvind</td>\n",
       "      <td>M</td>\n",
       "      <td>32</td>\n",
       "    </tr>\n",
       "    <tr>\n",
       "      <th>42</th>\n",
       "      <td>KUM401</td>\n",
       "      <td>Kumar</td>\n",
       "      <td>M</td>\n",
       "      <td>34</td>\n",
       "    </tr>\n",
       "    <tr>\n",
       "      <th>43</th>\n",
       "      <td>AMY676</td>\n",
       "      <td>Amy</td>\n",
       "      <td>M</td>\n",
       "      <td>34</td>\n",
       "    </tr>\n",
       "    <tr>\n",
       "      <th>44</th>\n",
       "      <td>RAV755</td>\n",
       "      <td>Ravi</td>\n",
       "      <td>M</td>\n",
       "      <td>37</td>\n",
       "    </tr>\n",
       "    <tr>\n",
       "      <th>45</th>\n",
       "      <td>SHE154</td>\n",
       "      <td>Sheeba</td>\n",
       "      <td>M</td>\n",
       "      <td>22</td>\n",
       "    </tr>\n",
       "    <tr>\n",
       "      <th>46</th>\n",
       "      <td>RAM339</td>\n",
       "      <td>Ram</td>\n",
       "      <td>M</td>\n",
       "      <td>24</td>\n",
       "    </tr>\n",
       "    <tr>\n",
       "      <th>47</th>\n",
       "      <td>RUM621</td>\n",
       "      <td>Rumaiza</td>\n",
       "      <td>M</td>\n",
       "      <td>28</td>\n",
       "    </tr>\n",
       "    <tr>\n",
       "      <th>48</th>\n",
       "      <td>ADI297</td>\n",
       "      <td>Aditi</td>\n",
       "      <td>F</td>\n",
       "      <td>34</td>\n",
       "    </tr>\n",
       "    <tr>\n",
       "      <th>49</th>\n",
       "      <td>SUR652</td>\n",
       "      <td>Surya</td>\n",
       "      <td>F</td>\n",
       "      <td>36</td>\n",
       "    </tr>\n",
       "  </tbody>\n",
       "</table>\n",
       "</div>"
      ],
      "text/plain": [
       "   Customer Code Customer Name Gender   Age\n",
       "0         HAR807        Harish       F   17\n",
       "1         SUD975         Sudha       F   22\n",
       "2         HUS152       Hussain       M   34\n",
       "3         JAC965       Jackson       F   21\n",
       "4         RID114       Ridhesh       F   20\n",
       "5         ADA740        Adavan       F   37\n",
       "6         JON668         Jonas       M   35\n",
       "7         HAF585         Hafiz       F   28\n",
       "8         KRI619      Krithika       F   24\n",
       "9         GAN658        Ganesh       F   35\n",
       "10        YAD669         Yadav       M   23\n",
       "11        SHA647        Sharon       F   25\n",
       "12        PEE150          Peer       M   18\n",
       "13        SUN805        Sundar       M   34\n",
       "14        RAM987        Ramesh       M   22\n",
       "15        ALA245          Alan       F   29\n",
       "16        ARU317        Arutra       F   17\n",
       "17        HAS820       Haseena       F   35\n",
       "18        VER473         Verma       F   36\n",
       "19        MUN941        Muneer       M   36\n",
       "20        VER526      Veronica       M   23\n",
       "21        SHA856          Shah       F   22\n",
       "22        MAT354        Mathew       F   27\n",
       "23        AKA783         Akash       F   30\n",
       "24        ANU801           Anu       M   20\n",
       "25        SAB748       Sabeela       F   37\n",
       "26        JAM479         James       M   32\n",
       "27        WIL124       Willams       F   31\n",
       "28        MAL568         Malik       F   18\n",
       "29        AMR770        Amrish       M   23\n",
       "30        VIN832         Vince       F   37\n",
       "31        SUR204        Suresh       F   20\n",
       "32        EST936        Esther       M   21\n",
       "33        YUS862         Yusuf       F   32\n",
       "34        KOM704         Komal       M   21\n",
       "35        VEE989         Veena       F   21\n",
       "36        SHR727         Shree       M   25\n",
       "37        ROS891        Roshan       F   31\n",
       "38        SUD871        Sudeep       F   18\n",
       "39        VIN295         Vinne       M   31\n",
       "40        VID674         Vidya       F   24\n",
       "41        ARV919        Arvind       M   32\n",
       "42        KUM401         Kumar       M   34\n",
       "43        AMY676           Amy       M   34\n",
       "44        RAV755          Ravi       M   37\n",
       "45        SHE154        Sheeba       M   22\n",
       "46        RAM339           Ram       M   24\n",
       "47        RUM621       Rumaiza       M   28\n",
       "48        ADI297         Aditi       F   34\n",
       "49        SUR652         Surya       F   36"
      ]
     },
     "execution_count": 99,
     "metadata": {},
     "output_type": "execute_result"
    }
   ],
   "source": [
    "dim_customer"
   ]
  },
  {
   "cell_type": "code",
   "execution_count": 102,
   "id": "fac439e0",
   "metadata": {},
   "outputs": [],
   "source": [
    "S_R=pd.merge(sales,dim_state,how=\"inner\",left_on='State code',right_on='State Code')"
   ]
  },
  {
   "cell_type": "code",
   "execution_count": 103,
   "id": "08d43b37",
   "metadata": {},
   "outputs": [
    {
     "data": {
      "text/html": [
       "<div>\n",
       "<style scoped>\n",
       "    .dataframe tbody tr th:only-of-type {\n",
       "        vertical-align: middle;\n",
       "    }\n",
       "\n",
       "    .dataframe tbody tr th {\n",
       "        vertical-align: top;\n",
       "    }\n",
       "\n",
       "    .dataframe thead th {\n",
       "        text-align: right;\n",
       "    }\n",
       "</style>\n",
       "<table border=\"1\" class=\"dataframe\">\n",
       "  <thead>\n",
       "    <tr style=\"text-align: right;\">\n",
       "      <th></th>\n",
       "      <th>Order ID</th>\n",
       "      <th>Order Date</th>\n",
       "      <th>Product Code</th>\n",
       "      <th>Unit</th>\n",
       "      <th>Sales Amount</th>\n",
       "      <th>Discount_pct</th>\n",
       "      <th>State code</th>\n",
       "      <th>City</th>\n",
       "      <th>Customer _code</th>\n",
       "      <th>State Code</th>\n",
       "      <th>State</th>\n",
       "      <th>Region</th>\n",
       "    </tr>\n",
       "  </thead>\n",
       "  <tbody>\n",
       "    <tr>\n",
       "      <th>0</th>\n",
       "      <td>OD1</td>\n",
       "      <td>2017-08-11 00:00:00</td>\n",
       "      <td>RFT488</td>\n",
       "      <td>22</td>\n",
       "      <td>1254.000000</td>\n",
       "      <td>0.12</td>\n",
       "      <td>KL</td>\n",
       "      <td>Kanoor</td>\n",
       "      <td>HAR807</td>\n",
       "      <td>KL</td>\n",
       "      <td>Kerala</td>\n",
       "      <td>South</td>\n",
       "    </tr>\n",
       "    <tr>\n",
       "      <th>1</th>\n",
       "      <td>OD3</td>\n",
       "      <td>2017-12-06 00:00:00</td>\n",
       "      <td>SER118</td>\n",
       "      <td>12</td>\n",
       "      <td>2360.000000</td>\n",
       "      <td>0.21</td>\n",
       "      <td>KL</td>\n",
       "      <td>Wayanad</td>\n",
       "      <td>HUS152</td>\n",
       "      <td>KL</td>\n",
       "      <td>Kerala</td>\n",
       "      <td>South</td>\n",
       "    </tr>\n",
       "    <tr>\n",
       "      <th>2</th>\n",
       "      <td>OD4</td>\n",
       "      <td>2016-11-10 00:00:00</td>\n",
       "      <td>SER773</td>\n",
       "      <td>43</td>\n",
       "      <td>896.000000</td>\n",
       "      <td>0.25</td>\n",
       "      <td>KL</td>\n",
       "      <td>Kanoor</td>\n",
       "      <td>JAC965</td>\n",
       "      <td>KL</td>\n",
       "      <td>Kerala</td>\n",
       "      <td>South</td>\n",
       "    </tr>\n",
       "    <tr>\n",
       "      <th>3</th>\n",
       "      <td>OD8</td>\n",
       "      <td>2015-09-06 00:00:00</td>\n",
       "      <td>CLP190</td>\n",
       "      <td>35</td>\n",
       "      <td>1847.000000</td>\n",
       "      <td>0.32</td>\n",
       "      <td>KL</td>\n",
       "      <td>Thiruvananthapuram</td>\n",
       "      <td>HAF585</td>\n",
       "      <td>KL</td>\n",
       "      <td>Kerala</td>\n",
       "      <td>South</td>\n",
       "    </tr>\n",
       "    <tr>\n",
       "      <th>4</th>\n",
       "      <td>OD17</td>\n",
       "      <td>2015-11-11 00:00:00</td>\n",
       "      <td>CLW531</td>\n",
       "      <td>22</td>\n",
       "      <td>949.976612</td>\n",
       "      <td>0.28</td>\n",
       "      <td>KL</td>\n",
       "      <td>Kollam</td>\n",
       "      <td>ALA245</td>\n",
       "      <td>KL</td>\n",
       "      <td>Kerala</td>\n",
       "      <td>South</td>\n",
       "    </tr>\n",
       "    <tr>\n",
       "      <th>...</th>\n",
       "      <td>...</td>\n",
       "      <td>...</td>\n",
       "      <td>...</td>\n",
       "      <td>...</td>\n",
       "      <td>...</td>\n",
       "      <td>...</td>\n",
       "      <td>...</td>\n",
       "      <td>...</td>\n",
       "      <td>...</td>\n",
       "      <td>...</td>\n",
       "      <td>...</td>\n",
       "      <td>...</td>\n",
       "    </tr>\n",
       "    <tr>\n",
       "      <th>9989</th>\n",
       "      <td>OD9915</td>\n",
       "      <td>9-24-2018</td>\n",
       "      <td>SER962</td>\n",
       "      <td>10</td>\n",
       "      <td>869.363636</td>\n",
       "      <td>0.27</td>\n",
       "      <td>GU</td>\n",
       "      <td>Surat</td>\n",
       "      <td>MAL568</td>\n",
       "      <td>GU</td>\n",
       "      <td>Gujarat</td>\n",
       "      <td>North</td>\n",
       "    </tr>\n",
       "    <tr>\n",
       "      <th>9990</th>\n",
       "      <td>OD9945</td>\n",
       "      <td>2017-06-06 00:00:00</td>\n",
       "      <td>RFT905</td>\n",
       "      <td>3</td>\n",
       "      <td>232.420290</td>\n",
       "      <td>0.13</td>\n",
       "      <td>GU</td>\n",
       "      <td>Varodara</td>\n",
       "      <td>VID674</td>\n",
       "      <td>GU</td>\n",
       "      <td>Gujarat</td>\n",
       "      <td>North</td>\n",
       "    </tr>\n",
       "    <tr>\n",
       "      <th>9991</th>\n",
       "      <td>OD9955</td>\n",
       "      <td>10-24-2017</td>\n",
       "      <td>RFT488</td>\n",
       "      <td>32</td>\n",
       "      <td>1699.636364</td>\n",
       "      <td>0.18</td>\n",
       "      <td>GU</td>\n",
       "      <td>Rajkot</td>\n",
       "      <td>JAC965</td>\n",
       "      <td>GU</td>\n",
       "      <td>Gujarat</td>\n",
       "      <td>North</td>\n",
       "    </tr>\n",
       "    <tr>\n",
       "      <th>9992</th>\n",
       "      <td>OD9971</td>\n",
       "      <td>9-17-2017</td>\n",
       "      <td>RFT488</td>\n",
       "      <td>50</td>\n",
       "      <td>2234.659091</td>\n",
       "      <td>0.31</td>\n",
       "      <td>GU</td>\n",
       "      <td>Rajkot</td>\n",
       "      <td>VID674</td>\n",
       "      <td>GU</td>\n",
       "      <td>Gujarat</td>\n",
       "      <td>North</td>\n",
       "    </tr>\n",
       "    <tr>\n",
       "      <th>9993</th>\n",
       "      <td>OD9981</td>\n",
       "      <td>8-31-2018</td>\n",
       "      <td>TYD656</td>\n",
       "      <td>11</td>\n",
       "      <td>567.347126</td>\n",
       "      <td>0.29</td>\n",
       "      <td>GU</td>\n",
       "      <td>Rajkot</td>\n",
       "      <td>WIL124</td>\n",
       "      <td>GU</td>\n",
       "      <td>Gujarat</td>\n",
       "      <td>North</td>\n",
       "    </tr>\n",
       "  </tbody>\n",
       "</table>\n",
       "<p>9994 rows × 12 columns</p>\n",
       "</div>"
      ],
      "text/plain": [
       "     Order ID           Order Date Product Code  Unit  Sales Amount  \\\n",
       "0         OD1  2017-08-11 00:00:00       RFT488    22   1254.000000   \n",
       "1         OD3  2017-12-06 00:00:00       SER118    12   2360.000000   \n",
       "2         OD4  2016-11-10 00:00:00       SER773    43    896.000000   \n",
       "3         OD8  2015-09-06 00:00:00       CLP190    35   1847.000000   \n",
       "4        OD17  2015-11-11 00:00:00       CLW531    22    949.976612   \n",
       "...       ...                  ...          ...   ...           ...   \n",
       "9989   OD9915            9-24-2018       SER962    10    869.363636   \n",
       "9990   OD9945  2017-06-06 00:00:00       RFT905     3    232.420290   \n",
       "9991   OD9955           10-24-2017       RFT488    32   1699.636364   \n",
       "9992   OD9971            9-17-2017       RFT488    50   2234.659091   \n",
       "9993   OD9981            8-31-2018       TYD656    11    567.347126   \n",
       "\n",
       "      Discount_pct State code                City Customer _code State Code  \\\n",
       "0             0.12         KL              Kanoor         HAR807         KL   \n",
       "1             0.21         KL             Wayanad         HUS152         KL   \n",
       "2             0.25         KL              Kanoor         JAC965         KL   \n",
       "3             0.32         KL  Thiruvananthapuram         HAF585         KL   \n",
       "4             0.28         KL              Kollam         ALA245         KL   \n",
       "...            ...        ...                 ...            ...        ...   \n",
       "9989          0.27         GU               Surat         MAL568         GU   \n",
       "9990          0.13         GU            Varodara         VID674         GU   \n",
       "9991          0.18         GU              Rajkot         JAC965         GU   \n",
       "9992          0.31         GU              Rajkot         VID674         GU   \n",
       "9993          0.29         GU              Rajkot         WIL124         GU   \n",
       "\n",
       "        State Region  \n",
       "0      Kerala  South  \n",
       "1      Kerala  South  \n",
       "2      Kerala  South  \n",
       "3      Kerala  South  \n",
       "4      Kerala  South  \n",
       "...       ...    ...  \n",
       "9989  Gujarat  North  \n",
       "9990  Gujarat  North  \n",
       "9991  Gujarat  North  \n",
       "9992  Gujarat  North  \n",
       "9993  Gujarat  North  \n",
       "\n",
       "[9994 rows x 12 columns]"
      ]
     },
     "execution_count": 103,
     "metadata": {},
     "output_type": "execute_result"
    }
   ],
   "source": [
    "S_R"
   ]
  },
  {
   "cell_type": "code",
   "execution_count": 108,
   "id": "a7059a22",
   "metadata": {},
   "outputs": [],
   "source": [
    "S_R=S_R.merge(dim_product,how='inner',left_on='Product Code',right_on='Product code')"
   ]
  },
  {
   "cell_type": "code",
   "execution_count": 109,
   "id": "e99298da",
   "metadata": {},
   "outputs": [],
   "source": [
    "S_R=S_R.merge(dim_customer,how='inner',left_on='Customer _code',right_on='Customer Code')"
   ]
  },
  {
   "cell_type": "code",
   "execution_count": 110,
   "id": "c588f64e",
   "metadata": {},
   "outputs": [
    {
     "data": {
      "text/html": [
       "<div>\n",
       "<style scoped>\n",
       "    .dataframe tbody tr th:only-of-type {\n",
       "        vertical-align: middle;\n",
       "    }\n",
       "\n",
       "    .dataframe tbody tr th {\n",
       "        vertical-align: top;\n",
       "    }\n",
       "\n",
       "    .dataframe thead th {\n",
       "        text-align: right;\n",
       "    }\n",
       "</style>\n",
       "<table border=\"1\" class=\"dataframe\">\n",
       "  <thead>\n",
       "    <tr style=\"text-align: right;\">\n",
       "      <th></th>\n",
       "      <th>Order ID</th>\n",
       "      <th>Order Date</th>\n",
       "      <th>Product Code</th>\n",
       "      <th>Unit</th>\n",
       "      <th>Sales Amount</th>\n",
       "      <th>Discount_pct</th>\n",
       "      <th>State code</th>\n",
       "      <th>City</th>\n",
       "      <th>Customer _code</th>\n",
       "      <th>State Code</th>\n",
       "      <th>...</th>\n",
       "      <th>Region</th>\n",
       "      <th>Product code</th>\n",
       "      <th>Product</th>\n",
       "      <th>Category</th>\n",
       "      <th>Unit cost  Price</th>\n",
       "      <th>Unit sales price Price</th>\n",
       "      <th>Customer Code</th>\n",
       "      <th>Customer Name</th>\n",
       "      <th>Gender</th>\n",
       "      <th>Age</th>\n",
       "    </tr>\n",
       "  </thead>\n",
       "  <tbody>\n",
       "    <tr>\n",
       "      <th>0</th>\n",
       "      <td>OD1</td>\n",
       "      <td>2017-08-11 00:00:00</td>\n",
       "      <td>RFT488</td>\n",
       "      <td>22</td>\n",
       "      <td>1254.000000</td>\n",
       "      <td>0.12</td>\n",
       "      <td>KL</td>\n",
       "      <td>Kanoor</td>\n",
       "      <td>HAR807</td>\n",
       "      <td>KL</td>\n",
       "      <td>...</td>\n",
       "      <td>South</td>\n",
       "      <td>RFT488</td>\n",
       "      <td>Masalas</td>\n",
       "      <td>Oil &amp; Masala</td>\n",
       "      <td>38.760000</td>\n",
       "      <td>64.772727</td>\n",
       "      <td>HAR807</td>\n",
       "      <td>Harish</td>\n",
       "      <td>F</td>\n",
       "      <td>17</td>\n",
       "    </tr>\n",
       "    <tr>\n",
       "      <th>1</th>\n",
       "      <td>OD2872</td>\n",
       "      <td>2018-09-12 00:00:00</td>\n",
       "      <td>RFT488</td>\n",
       "      <td>9</td>\n",
       "      <td>448.875000</td>\n",
       "      <td>0.23</td>\n",
       "      <td>KL</td>\n",
       "      <td>Kollam</td>\n",
       "      <td>HAR807</td>\n",
       "      <td>KL</td>\n",
       "      <td>...</td>\n",
       "      <td>South</td>\n",
       "      <td>RFT488</td>\n",
       "      <td>Masalas</td>\n",
       "      <td>Oil &amp; Masala</td>\n",
       "      <td>38.760000</td>\n",
       "      <td>64.772727</td>\n",
       "      <td>HAR807</td>\n",
       "      <td>Harish</td>\n",
       "      <td>F</td>\n",
       "      <td>17</td>\n",
       "    </tr>\n",
       "    <tr>\n",
       "      <th>2</th>\n",
       "      <td>OD6105</td>\n",
       "      <td>2015-01-08 00:00:00</td>\n",
       "      <td>RFT488</td>\n",
       "      <td>22</td>\n",
       "      <td>997.500000</td>\n",
       "      <td>0.30</td>\n",
       "      <td>HP</td>\n",
       "      <td>Chamba</td>\n",
       "      <td>HAR807</td>\n",
       "      <td>HP</td>\n",
       "      <td>...</td>\n",
       "      <td>North</td>\n",
       "      <td>RFT488</td>\n",
       "      <td>Masalas</td>\n",
       "      <td>Oil &amp; Masala</td>\n",
       "      <td>38.760000</td>\n",
       "      <td>64.772727</td>\n",
       "      <td>HAR807</td>\n",
       "      <td>Harish</td>\n",
       "      <td>F</td>\n",
       "      <td>17</td>\n",
       "    </tr>\n",
       "    <tr>\n",
       "      <th>3</th>\n",
       "      <td>OD1905</td>\n",
       "      <td>2017-09-04 00:00:00</td>\n",
       "      <td>RFT488</td>\n",
       "      <td>17</td>\n",
       "      <td>880.909091</td>\n",
       "      <td>0.20</td>\n",
       "      <td>TN</td>\n",
       "      <td>Krishnagiri</td>\n",
       "      <td>HAR807</td>\n",
       "      <td>TN</td>\n",
       "      <td>...</td>\n",
       "      <td>South</td>\n",
       "      <td>RFT488</td>\n",
       "      <td>Masalas</td>\n",
       "      <td>Oil &amp; Masala</td>\n",
       "      <td>38.760000</td>\n",
       "      <td>64.772727</td>\n",
       "      <td>HAR807</td>\n",
       "      <td>Harish</td>\n",
       "      <td>F</td>\n",
       "      <td>17</td>\n",
       "    </tr>\n",
       "    <tr>\n",
       "      <th>4</th>\n",
       "      <td>OD5831</td>\n",
       "      <td>3-20-2017</td>\n",
       "      <td>RFT488</td>\n",
       "      <td>45</td>\n",
       "      <td>2215.227273</td>\n",
       "      <td>0.24</td>\n",
       "      <td>MP</td>\n",
       "      <td>Jabalpur</td>\n",
       "      <td>HAR807</td>\n",
       "      <td>MP</td>\n",
       "      <td>...</td>\n",
       "      <td>West</td>\n",
       "      <td>RFT488</td>\n",
       "      <td>Masalas</td>\n",
       "      <td>Oil &amp; Masala</td>\n",
       "      <td>38.760000</td>\n",
       "      <td>64.772727</td>\n",
       "      <td>HAR807</td>\n",
       "      <td>Harish</td>\n",
       "      <td>F</td>\n",
       "      <td>17</td>\n",
       "    </tr>\n",
       "    <tr>\n",
       "      <th>...</th>\n",
       "      <td>...</td>\n",
       "      <td>...</td>\n",
       "      <td>...</td>\n",
       "      <td>...</td>\n",
       "      <td>...</td>\n",
       "      <td>...</td>\n",
       "      <td>...</td>\n",
       "      <td>...</td>\n",
       "      <td>...</td>\n",
       "      <td>...</td>\n",
       "      <td>...</td>\n",
       "      <td>...</td>\n",
       "      <td>...</td>\n",
       "      <td>...</td>\n",
       "      <td>...</td>\n",
       "      <td>...</td>\n",
       "      <td>...</td>\n",
       "      <td>...</td>\n",
       "      <td>...</td>\n",
       "      <td>...</td>\n",
       "      <td>...</td>\n",
       "    </tr>\n",
       "    <tr>\n",
       "      <th>9989</th>\n",
       "      <td>OD3571</td>\n",
       "      <td>2016-12-09 00:00:00</td>\n",
       "      <td>CLP243</td>\n",
       "      <td>8</td>\n",
       "      <td>251.727700</td>\n",
       "      <td>0.17</td>\n",
       "      <td>HP</td>\n",
       "      <td>Kasauli</td>\n",
       "      <td>KUM401</td>\n",
       "      <td>HP</td>\n",
       "      <td>...</td>\n",
       "      <td>North</td>\n",
       "      <td>CLP243</td>\n",
       "      <td>Organic Vegetables</td>\n",
       "      <td>Fruits &amp; Veggies</td>\n",
       "      <td>24.763333</td>\n",
       "      <td>37.910798</td>\n",
       "      <td>KUM401</td>\n",
       "      <td>Kumar</td>\n",
       "      <td>M</td>\n",
       "      <td>34</td>\n",
       "    </tr>\n",
       "    <tr>\n",
       "      <th>9990</th>\n",
       "      <td>OD8799</td>\n",
       "      <td>2018-09-05 00:00:00</td>\n",
       "      <td>CLP243</td>\n",
       "      <td>22</td>\n",
       "      <td>642.208920</td>\n",
       "      <td>0.23</td>\n",
       "      <td>HP</td>\n",
       "      <td>Dharamsala</td>\n",
       "      <td>KUM401</td>\n",
       "      <td>HP</td>\n",
       "      <td>...</td>\n",
       "      <td>North</td>\n",
       "      <td>CLP243</td>\n",
       "      <td>Organic Vegetables</td>\n",
       "      <td>Fruits &amp; Veggies</td>\n",
       "      <td>24.763333</td>\n",
       "      <td>37.910798</td>\n",
       "      <td>KUM401</td>\n",
       "      <td>Kumar</td>\n",
       "      <td>M</td>\n",
       "      <td>34</td>\n",
       "    </tr>\n",
       "    <tr>\n",
       "      <th>9991</th>\n",
       "      <td>OD285</td>\n",
       "      <td>9-26-2016</td>\n",
       "      <td>CLP243</td>\n",
       "      <td>4</td>\n",
       "      <td>124.347418</td>\n",
       "      <td>0.18</td>\n",
       "      <td>DL</td>\n",
       "      <td>Delhi</td>\n",
       "      <td>KUM401</td>\n",
       "      <td>DL</td>\n",
       "      <td>...</td>\n",
       "      <td>North</td>\n",
       "      <td>CLP243</td>\n",
       "      <td>Organic Vegetables</td>\n",
       "      <td>Fruits &amp; Veggies</td>\n",
       "      <td>24.763333</td>\n",
       "      <td>37.910798</td>\n",
       "      <td>KUM401</td>\n",
       "      <td>Kumar</td>\n",
       "      <td>M</td>\n",
       "      <td>34</td>\n",
       "    </tr>\n",
       "    <tr>\n",
       "      <th>9992</th>\n",
       "      <td>OD9059</td>\n",
       "      <td>10-21-2017</td>\n",
       "      <td>CLP243</td>\n",
       "      <td>42</td>\n",
       "      <td>1162.345070</td>\n",
       "      <td>0.27</td>\n",
       "      <td>AP</td>\n",
       "      <td>Vijayawada</td>\n",
       "      <td>KUM401</td>\n",
       "      <td>AP</td>\n",
       "      <td>...</td>\n",
       "      <td>South</td>\n",
       "      <td>CLP243</td>\n",
       "      <td>Organic Vegetables</td>\n",
       "      <td>Fruits &amp; Veggies</td>\n",
       "      <td>24.763333</td>\n",
       "      <td>37.910798</td>\n",
       "      <td>KUM401</td>\n",
       "      <td>Kumar</td>\n",
       "      <td>M</td>\n",
       "      <td>34</td>\n",
       "    </tr>\n",
       "    <tr>\n",
       "      <th>9993</th>\n",
       "      <td>OD2211</td>\n",
       "      <td>2016-11-07 00:00:00</td>\n",
       "      <td>CLP243</td>\n",
       "      <td>22</td>\n",
       "      <td>608.847418</td>\n",
       "      <td>0.27</td>\n",
       "      <td>GU</td>\n",
       "      <td>Rajkot</td>\n",
       "      <td>KUM401</td>\n",
       "      <td>GU</td>\n",
       "      <td>...</td>\n",
       "      <td>North</td>\n",
       "      <td>CLP243</td>\n",
       "      <td>Organic Vegetables</td>\n",
       "      <td>Fruits &amp; Veggies</td>\n",
       "      <td>24.763333</td>\n",
       "      <td>37.910798</td>\n",
       "      <td>KUM401</td>\n",
       "      <td>Kumar</td>\n",
       "      <td>M</td>\n",
       "      <td>34</td>\n",
       "    </tr>\n",
       "  </tbody>\n",
       "</table>\n",
       "<p>9994 rows × 21 columns</p>\n",
       "</div>"
      ],
      "text/plain": [
       "     Order ID           Order Date Product Code  Unit  Sales Amount  \\\n",
       "0         OD1  2017-08-11 00:00:00       RFT488    22   1254.000000   \n",
       "1      OD2872  2018-09-12 00:00:00       RFT488     9    448.875000   \n",
       "2      OD6105  2015-01-08 00:00:00       RFT488    22    997.500000   \n",
       "3      OD1905  2017-09-04 00:00:00       RFT488    17    880.909091   \n",
       "4      OD5831            3-20-2017       RFT488    45   2215.227273   \n",
       "...       ...                  ...          ...   ...           ...   \n",
       "9989   OD3571  2016-12-09 00:00:00       CLP243     8    251.727700   \n",
       "9990   OD8799  2018-09-05 00:00:00       CLP243    22    642.208920   \n",
       "9991    OD285            9-26-2016       CLP243     4    124.347418   \n",
       "9992   OD9059           10-21-2017       CLP243    42   1162.345070   \n",
       "9993   OD2211  2016-11-07 00:00:00       CLP243    22    608.847418   \n",
       "\n",
       "      Discount_pct State code         City Customer _code State Code  ...  \\\n",
       "0             0.12         KL       Kanoor         HAR807         KL  ...   \n",
       "1             0.23         KL       Kollam         HAR807         KL  ...   \n",
       "2             0.30         HP       Chamba         HAR807         HP  ...   \n",
       "3             0.20         TN  Krishnagiri         HAR807         TN  ...   \n",
       "4             0.24         MP     Jabalpur         HAR807         MP  ...   \n",
       "...            ...        ...          ...            ...        ...  ...   \n",
       "9989          0.17         HP      Kasauli         KUM401         HP  ...   \n",
       "9990          0.23         HP   Dharamsala         KUM401         HP  ...   \n",
       "9991          0.18         DL        Delhi         KUM401         DL  ...   \n",
       "9992          0.27         AP   Vijayawada         KUM401         AP  ...   \n",
       "9993          0.27         GU       Rajkot         KUM401         GU  ...   \n",
       "\n",
       "     Region Product code             Product          Category  \\\n",
       "0     South       RFT488             Masalas      Oil & Masala   \n",
       "1     South       RFT488             Masalas      Oil & Masala   \n",
       "2     North       RFT488             Masalas      Oil & Masala   \n",
       "3     South       RFT488             Masalas      Oil & Masala   \n",
       "4      West       RFT488             Masalas      Oil & Masala   \n",
       "...     ...          ...                 ...               ...   \n",
       "9989  North       CLP243  Organic Vegetables  Fruits & Veggies   \n",
       "9990  North       CLP243  Organic Vegetables  Fruits & Veggies   \n",
       "9991  North       CLP243  Organic Vegetables  Fruits & Veggies   \n",
       "9992  South       CLP243  Organic Vegetables  Fruits & Veggies   \n",
       "9993  North       CLP243  Organic Vegetables  Fruits & Veggies   \n",
       "\n",
       "     Unit cost  Price  Unit sales price Price  Customer Code Customer Name  \\\n",
       "0           38.760000               64.772727         HAR807        Harish   \n",
       "1           38.760000               64.772727         HAR807        Harish   \n",
       "2           38.760000               64.772727         HAR807        Harish   \n",
       "3           38.760000               64.772727         HAR807        Harish   \n",
       "4           38.760000               64.772727         HAR807        Harish   \n",
       "...               ...                     ...            ...           ...   \n",
       "9989        24.763333               37.910798         KUM401         Kumar   \n",
       "9990        24.763333               37.910798         KUM401         Kumar   \n",
       "9991        24.763333               37.910798         KUM401         Kumar   \n",
       "9992        24.763333               37.910798         KUM401         Kumar   \n",
       "9993        24.763333               37.910798         KUM401         Kumar   \n",
       "\n",
       "     Gender  Age  \n",
       "0          F  17  \n",
       "1          F  17  \n",
       "2          F  17  \n",
       "3          F  17  \n",
       "4          F  17  \n",
       "...      ...  ..  \n",
       "9989       M  34  \n",
       "9990       M  34  \n",
       "9991       M  34  \n",
       "9992       M  34  \n",
       "9993       M  34  \n",
       "\n",
       "[9994 rows x 21 columns]"
      ]
     },
     "execution_count": 110,
     "metadata": {},
     "output_type": "execute_result"
    }
   ],
   "source": [
    "S_R"
   ]
  },
  {
   "cell_type": "code",
   "execution_count": 116,
   "id": "97bc6ce3",
   "metadata": {},
   "outputs": [
    {
     "data": {
      "text/html": [
       "<div>\n",
       "<style scoped>\n",
       "    .dataframe tbody tr th:only-of-type {\n",
       "        vertical-align: middle;\n",
       "    }\n",
       "\n",
       "    .dataframe tbody tr th {\n",
       "        vertical-align: top;\n",
       "    }\n",
       "\n",
       "    .dataframe thead th {\n",
       "        text-align: right;\n",
       "    }\n",
       "</style>\n",
       "<table border=\"1\" class=\"dataframe\">\n",
       "  <thead>\n",
       "    <tr style=\"text-align: right;\">\n",
       "      <th></th>\n",
       "      <th>Product Code</th>\n",
       "      <th>State Code</th>\n",
       "      <th>Customer Code</th>\n",
       "    </tr>\n",
       "  </thead>\n",
       "  <tbody>\n",
       "    <tr>\n",
       "      <th>0</th>\n",
       "      <td>RFT488</td>\n",
       "      <td>KL</td>\n",
       "      <td>HAR807</td>\n",
       "    </tr>\n",
       "    <tr>\n",
       "      <th>1</th>\n",
       "      <td>RFT488</td>\n",
       "      <td>KL</td>\n",
       "      <td>HAR807</td>\n",
       "    </tr>\n",
       "    <tr>\n",
       "      <th>2</th>\n",
       "      <td>RFT488</td>\n",
       "      <td>HP</td>\n",
       "      <td>HAR807</td>\n",
       "    </tr>\n",
       "    <tr>\n",
       "      <th>3</th>\n",
       "      <td>RFT488</td>\n",
       "      <td>TN</td>\n",
       "      <td>HAR807</td>\n",
       "    </tr>\n",
       "    <tr>\n",
       "      <th>4</th>\n",
       "      <td>RFT488</td>\n",
       "      <td>MP</td>\n",
       "      <td>HAR807</td>\n",
       "    </tr>\n",
       "    <tr>\n",
       "      <th>...</th>\n",
       "      <td>...</td>\n",
       "      <td>...</td>\n",
       "      <td>...</td>\n",
       "    </tr>\n",
       "    <tr>\n",
       "      <th>9989</th>\n",
       "      <td>CLP243</td>\n",
       "      <td>HP</td>\n",
       "      <td>KUM401</td>\n",
       "    </tr>\n",
       "    <tr>\n",
       "      <th>9990</th>\n",
       "      <td>CLP243</td>\n",
       "      <td>HP</td>\n",
       "      <td>KUM401</td>\n",
       "    </tr>\n",
       "    <tr>\n",
       "      <th>9991</th>\n",
       "      <td>CLP243</td>\n",
       "      <td>DL</td>\n",
       "      <td>KUM401</td>\n",
       "    </tr>\n",
       "    <tr>\n",
       "      <th>9992</th>\n",
       "      <td>CLP243</td>\n",
       "      <td>AP</td>\n",
       "      <td>KUM401</td>\n",
       "    </tr>\n",
       "    <tr>\n",
       "      <th>9993</th>\n",
       "      <td>CLP243</td>\n",
       "      <td>GU</td>\n",
       "      <td>KUM401</td>\n",
       "    </tr>\n",
       "  </tbody>\n",
       "</table>\n",
       "<p>9994 rows × 3 columns</p>\n",
       "</div>"
      ],
      "text/plain": [
       "     Product Code State Code Customer Code\n",
       "0          RFT488         KL        HAR807\n",
       "1          RFT488         KL        HAR807\n",
       "2          RFT488         HP        HAR807\n",
       "3          RFT488         TN        HAR807\n",
       "4          RFT488         MP        HAR807\n",
       "...           ...        ...           ...\n",
       "9989       CLP243         HP        KUM401\n",
       "9990       CLP243         HP        KUM401\n",
       "9991       CLP243         DL        KUM401\n",
       "9992       CLP243         AP        KUM401\n",
       "9993       CLP243         GU        KUM401\n",
       "\n",
       "[9994 rows x 3 columns]"
      ]
     },
     "execution_count": 116,
     "metadata": {},
     "output_type": "execute_result"
    }
   ],
   "source": [
    "S_R.filter(like='Code')"
   ]
  },
  {
   "cell_type": "code",
   "execution_count": 117,
   "id": "d7fe6615",
   "metadata": {},
   "outputs": [],
   "source": [
    "S_R.drop(columns=['Product Code','State Code','Customer Code'],inplace=True)"
   ]
  },
  {
   "cell_type": "code",
   "execution_count": 120,
   "id": "b41db88f",
   "metadata": {},
   "outputs": [],
   "source": [
    "S_R.rename(columns={'Unit sales price Price':'Unit sale Price'},inplace=True)"
   ]
  },
  {
   "cell_type": "code",
   "execution_count": 129,
   "id": "805e1b00",
   "metadata": {},
   "outputs": [
    {
     "data": {
      "text/plain": [
       "Index(['Order ID', 'Order Date', 'Unit', 'Sales Amount', 'Discount_pct',\n",
       "       'State code', 'City', 'Customer _code', 'State', 'Region',\n",
       "       'Product code', 'Product', 'Category', 'Unit cost  Price',\n",
       "       'Unit sale Price', 'Customer Name', 'Gender ', 'Age'],\n",
       "      dtype='object')"
      ]
     },
     "execution_count": 129,
     "metadata": {},
     "output_type": "execute_result"
    }
   ],
   "source": [
    "S_R.columns"
   ]
  },
  {
   "cell_type": "code",
   "execution_count": 130,
   "id": "30a450f9",
   "metadata": {},
   "outputs": [],
   "source": [
    "L1=['Sales Amount','Unit sale Price','Unit cost  Price']"
   ]
  },
  {
   "cell_type": "code",
   "execution_count": 135,
   "id": "8ca2ffa3",
   "metadata": {},
   "outputs": [
    {
     "data": {
      "text/html": [
       "<div>\n",
       "<style scoped>\n",
       "    .dataframe tbody tr th:only-of-type {\n",
       "        vertical-align: middle;\n",
       "    }\n",
       "\n",
       "    .dataframe tbody tr th {\n",
       "        vertical-align: top;\n",
       "    }\n",
       "\n",
       "    .dataframe thead th {\n",
       "        text-align: right;\n",
       "    }\n",
       "</style>\n",
       "<table border=\"1\" class=\"dataframe\">\n",
       "  <thead>\n",
       "    <tr style=\"text-align: right;\">\n",
       "      <th></th>\n",
       "      <th>Sales Amount</th>\n",
       "      <th>Unit sale Price</th>\n",
       "      <th>Unit cost  Price</th>\n",
       "    </tr>\n",
       "  </thead>\n",
       "  <tbody>\n",
       "    <tr>\n",
       "      <th>0</th>\n",
       "      <td>1254.00</td>\n",
       "      <td>64.77</td>\n",
       "      <td>38.76</td>\n",
       "    </tr>\n",
       "    <tr>\n",
       "      <th>1</th>\n",
       "      <td>448.87</td>\n",
       "      <td>64.77</td>\n",
       "      <td>38.76</td>\n",
       "    </tr>\n",
       "    <tr>\n",
       "      <th>2</th>\n",
       "      <td>997.50</td>\n",
       "      <td>64.77</td>\n",
       "      <td>38.76</td>\n",
       "    </tr>\n",
       "    <tr>\n",
       "      <th>3</th>\n",
       "      <td>880.91</td>\n",
       "      <td>64.77</td>\n",
       "      <td>38.76</td>\n",
       "    </tr>\n",
       "    <tr>\n",
       "      <th>4</th>\n",
       "      <td>2215.23</td>\n",
       "      <td>64.77</td>\n",
       "      <td>38.76</td>\n",
       "    </tr>\n",
       "    <tr>\n",
       "      <th>...</th>\n",
       "      <td>...</td>\n",
       "      <td>...</td>\n",
       "      <td>...</td>\n",
       "    </tr>\n",
       "    <tr>\n",
       "      <th>9989</th>\n",
       "      <td>251.73</td>\n",
       "      <td>37.91</td>\n",
       "      <td>24.76</td>\n",
       "    </tr>\n",
       "    <tr>\n",
       "      <th>9990</th>\n",
       "      <td>642.21</td>\n",
       "      <td>37.91</td>\n",
       "      <td>24.76</td>\n",
       "    </tr>\n",
       "    <tr>\n",
       "      <th>9991</th>\n",
       "      <td>124.35</td>\n",
       "      <td>37.91</td>\n",
       "      <td>24.76</td>\n",
       "    </tr>\n",
       "    <tr>\n",
       "      <th>9992</th>\n",
       "      <td>1162.35</td>\n",
       "      <td>37.91</td>\n",
       "      <td>24.76</td>\n",
       "    </tr>\n",
       "    <tr>\n",
       "      <th>9993</th>\n",
       "      <td>608.85</td>\n",
       "      <td>37.91</td>\n",
       "      <td>24.76</td>\n",
       "    </tr>\n",
       "  </tbody>\n",
       "</table>\n",
       "<p>9994 rows × 3 columns</p>\n",
       "</div>"
      ],
      "text/plain": [
       "      Sales Amount  Unit sale Price  Unit cost  Price\n",
       "0          1254.00            64.77             38.76\n",
       "1           448.87            64.77             38.76\n",
       "2           997.50            64.77             38.76\n",
       "3           880.91            64.77             38.76\n",
       "4          2215.23            64.77             38.76\n",
       "...            ...              ...               ...\n",
       "9989        251.73            37.91             24.76\n",
       "9990        642.21            37.91             24.76\n",
       "9991        124.35            37.91             24.76\n",
       "9992       1162.35            37.91             24.76\n",
       "9993        608.85            37.91             24.76\n",
       "\n",
       "[9994 rows x 3 columns]"
      ]
     },
     "execution_count": 135,
     "metadata": {},
     "output_type": "execute_result"
    }
   ],
   "source": [
    "S_R[['Sales Amount','Unit sale Price','Unit cost  Price']]"
   ]
  },
  {
   "cell_type": "code",
   "execution_count": 133,
   "id": "81621b99",
   "metadata": {},
   "outputs": [],
   "source": [
    "### changing the float data into 2 decimal point\n",
    "\n",
    "for i in L1:\n",
    "    S_R[i]=round(S_R[i],2)"
   ]
  },
  {
   "cell_type": "code",
   "execution_count": 136,
   "id": "2bc253dd",
   "metadata": {},
   "outputs": [],
   "source": [
    "S_R['Cost price']=S_R['Unit']*S_R['Unit cost  Price']"
   ]
  },
  {
   "cell_type": "code",
   "execution_count": 138,
   "id": "79b920d7",
   "metadata": {},
   "outputs": [],
   "source": [
    "S_R['Profit']=S_R['Sales Amount']-S_R['Cost price']"
   ]
  },
  {
   "cell_type": "code",
   "execution_count": 141,
   "id": "5bbf3b4c",
   "metadata": {},
   "outputs": [],
   "source": [
    "S_R.drop(columns=['Unit cost  Price','Unit sale Price'],inplace=True)"
   ]
  },
  {
   "cell_type": "code",
   "execution_count": 144,
   "id": "fa31b788",
   "metadata": {},
   "outputs": [
    {
     "data": {
      "text/plain": [
       "Order ID           object\n",
       "Order Date         object\n",
       "Unit                int64\n",
       "Sales Amount      float64\n",
       "Discount_pct      float64\n",
       "State code         object\n",
       "City               object\n",
       "Customer _code     object\n",
       "State              object\n",
       "Region             object\n",
       "Product code       object\n",
       "Product            object\n",
       "Category           object\n",
       "Customer Name      object\n",
       "Gender             object\n",
       "Age                 int64\n",
       "Cost price        float64\n",
       "Profit            float64\n",
       "dtype: object"
      ]
     },
     "execution_count": 144,
     "metadata": {},
     "output_type": "execute_result"
    }
   ],
   "source": [
    "S_R.dtypes"
   ]
  },
  {
   "cell_type": "code",
   "execution_count": 148,
   "id": "847b3b17",
   "metadata": {},
   "outputs": [],
   "source": [
    "S_R['Order Date']=pd.to_datetime(S_R['Order Date'])"
   ]
  },
  {
   "cell_type": "code",
   "execution_count": 150,
   "id": "aa7a79c9",
   "metadata": {},
   "outputs": [
    {
     "data": {
      "text/plain": [
       "Order ID                  object\n",
       "Order Date        datetime64[ns]\n",
       "Unit                       int64\n",
       "Sales Amount             float64\n",
       "Discount_pct             float64\n",
       "State code                object\n",
       "City                      object\n",
       "Customer _code            object\n",
       "State                     object\n",
       "Region                    object\n",
       "Product code              object\n",
       "Product                   object\n",
       "Category                  object\n",
       "Customer Name             object\n",
       "Gender                    object\n",
       "Age                        int64\n",
       "Cost price               float64\n",
       "Profit                   float64\n",
       "dtype: object"
      ]
     },
     "execution_count": 150,
     "metadata": {},
     "output_type": "execute_result"
    }
   ],
   "source": [
    "S_R.dtypes"
   ]
  },
  {
   "cell_type": "code",
   "execution_count": 151,
   "id": "fef3fcf2",
   "metadata": {},
   "outputs": [],
   "source": [
    "S_R['year']=S_R['Order Date'].dt.year"
   ]
  },
  {
   "cell_type": "code",
   "execution_count": 176,
   "id": "60d91b6d",
   "metadata": {},
   "outputs": [
    {
     "data": {
      "text/html": [
       "<div>\n",
       "<style scoped>\n",
       "    .dataframe tbody tr th:only-of-type {\n",
       "        vertical-align: middle;\n",
       "    }\n",
       "\n",
       "    .dataframe tbody tr th {\n",
       "        vertical-align: top;\n",
       "    }\n",
       "\n",
       "    .dataframe thead th {\n",
       "        text-align: right;\n",
       "    }\n",
       "</style>\n",
       "<table border=\"1\" class=\"dataframe\">\n",
       "  <thead>\n",
       "    <tr style=\"text-align: right;\">\n",
       "      <th></th>\n",
       "      <th>Order ID</th>\n",
       "      <th>Order Date</th>\n",
       "      <th>Unit</th>\n",
       "      <th>Sales Amount</th>\n",
       "      <th>Discount_pct</th>\n",
       "      <th>State code</th>\n",
       "      <th>City</th>\n",
       "      <th>Customer _code</th>\n",
       "      <th>State</th>\n",
       "      <th>Region</th>\n",
       "      <th>Product code</th>\n",
       "      <th>Product</th>\n",
       "      <th>Category</th>\n",
       "      <th>Customer Name</th>\n",
       "      <th>Gender</th>\n",
       "      <th>Age</th>\n",
       "      <th>Cost price</th>\n",
       "      <th>Profit</th>\n",
       "      <th>year</th>\n",
       "    </tr>\n",
       "  </thead>\n",
       "  <tbody>\n",
       "    <tr>\n",
       "      <th>0</th>\n",
       "      <td>OD1</td>\n",
       "      <td>2017-08-11</td>\n",
       "      <td>22</td>\n",
       "      <td>1254.00</td>\n",
       "      <td>0.12</td>\n",
       "      <td>KL</td>\n",
       "      <td>Kanoor</td>\n",
       "      <td>HAR807</td>\n",
       "      <td>Kerala</td>\n",
       "      <td>South</td>\n",
       "      <td>RFT488</td>\n",
       "      <td>Masalas</td>\n",
       "      <td>Oil &amp; Masala</td>\n",
       "      <td>Harish</td>\n",
       "      <td>F</td>\n",
       "      <td>17</td>\n",
       "      <td>852.72</td>\n",
       "      <td>401.28</td>\n",
       "      <td>2017</td>\n",
       "    </tr>\n",
       "    <tr>\n",
       "      <th>1</th>\n",
       "      <td>OD2872</td>\n",
       "      <td>2018-09-12</td>\n",
       "      <td>9</td>\n",
       "      <td>448.87</td>\n",
       "      <td>0.23</td>\n",
       "      <td>KL</td>\n",
       "      <td>Kollam</td>\n",
       "      <td>HAR807</td>\n",
       "      <td>Kerala</td>\n",
       "      <td>South</td>\n",
       "      <td>RFT488</td>\n",
       "      <td>Masalas</td>\n",
       "      <td>Oil &amp; Masala</td>\n",
       "      <td>Harish</td>\n",
       "      <td>F</td>\n",
       "      <td>17</td>\n",
       "      <td>348.84</td>\n",
       "      <td>100.03</td>\n",
       "      <td>2018</td>\n",
       "    </tr>\n",
       "    <tr>\n",
       "      <th>2</th>\n",
       "      <td>OD6105</td>\n",
       "      <td>2015-01-08</td>\n",
       "      <td>22</td>\n",
       "      <td>997.50</td>\n",
       "      <td>0.30</td>\n",
       "      <td>HP</td>\n",
       "      <td>Chamba</td>\n",
       "      <td>HAR807</td>\n",
       "      <td>Himachal Pradesh</td>\n",
       "      <td>North</td>\n",
       "      <td>RFT488</td>\n",
       "      <td>Masalas</td>\n",
       "      <td>Oil &amp; Masala</td>\n",
       "      <td>Harish</td>\n",
       "      <td>F</td>\n",
       "      <td>17</td>\n",
       "      <td>852.72</td>\n",
       "      <td>144.78</td>\n",
       "      <td>2015</td>\n",
       "    </tr>\n",
       "    <tr>\n",
       "      <th>3</th>\n",
       "      <td>OD1905</td>\n",
       "      <td>2017-09-04</td>\n",
       "      <td>17</td>\n",
       "      <td>880.91</td>\n",
       "      <td>0.20</td>\n",
       "      <td>TN</td>\n",
       "      <td>Krishnagiri</td>\n",
       "      <td>HAR807</td>\n",
       "      <td>Tamil Nadu</td>\n",
       "      <td>South</td>\n",
       "      <td>RFT488</td>\n",
       "      <td>Masalas</td>\n",
       "      <td>Oil &amp; Masala</td>\n",
       "      <td>Harish</td>\n",
       "      <td>F</td>\n",
       "      <td>17</td>\n",
       "      <td>658.92</td>\n",
       "      <td>221.99</td>\n",
       "      <td>2017</td>\n",
       "    </tr>\n",
       "    <tr>\n",
       "      <th>4</th>\n",
       "      <td>OD5831</td>\n",
       "      <td>2017-03-20</td>\n",
       "      <td>45</td>\n",
       "      <td>2215.23</td>\n",
       "      <td>0.24</td>\n",
       "      <td>MP</td>\n",
       "      <td>Jabalpur</td>\n",
       "      <td>HAR807</td>\n",
       "      <td>MadhyaPradesh</td>\n",
       "      <td>West</td>\n",
       "      <td>RFT488</td>\n",
       "      <td>Masalas</td>\n",
       "      <td>Oil &amp; Masala</td>\n",
       "      <td>Harish</td>\n",
       "      <td>F</td>\n",
       "      <td>17</td>\n",
       "      <td>1744.20</td>\n",
       "      <td>471.03</td>\n",
       "      <td>2017</td>\n",
       "    </tr>\n",
       "    <tr>\n",
       "      <th>...</th>\n",
       "      <td>...</td>\n",
       "      <td>...</td>\n",
       "      <td>...</td>\n",
       "      <td>...</td>\n",
       "      <td>...</td>\n",
       "      <td>...</td>\n",
       "      <td>...</td>\n",
       "      <td>...</td>\n",
       "      <td>...</td>\n",
       "      <td>...</td>\n",
       "      <td>...</td>\n",
       "      <td>...</td>\n",
       "      <td>...</td>\n",
       "      <td>...</td>\n",
       "      <td>...</td>\n",
       "      <td>...</td>\n",
       "      <td>...</td>\n",
       "      <td>...</td>\n",
       "      <td>...</td>\n",
       "    </tr>\n",
       "    <tr>\n",
       "      <th>9989</th>\n",
       "      <td>OD3571</td>\n",
       "      <td>2016-12-09</td>\n",
       "      <td>8</td>\n",
       "      <td>251.73</td>\n",
       "      <td>0.17</td>\n",
       "      <td>HP</td>\n",
       "      <td>Kasauli</td>\n",
       "      <td>KUM401</td>\n",
       "      <td>Himachal Pradesh</td>\n",
       "      <td>North</td>\n",
       "      <td>CLP243</td>\n",
       "      <td>Organic Vegetables</td>\n",
       "      <td>Fruits &amp; Veggies</td>\n",
       "      <td>Kumar</td>\n",
       "      <td>M</td>\n",
       "      <td>34</td>\n",
       "      <td>198.08</td>\n",
       "      <td>53.65</td>\n",
       "      <td>2016</td>\n",
       "    </tr>\n",
       "    <tr>\n",
       "      <th>9990</th>\n",
       "      <td>OD8799</td>\n",
       "      <td>2018-09-05</td>\n",
       "      <td>22</td>\n",
       "      <td>642.21</td>\n",
       "      <td>0.23</td>\n",
       "      <td>HP</td>\n",
       "      <td>Dharamsala</td>\n",
       "      <td>KUM401</td>\n",
       "      <td>Himachal Pradesh</td>\n",
       "      <td>North</td>\n",
       "      <td>CLP243</td>\n",
       "      <td>Organic Vegetables</td>\n",
       "      <td>Fruits &amp; Veggies</td>\n",
       "      <td>Kumar</td>\n",
       "      <td>M</td>\n",
       "      <td>34</td>\n",
       "      <td>544.72</td>\n",
       "      <td>97.49</td>\n",
       "      <td>2018</td>\n",
       "    </tr>\n",
       "    <tr>\n",
       "      <th>9991</th>\n",
       "      <td>OD285</td>\n",
       "      <td>2016-09-26</td>\n",
       "      <td>4</td>\n",
       "      <td>124.35</td>\n",
       "      <td>0.18</td>\n",
       "      <td>DL</td>\n",
       "      <td>Delhi</td>\n",
       "      <td>KUM401</td>\n",
       "      <td>Delhi</td>\n",
       "      <td>North</td>\n",
       "      <td>CLP243</td>\n",
       "      <td>Organic Vegetables</td>\n",
       "      <td>Fruits &amp; Veggies</td>\n",
       "      <td>Kumar</td>\n",
       "      <td>M</td>\n",
       "      <td>34</td>\n",
       "      <td>99.04</td>\n",
       "      <td>25.31</td>\n",
       "      <td>2016</td>\n",
       "    </tr>\n",
       "    <tr>\n",
       "      <th>9992</th>\n",
       "      <td>OD9059</td>\n",
       "      <td>2017-10-21</td>\n",
       "      <td>42</td>\n",
       "      <td>1162.35</td>\n",
       "      <td>0.27</td>\n",
       "      <td>AP</td>\n",
       "      <td>Vijayawada</td>\n",
       "      <td>KUM401</td>\n",
       "      <td>Andra Pradesh</td>\n",
       "      <td>South</td>\n",
       "      <td>CLP243</td>\n",
       "      <td>Organic Vegetables</td>\n",
       "      <td>Fruits &amp; Veggies</td>\n",
       "      <td>Kumar</td>\n",
       "      <td>M</td>\n",
       "      <td>34</td>\n",
       "      <td>1039.92</td>\n",
       "      <td>122.43</td>\n",
       "      <td>2017</td>\n",
       "    </tr>\n",
       "    <tr>\n",
       "      <th>9993</th>\n",
       "      <td>OD2211</td>\n",
       "      <td>2016-11-07</td>\n",
       "      <td>22</td>\n",
       "      <td>608.85</td>\n",
       "      <td>0.27</td>\n",
       "      <td>GU</td>\n",
       "      <td>Rajkot</td>\n",
       "      <td>KUM401</td>\n",
       "      <td>Gujarat</td>\n",
       "      <td>North</td>\n",
       "      <td>CLP243</td>\n",
       "      <td>Organic Vegetables</td>\n",
       "      <td>Fruits &amp; Veggies</td>\n",
       "      <td>Kumar</td>\n",
       "      <td>M</td>\n",
       "      <td>34</td>\n",
       "      <td>544.72</td>\n",
       "      <td>64.13</td>\n",
       "      <td>2016</td>\n",
       "    </tr>\n",
       "  </tbody>\n",
       "</table>\n",
       "<p>9994 rows × 19 columns</p>\n",
       "</div>"
      ],
      "text/plain": [
       "     Order ID Order Date  Unit  Sales Amount  Discount_pct State code  \\\n",
       "0         OD1 2017-08-11    22       1254.00          0.12         KL   \n",
       "1      OD2872 2018-09-12     9        448.87          0.23         KL   \n",
       "2      OD6105 2015-01-08    22        997.50          0.30         HP   \n",
       "3      OD1905 2017-09-04    17        880.91          0.20         TN   \n",
       "4      OD5831 2017-03-20    45       2215.23          0.24         MP   \n",
       "...       ...        ...   ...           ...           ...        ...   \n",
       "9989   OD3571 2016-12-09     8        251.73          0.17         HP   \n",
       "9990   OD8799 2018-09-05    22        642.21          0.23         HP   \n",
       "9991    OD285 2016-09-26     4        124.35          0.18         DL   \n",
       "9992   OD9059 2017-10-21    42       1162.35          0.27         AP   \n",
       "9993   OD2211 2016-11-07    22        608.85          0.27         GU   \n",
       "\n",
       "             City Customer _code             State Region Product code  \\\n",
       "0          Kanoor         HAR807            Kerala  South       RFT488   \n",
       "1          Kollam         HAR807            Kerala  South       RFT488   \n",
       "2          Chamba         HAR807  Himachal Pradesh  North       RFT488   \n",
       "3     Krishnagiri         HAR807        Tamil Nadu  South       RFT488   \n",
       "4        Jabalpur         HAR807     MadhyaPradesh   West       RFT488   \n",
       "...           ...            ...               ...    ...          ...   \n",
       "9989      Kasauli         KUM401  Himachal Pradesh  North       CLP243   \n",
       "9990   Dharamsala         KUM401  Himachal Pradesh  North       CLP243   \n",
       "9991        Delhi         KUM401             Delhi  North       CLP243   \n",
       "9992   Vijayawada         KUM401     Andra Pradesh  South       CLP243   \n",
       "9993       Rajkot         KUM401           Gujarat  North       CLP243   \n",
       "\n",
       "                 Product          Category Customer Name Gender   Age  \\\n",
       "0                Masalas      Oil & Masala        Harish       F   17   \n",
       "1                Masalas      Oil & Masala        Harish       F   17   \n",
       "2                Masalas      Oil & Masala        Harish       F   17   \n",
       "3                Masalas      Oil & Masala        Harish       F   17   \n",
       "4                Masalas      Oil & Masala        Harish       F   17   \n",
       "...                  ...               ...           ...     ...  ...   \n",
       "9989  Organic Vegetables  Fruits & Veggies         Kumar       M   34   \n",
       "9990  Organic Vegetables  Fruits & Veggies         Kumar       M   34   \n",
       "9991  Organic Vegetables  Fruits & Veggies         Kumar       M   34   \n",
       "9992  Organic Vegetables  Fruits & Veggies         Kumar       M   34   \n",
       "9993  Organic Vegetables  Fruits & Veggies         Kumar       M   34   \n",
       "\n",
       "      Cost price  Profit  year  \n",
       "0         852.72  401.28  2017  \n",
       "1         348.84  100.03  2018  \n",
       "2         852.72  144.78  2015  \n",
       "3         658.92  221.99  2017  \n",
       "4        1744.20  471.03  2017  \n",
       "...          ...     ...   ...  \n",
       "9989      198.08   53.65  2016  \n",
       "9990      544.72   97.49  2018  \n",
       "9991       99.04   25.31  2016  \n",
       "9992     1039.92  122.43  2017  \n",
       "9993      544.72   64.13  2016  \n",
       "\n",
       "[9994 rows x 19 columns]"
      ]
     },
     "execution_count": 176,
     "metadata": {},
     "output_type": "execute_result"
    }
   ],
   "source": [
    "S_R"
   ]
  },
  {
   "cell_type": "code",
   "execution_count": 153,
   "id": "0d7b9a04",
   "metadata": {},
   "outputs": [],
   "source": [
    "sales_year=S_R.groupby('year')['Sales Amount'].sum()"
   ]
  },
  {
   "cell_type": "code",
   "execution_count": 155,
   "id": "f092aeff",
   "metadata": {},
   "outputs": [
    {
     "data": {
      "text/plain": [
       "pandas.core.series.Series"
      ]
     },
     "execution_count": 155,
     "metadata": {},
     "output_type": "execute_result"
    }
   ],
   "source": [
    "type(sales_year)"
   ]
  },
  {
   "cell_type": "code",
   "execution_count": 180,
   "id": "8b2c1b72",
   "metadata": {},
   "outputs": [
    {
     "data": {
      "image/png": "[encoded data removed]",
      "text/plain": [
       "<Figure size 500x500 with 1 Axes>"
      ]
     },
     "metadata": {},
     "output_type": "display_data"
    }
   ],
   "source": [
    "colors=[\"red\",\"green\",\"yellow\",\"blue\"]\n",
    "plt.figure(figsize=(5,5))\n",
    "\n",
    "plt.bar(sales_year.index,height=sales_year.values,width=0.4,color=colors)\n",
    "\n",
    "plt.xlabel(\"year\")\n",
    "plt.ylabel('sale_amount')\n",
    "plt.title(\"Year by Sales\")\n",
    "plt.xticks(rotation=75)\n",
    "\n",
    "\n",
    "plt.show()"
   ]
  },
  {
   "cell_type": "code",
   "execution_count": 168,
   "id": "64ea1e30",
   "metadata": {},
   "outputs": [
    {
     "data": {
      "text/plain": [
       "[<matplotlib.lines.Line2D at 0x281bc030c10>]"
      ]
     },
     "execution_count": 168,
     "metadata": {},
     "output_type": "execute_result"
    },
    {
     "data": {
      "image/png": "[encoded data removed]",
      "text/plain": [
       "<Figure size 640x480 with 1 Axes>"
      ]
     },
     "metadata": {},
     "output_type": "display_data"
    }
   ],
   "source": [
    "plt.plot(sales_year.index,sales_year.values)"
   ]
  },
  {
   "cell_type": "code",
   "execution_count": 174,
   "id": "11c1aa79",
   "metadata": {},
   "outputs": [
    {
     "data": {
      "text/plain": [
       "([<matplotlib.patches.Wedge at 0x281bc0a5b50>,\n",
       "  <matplotlib.patches.Wedge at 0x281bc0a6c50>,\n",
       "  <matplotlib.patches.Wedge at 0x281bc0bc210>,\n",
       "  <matplotlib.patches.Wedge at 0x281bc0bd690>],\n",
       " [Text(0.8837683214097334, 0.6549454588533479, '2015'),\n",
       "  Text(-0.37829393655923677, 1.0329054640007072, '2016'),\n",
       "  Text(-1.0698209114060406, -0.25589688844991615, '2017'),\n",
       "  Text(0.5479837277687611, -0.9537891979366575, '2018')],\n",
       " [Text(0.4820554480416727, 0.3572429775563715, '20.300837'),\n",
       "  Text(-0.2063421472141291, 0.563402980364022, '20.573260'),\n",
       "  Text(-0.5835386789487493, -0.13958012097268152, '25.725234'),\n",
       "  Text(0.2989002151465969, -0.5202486534199949, '33.400676')])"
      ]
     },
     "execution_count": 174,
     "metadata": {},
     "output_type": "execute_result"
    },
    {
     "data": {
      "image/png": "[encoded data removed]",
      "text/plain": [
       "<Figure size 640x480 with 1 Axes>"
      ]
     },
     "metadata": {},
     "output_type": "display_data"
    }
   ],
   "source": [
    "plt.pie(x=sales_year.values,labels=sales_year.index,autopct='%2f')"
   ]
  },
  {
   "cell_type": "code",
   "execution_count": 181,
   "id": "4370795a",
   "metadata": {},
   "outputs": [
    {
     "data": {
      "text/plain": [
       "18197269.62"
      ]
     },
     "execution_count": 181,
     "metadata": {},
     "output_type": "execute_result"
    }
   ],
   "source": [
    "np.sum(S_R['Sales Amount'])"
   ]
  },
  {
   "cell_type": "code",
   "execution_count": 182,
   "id": "a500819f",
   "metadata": {},
   "outputs": [
    {
     "data": {
      "text/plain": [
       "1820.8194536722035"
      ]
     },
     "execution_count": 182,
     "metadata": {},
     "output_type": "execute_result"
    }
   ],
   "source": [
    "np.mean(S_R['Sales Amount'])"
   ]
  },
  {
   "cell_type": "code",
   "execution_count": 186,
   "id": "02ed45da",
   "metadata": {},
   "outputs": [
    {
     "data": {
      "text/plain": [
       "Text(0, 0.5, 'count')"
      ]
     },
     "execution_count": 186,
     "metadata": {},
     "output_type": "execute_result"
    },
    {
     "data": {
      "image/png": "[encoded data removed]",
      "text/plain": [
       "<Figure size 500x500 with 1 Axes>"
      ]
     },
     "metadata": {},
     "output_type": "display_data"
    }
   ],
   "source": [
    "### I want to know the age distribution in my data set\n",
    "\n",
    "plt.figure(figsize=(5,5))\n",
    "\n",
    "plt.hist(S_R['Age'])\n",
    "\n",
    "plt.xlabel('Age')\n",
    "\n",
    "plt.ylabel('count')"
   ]
  },
  {
   "cell_type": "code",
   "execution_count": 192,
   "id": "bcc4e8c1",
   "metadata": {},
   "outputs": [
    {
     "data": {
      "text/plain": [
       "<matplotlib.collections.PathCollection at 0x281bdb4e710>"
      ]
     },
     "execution_count": 192,
     "metadata": {},
     "output_type": "execute_result"
    },
    {
     "data": {
      "image/png": "[encoded data removed]",
      "text/plain": [
       "<Figure size 640x480 with 1 Axes>"
      ]
     },
     "metadata": {},
     "output_type": "display_data"
    }
   ],
   "source": [
    "plt.scatter(S_R['Cost price'],S_R['Sales Amount'])"
   ]
  },
  {
   "cell_type": "code",
   "execution_count": 195,
   "id": "3e128b01",
   "metadata": {},
   "outputs": [],
   "source": [
    "sales_cat=S_R.groupby('Category')['Sales Amount'].sum()"
   ]
  },
  {
   "cell_type": "code",
   "execution_count": 216,
   "id": "d6cf5f4b",
   "metadata": {},
   "outputs": [
    {
     "data": {
      "text/plain": [
       "Category\n",
       "Bakery               3120863.26\n",
       "Beverages            1913288.79\n",
       "Eggs, Meat & Fish    1672755.08\n",
       "Food Grains          3182499.72\n",
       "Fruits & Veggies     1356803.87\n",
       "Oil & Masala         4628853.09\n",
       "Snacks               2322205.81\n",
       "Name: Sales Amount, dtype: float64"
      ]
     },
     "execution_count": 216,
     "metadata": {},
     "output_type": "execute_result"
    }
   ],
   "source": [
    "sales_cat"
   ]
  },
  {
   "cell_type": "code",
   "execution_count": 205,
   "id": "1b5b164b",
   "metadata": {},
   "outputs": [
    {
     "data": {
      "text/plain": [
       "Text(0, 0.5, 'sales')"
      ]
     },
     "execution_count": 205,
     "metadata": {},
     "output_type": "execute_result"
    },
    {
     "data": {
      "image/png": "[encoded data removed]",
      "text/plain": [
       "<Figure size 640x480 with 1 Axes>"
      ]
     },
     "metadata": {},
     "output_type": "display_data"
    }
   ],
   "source": [
    "### seaborn \n",
    "\n",
    "sns.barplot(x=sales_cat.index,y=sales_cat.values,estimator='sum')\n",
    "plt.xticks(rotation=70)\n",
    "plt.xlabel(\"Category\")\n",
    "plt.ylabel(\"sales\")"
   ]
  },
  {
   "cell_type": "code",
   "execution_count": 221,
   "id": "36eff1fe",
   "metadata": {},
   "outputs": [
    {
     "data": {
      "text/plain": [
       "Text(0, 0.5, 'sales')"
      ]
     },
     "execution_count": 221,
     "metadata": {},
     "output_type": "execute_result"
    },
    {
     "data": {
      "image/png": "[encoded data removed]",
      "text/plain": [
       "<Figure size 640x480 with 1 Axes>"
      ]
     },
     "metadata": {},
     "output_type": "display_data"
    }
   ],
   "source": [
    "order=['Bakery','Beverages','Eggs, Meat & Fish','Food Grains','Fruits & Veggies','Oil & Masala','Snacks']\n",
    "sns.barplot(x=S_R['Category'],y=S_R['Sales Amount'],estimator='sum',order=order)\n",
    "plt.xticks(rotation=70)\n",
    "plt.xlabel(\"Category\")\n",
    "plt.ylabel(\"sales\")"
   ]
  },
  {
   "cell_type": "code",
   "execution_count": 225,
   "id": "f284a4d7",
   "metadata": {},
   "outputs": [
    {
     "data": {
      "text/plain": [
       "<Axes: xlabel='year', ylabel='Profit'>"
      ]
     },
     "execution_count": 225,
     "metadata": {},
     "output_type": "execute_result"
    },
    {
     "data": {
      "image/png": "[encoded data removed]",
      "text/plain": [
       "<Figure size 640x480 with 1 Axes>"
      ]
     },
     "metadata": {},
     "output_type": "display_data"
    }
   ],
   "source": [
    "sns.lineplot(data=S_R,x='year',y='Profit')"
   ]
  },
  {
   "cell_type": "code",
   "execution_count": 227,
   "id": "3634f698",
   "metadata": {},
   "outputs": [],
   "source": [
    "## export the data inot excle "
   ]
  },
  {
   "cell_type": "code",
   "execution_count": 228,
   "id": "423b37f4",
   "metadata": {},
   "outputs": [],
   "source": [
    "import os "
   ]
  },
  {
   "cell_type": "code",
   "execution_count": 239,
   "id": "d569eed3",
   "metadata": {},
   "outputs": [],
   "source": [
    "dirs= os.path.expanduser('~/downloads')\n",
    "file=os.path.join(dirs,'result1.pdf')\n",
    "\n"
   ]
  },
  {
   "cell_type": "code",
   "execution_count": 234,
   "id": "30386371",
   "metadata": {},
   "outputs": [
    {
     "data": {
      "text/plain": [
       "'C:\\\\Users\\\\prash/downloads\\\\result.xlsx'"
      ]
     },
     "execution_count": 234,
     "metadata": {},
     "output_type": "execute_result"
    }
   ],
   "source": [
    "file"
   ]
  },
  {
   "cell_type": "code",
   "execution_count": 235,
   "id": "089c3fd0",
   "metadata": {},
   "outputs": [],
   "source": [
    "writer=pd.ExcelWriter(file)"
   ]
  },
  {
   "cell_type": "code",
   "execution_count": 237,
   "id": "6dd41160",
   "metadata": {},
   "outputs": [],
   "source": [
    "S_R.to_excel(writer,sheet_name=\"Data\",index=False)"
   ]
  },
  {
   "cell_type": "code",
   "execution_count": 238,
   "id": "1a8e258c",
   "metadata": {},
   "outputs": [],
   "source": [
    "writer.close()"
   ]
  },
  {
   "cell_type": "code",
   "execution_count": null,
   "id": "8172ed83",
   "metadata": {},
   "outputs": [],
   "source": []
  }
 ],
 "metadata": {
  "kernelspec": {
   "display_name": "Python 3 (ipykernel)",
   "language": "python",
   "name": "python3"
  },
  "language_info": {
   "codemirror_mode": {
    "name": "ipython",
    "version": 3
   },
   "file_extension": ".py",
   "mimetype": "text/x-python",
   "name": "python",
   "nbconvert_exporter": "python",
   "pygments_lexer": "ipython3",
   "version": "3.11.5"
  }
 },
 "nbformat": 4,
 "nbformat_minor": 5
}
