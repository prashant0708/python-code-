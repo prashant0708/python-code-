{
 "cells": [
  {
   "cell_type": "markdown",
   "id": "cf6eef4c",
   "metadata": {},
   "source": [
    "## In python day 2 \n",
    "- Python in-build data structure.\n",
    "   - List\n",
    "   - Tuple\n",
    "   - set\n",
    "   - dictionary"
   ]
  },
  {
   "cell_type": "markdown",
   "id": "195d0575",
   "metadata": {},
   "source": [
    "## list \n",
    "\n",
    "list is one of the inbilt data stracture which is use to store the various type of data.perform the various operation"
   ]
  },
  {
   "cell_type": "code",
   "execution_count": 3,
   "id": "1ccb1359",
   "metadata": {},
   "outputs": [],
   "source": [
    "l=[]"
   ]
  },
  {
   "cell_type": "code",
   "execution_count": 4,
   "id": "2617d04c",
   "metadata": {},
   "outputs": [
    {
     "data": {
      "text/plain": [
       "[]"
      ]
     },
     "execution_count": 4,
     "metadata": {},
     "output_type": "execute_result"
    }
   ],
   "source": [
    "l"
   ]
  },
  {
   "cell_type": "code",
   "execution_count": 9,
   "id": "a1de2bce",
   "metadata": {},
   "outputs": [
    {
     "name": "stdout",
     "output_type": "stream",
     "text": [
      "[1, 2, 3, 4, 5, 'Bangalore', 'Delhi', 'Apple']\n"
     ]
    }
   ],
   "source": [
    "l=[1,2,3,4,5,\"Bangalore\",\"Delhi\",\"Apple\"]\n",
    "print(l)"
   ]
  },
  {
   "cell_type": "code",
   "execution_count": 6,
   "id": "4ccaed66",
   "metadata": {},
   "outputs": [
    {
     "data": {
      "text/plain": [
       "[1, 2, 3, 4, 5, 'Bangalore', 'Delhi', 'Apple']"
      ]
     },
     "execution_count": 6,
     "metadata": {},
     "output_type": "execute_result"
    }
   ],
   "source": [
    "l"
   ]
  },
  {
   "cell_type": "code",
   "execution_count": 7,
   "id": "eb9b8763",
   "metadata": {},
   "outputs": [
    {
     "data": {
      "text/plain": [
       "list"
      ]
     },
     "execution_count": 7,
     "metadata": {},
     "output_type": "execute_result"
    }
   ],
   "source": [
    "type(l)"
   ]
  },
  {
   "cell_type": "markdown",
   "id": "1d13dc1e",
   "metadata": {},
   "source": [
    "# List operation "
   ]
  },
  {
   "cell_type": "code",
   "execution_count": 12,
   "id": "d0683ba0",
   "metadata": {},
   "outputs": [
    {
     "data": {
      "text/plain": [
       "1"
      ]
     },
     "execution_count": 12,
     "metadata": {},
     "output_type": "execute_result"
    }
   ],
   "source": [
    "## slicing \n",
    "\n",
    "l[0]"
   ]
  },
  {
   "cell_type": "code",
   "execution_count": 13,
   "id": "1ae9788d",
   "metadata": {},
   "outputs": [
    {
     "data": {
      "text/plain": [
       "3"
      ]
     },
     "execution_count": 13,
     "metadata": {},
     "output_type": "execute_result"
    }
   ],
   "source": [
    "l[2]"
   ]
  },
  {
   "cell_type": "code",
   "execution_count": 14,
   "id": "bc6e9bf1",
   "metadata": {},
   "outputs": [
    {
     "data": {
      "text/plain": [
       "5"
      ]
     },
     "execution_count": 14,
     "metadata": {},
     "output_type": "execute_result"
    }
   ],
   "source": [
    "l[4]"
   ]
  },
  {
   "cell_type": "code",
   "execution_count": 19,
   "id": "36e6e931",
   "metadata": {},
   "outputs": [
    {
     "ename": "IndexError",
     "evalue": "list index out of range",
     "output_type": "error",
     "traceback": [
      "\u001b[1;31m---------------------------------------------------------------------------\u001b[0m",
      "\u001b[1;31mIndexError\u001b[0m                                Traceback (most recent call last)",
      "Cell \u001b[1;32mIn[19], line 1\u001b[0m\n\u001b[1;32m----> 1\u001b[0m l[\u001b[38;5;241m15\u001b[39m]\n",
      "\u001b[1;31mIndexError\u001b[0m: list index out of range"
     ]
    }
   ],
   "source": [
    "l[15] ## this index number is not available "
   ]
  },
  {
   "cell_type": "code",
   "execution_count": 18,
   "id": "b1335518",
   "metadata": {},
   "outputs": [
    {
     "data": {
      "text/plain": [
       "'Delhi'"
      ]
     },
     "execution_count": 18,
     "metadata": {},
     "output_type": "execute_result"
    }
   ],
   "source": [
    "l[6]"
   ]
  },
  {
   "cell_type": "code",
   "execution_count": 21,
   "id": "785f8d35",
   "metadata": {},
   "outputs": [
    {
     "data": {
      "text/plain": [
       "[1, 2, 3, 4, 5]"
      ]
     },
     "execution_count": 21,
     "metadata": {},
     "output_type": "execute_result"
    }
   ],
   "source": [
    "l[0:5]"
   ]
  },
  {
   "cell_type": "code",
   "execution_count": 23,
   "id": "2f203a5c",
   "metadata": {},
   "outputs": [
    {
     "data": {
      "text/plain": [
       "[1, 2, 3, 4, 5, 'Bangalore', 'Delhi', 'Apple']"
      ]
     },
     "execution_count": 23,
     "metadata": {},
     "output_type": "execute_result"
    }
   ],
   "source": [
    "## you want to print the entire list \n",
    "l[::]"
   ]
  },
  {
   "cell_type": "code",
   "execution_count": 26,
   "id": "823eebef",
   "metadata": {},
   "outputs": [
    {
     "data": {
      "text/plain": [
       "[1, 2, 3, 4, 5, 'Bangalore', 'Delhi', 'Apple']"
      ]
     },
     "execution_count": 26,
     "metadata": {},
     "output_type": "execute_result"
    }
   ],
   "source": [
    "## print the entire list and jumpy by 1\n",
    "\n",
    "l[::2]"
   ]
  },
  {
   "cell_type": "code",
   "execution_count": 27,
   "id": "2f9b7096",
   "metadata": {},
   "outputs": [
    {
     "data": {
      "text/plain": [
       "[1, 5]"
      ]
     },
     "execution_count": 27,
     "metadata": {},
     "output_type": "execute_result"
    }
   ],
   "source": [
    "## print the entire list and jump by 3\n",
    "\n",
    "l[::4]"
   ]
  },
  {
   "cell_type": "code",
   "execution_count": 28,
   "id": "5b46a714",
   "metadata": {},
   "outputs": [
    {
     "data": {
      "text/plain": [
       "['Apple', 'Delhi', 'Bangalore', 5, 4, 3, 2, 1]"
      ]
     },
     "execution_count": 28,
     "metadata": {},
     "output_type": "execute_result"
    }
   ],
   "source": [
    "## print the list into reverse \n",
    "\n",
    "l[::-1]"
   ]
  },
  {
   "cell_type": "code",
   "execution_count": 29,
   "id": "db3f5747",
   "metadata": {},
   "outputs": [
    {
     "data": {
      "text/plain": [
       "[1, 2, 3, 4, 5, 'Bangalore']"
      ]
     },
     "execution_count": 29,
     "metadata": {},
     "output_type": "execute_result"
    }
   ],
   "source": [
    "l[:-2]"
   ]
  },
  {
   "cell_type": "code",
   "execution_count": 30,
   "id": "2246b496",
   "metadata": {},
   "outputs": [
    {
     "data": {
      "text/plain": [
       "[1, 2, 3, 4, 5, 'Bangalore', 'Delhi', 'Apple']"
      ]
     },
     "execution_count": 30,
     "metadata": {},
     "output_type": "execute_result"
    }
   ],
   "source": [
    "l"
   ]
  },
  {
   "cell_type": "code",
   "execution_count": 39,
   "id": "ada73f3a",
   "metadata": {},
   "outputs": [
    {
     "data": {
      "text/plain": [
       "['Apple', 'Delhi', 'Bangalore']"
      ]
     },
     "execution_count": 39,
     "metadata": {},
     "output_type": "execute_result"
    }
   ],
   "source": [
    "l[-1:-4:-1]"
   ]
  },
  {
   "cell_type": "code",
   "execution_count": 42,
   "id": "e2f97e83",
   "metadata": {},
   "outputs": [
    {
     "data": {
      "text/plain": [
       "[5, 4, 3, 2, 1]"
      ]
     },
     "execution_count": 42,
     "metadata": {},
     "output_type": "execute_result"
    }
   ],
   "source": [
    "l[-4:-10:-1]"
   ]
  },
  {
   "cell_type": "code",
   "execution_count": 43,
   "id": "cef99bc7",
   "metadata": {},
   "outputs": [
    {
     "data": {
      "text/plain": [
       "[5, 3, 1]"
      ]
     },
     "execution_count": 43,
     "metadata": {},
     "output_type": "execute_result"
    }
   ],
   "source": [
    "l[-4:-10:-2]"
   ]
  },
  {
   "cell_type": "code",
   "execution_count": 45,
   "id": "5041d60b",
   "metadata": {},
   "outputs": [
    {
     "data": {
      "text/plain": [
       "5"
      ]
     },
     "execution_count": 45,
     "metadata": {},
     "output_type": "execute_result"
    }
   ],
   "source": [
    "## know the index of the list items \n",
    "\n",
    "l.index(\"Bangalore\")"
   ]
  },
  {
   "cell_type": "code",
   "execution_count": 46,
   "id": "bee95233",
   "metadata": {},
   "outputs": [
    {
     "data": {
      "text/plain": [
       "True"
      ]
     },
     "execution_count": 46,
     "metadata": {},
     "output_type": "execute_result"
    }
   ],
   "source": [
    "### know wheater items are in the list or not \n",
    "\n",
    "\"Bangalore\" in l"
   ]
  },
  {
   "cell_type": "code",
   "execution_count": 47,
   "id": "0d70c9bf",
   "metadata": {},
   "outputs": [
    {
     "data": {
      "text/plain": [
       "False"
      ]
     },
     "execution_count": 47,
     "metadata": {},
     "output_type": "execute_result"
    }
   ],
   "source": [
    "100 in l"
   ]
  },
  {
   "cell_type": "code",
   "execution_count": 48,
   "id": "58053f64",
   "metadata": {},
   "outputs": [
    {
     "data": {
      "text/plain": [
       "True"
      ]
     },
     "execution_count": 48,
     "metadata": {},
     "output_type": "execute_result"
    }
   ],
   "source": [
    "5 in l"
   ]
  },
  {
   "cell_type": "code",
   "execution_count": 49,
   "id": "275c3875",
   "metadata": {},
   "outputs": [],
   "source": [
    "## appedning \n",
    "l2=[\"Mona\",\"Sona\",\"Tona\"]"
   ]
  },
  {
   "cell_type": "code",
   "execution_count": 51,
   "id": "4ac1c189",
   "metadata": {},
   "outputs": [],
   "source": [
    "l.append(l2)"
   ]
  },
  {
   "cell_type": "code",
   "execution_count": 52,
   "id": "d82e20ae",
   "metadata": {},
   "outputs": [
    {
     "data": {
      "text/plain": [
       "[1, 2, 3, 4, 5, 'Bangalore', 'Delhi', 'Apple', ['Mona', 'Sona', 'Tona']]"
      ]
     },
     "execution_count": 52,
     "metadata": {},
     "output_type": "execute_result"
    }
   ],
   "source": [
    "l"
   ]
  },
  {
   "cell_type": "code",
   "execution_count": 57,
   "id": "22f36f30",
   "metadata": {},
   "outputs": [
    {
     "data": {
      "text/plain": [
       "['Mona', 'Sona', 'Tona']"
      ]
     },
     "execution_count": 57,
     "metadata": {},
     "output_type": "execute_result"
    }
   ],
   "source": [
    "l[8] ## we reach till last list "
   ]
  },
  {
   "cell_type": "code",
   "execution_count": 58,
   "id": "e59e2848",
   "metadata": {},
   "outputs": [
    {
     "data": {
      "text/plain": [
       "'Mona'"
      ]
     },
     "execution_count": 58,
     "metadata": {},
     "output_type": "execute_result"
    }
   ],
   "source": [
    "### to access the neste list itms \n",
    "\n",
    "l[8][0]"
   ]
  },
  {
   "cell_type": "code",
   "execution_count": 59,
   "id": "49ed203e",
   "metadata": {},
   "outputs": [
    {
     "data": {
      "text/plain": [
       "'Sona'"
      ]
     },
     "execution_count": 59,
     "metadata": {},
     "output_type": "execute_result"
    }
   ],
   "source": [
    "l[8][1]"
   ]
  },
  {
   "cell_type": "code",
   "execution_count": 60,
   "id": "a00ebbe5",
   "metadata": {},
   "outputs": [
    {
     "data": {
      "text/plain": [
       "'Tona'"
      ]
     },
     "execution_count": 60,
     "metadata": {},
     "output_type": "execute_result"
    }
   ],
   "source": [
    "l[8][2]"
   ]
  },
  {
   "cell_type": "code",
   "execution_count": 67,
   "id": "ad914833",
   "metadata": {},
   "outputs": [
    {
     "data": {
      "text/plain": [
       "['Sona', 'Mona']"
      ]
     },
     "execution_count": 67,
     "metadata": {},
     "output_type": "execute_result"
    }
   ],
   "source": [
    "l[8][-2:-4:-1]"
   ]
  },
  {
   "cell_type": "code",
   "execution_count": 68,
   "id": "635b462c",
   "metadata": {},
   "outputs": [
    {
     "data": {
      "text/plain": [
       "['Sona', 'Tona']"
      ]
     },
     "execution_count": 68,
     "metadata": {},
     "output_type": "execute_result"
    }
   ],
   "source": [
    "l[8][1:3]"
   ]
  },
  {
   "cell_type": "code",
   "execution_count": 70,
   "id": "3b4fe661",
   "metadata": {},
   "outputs": [],
   "source": [
    "l.append(\"Papaya\")"
   ]
  },
  {
   "cell_type": "code",
   "execution_count": 71,
   "id": "4a0d447e",
   "metadata": {},
   "outputs": [
    {
     "data": {
      "text/plain": [
       "[1,\n",
       " 2,\n",
       " 3,\n",
       " 4,\n",
       " 5,\n",
       " 'Bangalore',\n",
       " 'Delhi',\n",
       " 'Apple',\n",
       " ['Mona', 'Sona', 'Tona'],\n",
       " 'Papaya']"
      ]
     },
     "execution_count": 71,
     "metadata": {},
     "output_type": "execute_result"
    }
   ],
   "source": [
    "l"
   ]
  },
  {
   "cell_type": "code",
   "execution_count": 72,
   "id": "9e9de39b",
   "metadata": {},
   "outputs": [],
   "source": [
    "## insert \n",
    "\n",
    "l.insert(0,23)"
   ]
  },
  {
   "cell_type": "code",
   "execution_count": 73,
   "id": "945210a8",
   "metadata": {},
   "outputs": [
    {
     "data": {
      "text/plain": [
       "[23,\n",
       " 1,\n",
       " 2,\n",
       " 3,\n",
       " 4,\n",
       " 5,\n",
       " 'Bangalore',\n",
       " 'Delhi',\n",
       " 'Apple',\n",
       " ['Mona', 'Sona', 'Tona'],\n",
       " 'Papaya']"
      ]
     },
     "execution_count": 73,
     "metadata": {},
     "output_type": "execute_result"
    }
   ],
   "source": [
    "l"
   ]
  },
  {
   "cell_type": "code",
   "execution_count": 79,
   "id": "3f519228",
   "metadata": {},
   "outputs": [
    {
     "ename": "IndexError",
     "evalue": "pop index out of range",
     "output_type": "error",
     "traceback": [
      "\u001b[1;31m---------------------------------------------------------------------------\u001b[0m",
      "\u001b[1;31mIndexError\u001b[0m                                Traceback (most recent call last)",
      "Cell \u001b[1;32mIn[79], line 2\u001b[0m\n\u001b[0;32m      1\u001b[0m \u001b[38;5;66;03m## pop operation \u001b[39;00m\n\u001b[1;32m----> 2\u001b[0m l\u001b[38;5;241m.\u001b[39mpop(\u001b[38;5;241m9\u001b[39m)\n",
      "\u001b[1;31mIndexError\u001b[0m: pop index out of range"
     ]
    }
   ],
   "source": [
    "## pop operation \n",
    "l.pop(9)"
   ]
  },
  {
   "cell_type": "code",
   "execution_count": 76,
   "id": "ac3d456f",
   "metadata": {},
   "outputs": [
    {
     "data": {
      "text/plain": [
       "2"
      ]
     },
     "execution_count": 76,
     "metadata": {},
     "output_type": "execute_result"
    }
   ],
   "source": [
    "l.pop(2)"
   ]
  },
  {
   "cell_type": "code",
   "execution_count": 78,
   "id": "92771340",
   "metadata": {},
   "outputs": [
    {
     "data": {
      "text/plain": [
       "[23, 1, 3, 4, 5, 'Bangalore', 'Delhi', 'Apple', ['Mona', 'Sona', 'Tona']]"
      ]
     },
     "execution_count": 78,
     "metadata": {},
     "output_type": "execute_result"
    }
   ],
   "source": [
    "l"
   ]
  },
  {
   "cell_type": "code",
   "execution_count": 82,
   "id": "a715566f",
   "metadata": {},
   "outputs": [],
   "source": [
    "l.remove(23)"
   ]
  },
  {
   "cell_type": "code",
   "execution_count": 83,
   "id": "cb795b7b",
   "metadata": {},
   "outputs": [
    {
     "data": {
      "text/plain": [
       "[1, 3, 4, 5, 'Bangalore', 'Delhi', 'Apple', ['Mona', 'Sona', 'Tona']]"
      ]
     },
     "execution_count": 83,
     "metadata": {},
     "output_type": "execute_result"
    }
   ],
   "source": [
    "l"
   ]
  },
  {
   "cell_type": "code",
   "execution_count": 85,
   "id": "ada10d7f",
   "metadata": {},
   "outputs": [],
   "source": [
    "l[7].remove('Sona')"
   ]
  },
  {
   "cell_type": "code",
   "execution_count": 86,
   "id": "290f2d82",
   "metadata": {},
   "outputs": [
    {
     "data": {
      "text/plain": [
       "[1, 3, 4, 5, 'Bangalore', 'Delhi', 'Apple', ['Mona', 'Tona']]"
      ]
     },
     "execution_count": 86,
     "metadata": {},
     "output_type": "execute_result"
    }
   ],
   "source": [
    "\n",
    "l"
   ]
  },
  {
   "cell_type": "code",
   "execution_count": 87,
   "id": "2fd29cac",
   "metadata": {},
   "outputs": [
    {
     "data": {
      "text/plain": [
       "'Tona'"
      ]
     },
     "execution_count": 87,
     "metadata": {},
     "output_type": "execute_result"
    }
   ],
   "source": [
    "l[7].pop(1)"
   ]
  },
  {
   "cell_type": "code",
   "execution_count": 88,
   "id": "f035a1fe",
   "metadata": {},
   "outputs": [
    {
     "data": {
      "text/plain": [
       "[1, 3, 4, 5, 'Bangalore', 'Delhi', 'Apple', ['Mona']]"
      ]
     },
     "execution_count": 88,
     "metadata": {},
     "output_type": "execute_result"
    }
   ],
   "source": [
    "l"
   ]
  },
  {
   "cell_type": "code",
   "execution_count": 89,
   "id": "6082b96b",
   "metadata": {},
   "outputs": [
    {
     "data": {
      "text/plain": [
       "8"
      ]
     },
     "execution_count": 89,
     "metadata": {},
     "output_type": "execute_result"
    }
   ],
   "source": [
    "len(l)"
   ]
  },
  {
   "cell_type": "code",
   "execution_count": 90,
   "id": "933ad229",
   "metadata": {},
   "outputs": [],
   "source": [
    "l.reverse()"
   ]
  },
  {
   "cell_type": "code",
   "execution_count": 91,
   "id": "3680f6f9",
   "metadata": {},
   "outputs": [
    {
     "data": {
      "text/plain": [
       "[['Mona'], 'Apple', 'Delhi', 'Bangalore', 5, 4, 3, 1]"
      ]
     },
     "execution_count": 91,
     "metadata": {},
     "output_type": "execute_result"
    }
   ],
   "source": [
    "l"
   ]
  },
  {
   "cell_type": "code",
   "execution_count": 95,
   "id": "6fc7f876",
   "metadata": {},
   "outputs": [],
   "source": [
    "l3=[45,67,3,5,7,8]\n",
    "\n",
    "l3.sort(reverse=True)"
   ]
  },
  {
   "cell_type": "code",
   "execution_count": 96,
   "id": "5ba51ed9",
   "metadata": {},
   "outputs": [
    {
     "data": {
      "text/plain": [
       "[67, 45, 8, 7, 5, 3]"
      ]
     },
     "execution_count": 96,
     "metadata": {},
     "output_type": "execute_result"
    }
   ],
   "source": [
    "l3"
   ]
  },
  {
   "cell_type": "code",
   "execution_count": 97,
   "id": "f72c383c",
   "metadata": {},
   "outputs": [],
   "source": [
    "l4=[\"Mona\",\"Tona\",\"Bona\",'Hona']"
   ]
  },
  {
   "cell_type": "code",
   "execution_count": 98,
   "id": "a62b42f4",
   "metadata": {},
   "outputs": [],
   "source": [
    "l3.extend(l4)"
   ]
  },
  {
   "cell_type": "code",
   "execution_count": 99,
   "id": "78ce136f",
   "metadata": {},
   "outputs": [
    {
     "data": {
      "text/plain": [
       "[67, 45, 8, 7, 5, 3, 'Mona', 'Tona', 'Bona', 'Hona']"
      ]
     },
     "execution_count": 99,
     "metadata": {},
     "output_type": "execute_result"
    }
   ],
   "source": [
    "l3"
   ]
  },
  {
   "cell_type": "code",
   "execution_count": null,
   "id": "4fdd1971",
   "metadata": {},
   "outputs": [],
   "source": []
  },
  {
   "cell_type": "code",
   "execution_count": null,
   "id": "a51f7a1e",
   "metadata": {},
   "outputs": [],
   "source": [
    "## take 4 input from the user and add in one list \n",
    "\n",
    "### take 6 input from user and save 3 input in each list and combine againg into one list ."
   ]
  },
  {
   "cell_type": "code",
   "execution_count": 100,
   "id": "0b8e8aac",
   "metadata": {},
   "outputs": [
    {
     "data": {
      "text/plain": [
       "[1, 2, 3, 4, 5, 6]"
      ]
     },
     "execution_count": 100,
     "metadata": {},
     "output_type": "execute_result"
    }
   ],
   "source": [
    "a=[1,2,3]\n",
    "b=[4,5,6]\n",
    "\n",
    "a+b"
   ]
  },
  {
   "cell_type": "code",
   "execution_count": null,
   "id": "57a52ee3",
   "metadata": {},
   "outputs": [],
   "source": []
  }
 ],
 "metadata": {
  "kernelspec": {
   "display_name": "Python 3 (ipykernel)",
   "language": "python",
   "name": "python3"
  },
  "language_info": {
   "codemirror_mode": {
    "name": "ipython",
    "version": 3
   },
   "file_extension": ".py",
   "mimetype": "text/x-python",
   "name": "python",
   "nbconvert_exporter": "python",
   "pygments_lexer": "ipython3",
   "version": "3.11.5"
  }
 },
 "nbformat": 4,
 "nbformat_minor": 5
}
