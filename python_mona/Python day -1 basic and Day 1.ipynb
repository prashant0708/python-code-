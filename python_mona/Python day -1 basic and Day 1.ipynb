{
 "cells": [
  {
   "cell_type": "markdown",
   "id": "88c93148",
   "metadata": {},
   "source": [
    "# Python class 1\n",
    "## This is the first class of python \n",
    "### We will discuss the basic of python \n",
    "**I am going to learn the basic and list function of python**\n",
    "- Student \n",
    "- for more info [click on](https://docs.python.org/3/)"
   ]
  },
  {
   "cell_type": "code",
   "execution_count": 1,
   "id": "567327c4",
   "metadata": {},
   "outputs": [],
   "source": [
    "a=10"
   ]
  },
  {
   "cell_type": "code",
   "execution_count": 2,
   "id": "48679f43",
   "metadata": {},
   "outputs": [
    {
     "data": {
      "text/plain": [
       "10"
      ]
     },
     "execution_count": 2,
     "metadata": {},
     "output_type": "execute_result"
    }
   ],
   "source": [
    "a"
   ]
  },
  {
   "cell_type": "code",
   "execution_count": 3,
   "id": "aebd56de",
   "metadata": {},
   "outputs": [
    {
     "data": {
      "text/plain": [
       "int"
      ]
     },
     "execution_count": 3,
     "metadata": {},
     "output_type": "execute_result"
    }
   ],
   "source": [
    "type(a)"
   ]
  },
  {
   "cell_type": "markdown",
   "id": "62e83257",
   "metadata": {},
   "source": [
    "# DATA TYPES \n",
    "\n",
    "- int =1,2,3,4,5,6,56,1000,50000\n",
    "- float (decimal ) - 1.2,3.4,56.78,78.67\n",
    "- string (alpha_numerical values)- \"name\",\"school\",\"s12\",\"str4567\"\n",
    "- date and time - \"12/06/2024\" , \"12/06/2024 00:00:00\""
   ]
  },
  {
   "cell_type": "code",
   "execution_count": 10,
   "id": "53e21151",
   "metadata": {},
   "outputs": [],
   "source": [
    "### how to consider the variable \n",
    "\n",
    "a=10 \n",
    "_a=12\n",
    "a ,b=23,10\n"
   ]
  },
  {
   "cell_type": "code",
   "execution_count": 11,
   "id": "5495869a",
   "metadata": {},
   "outputs": [
    {
     "data": {
      "text/plain": [
       "23"
      ]
     },
     "execution_count": 11,
     "metadata": {},
     "output_type": "execute_result"
    }
   ],
   "source": [
    "a"
   ]
  },
  {
   "cell_type": "code",
   "execution_count": 12,
   "id": "829e2d1f",
   "metadata": {},
   "outputs": [
    {
     "data": {
      "text/plain": [
       "10"
      ]
     },
     "execution_count": 12,
     "metadata": {},
     "output_type": "execute_result"
    }
   ],
   "source": [
    "b"
   ]
  },
  {
   "cell_type": "markdown",
   "id": "b4a56a54",
   "metadata": {},
   "source": [
    "## Basci operator \n",
    "\n",
    "- sum\n",
    "- subtraction\n",
    "- multiplication\n",
    "- division\n",
    "    1. 2/3 --> \n",
    "    2. 2//3--> floor division \n",
    "    3. 2%3 --> modular division \n",
    "- Negative values --> - values\n",
    "- power -->  a**2 -- double start means power \n",
    "- abs --> to remove the negative values \n",
    "- sqrt --> square root \n"
   ]
  },
  {
   "cell_type": "code",
   "execution_count": 13,
   "id": "a2f998c8",
   "metadata": {},
   "outputs": [
    {
     "data": {
      "text/plain": [
       "30"
      ]
     },
     "execution_count": 13,
     "metadata": {},
     "output_type": "execute_result"
    }
   ],
   "source": [
    "## addition \n",
    "a=10\n",
    "b=20\n",
    "a+b"
   ]
  },
  {
   "cell_type": "code",
   "execution_count": 15,
   "id": "589188d0",
   "metadata": {},
   "outputs": [
    {
     "data": {
      "text/plain": [
       "10"
      ]
     },
     "execution_count": 15,
     "metadata": {},
     "output_type": "execute_result"
    }
   ],
   "source": [
    "## subtraction\n",
    "\n",
    "a=10\n",
    "b=20\n",
    "b-a"
   ]
  },
  {
   "cell_type": "code",
   "execution_count": 18,
   "id": "cb39b5eb",
   "metadata": {},
   "outputs": [
    {
     "data": {
      "text/plain": [
       "800"
      ]
     },
     "execution_count": 18,
     "metadata": {},
     "output_type": "execute_result"
    }
   ],
   "source": [
    "## multiplication \n",
    "\n",
    "a=40\n",
    "b=20\n",
    "\n",
    "a*b"
   ]
  },
  {
   "cell_type": "code",
   "execution_count": 20,
   "id": "437138de",
   "metadata": {},
   "outputs": [
    {
     "data": {
      "text/plain": [
       "1.9047619047619047"
      ]
     },
     "execution_count": 20,
     "metadata": {},
     "output_type": "execute_result"
    }
   ],
   "source": [
    "### division \n",
    "\n",
    "a=40 \n",
    "b=21\n",
    "a/b"
   ]
  },
  {
   "cell_type": "code",
   "execution_count": 21,
   "id": "a1842fad",
   "metadata": {},
   "outputs": [
    {
     "data": {
      "text/plain": [
       "1"
      ]
     },
     "execution_count": 21,
     "metadata": {},
     "output_type": "execute_result"
    }
   ],
   "source": [
    "### division \n",
    "a=40 \n",
    "b=21\n",
    "a//b\n"
   ]
  },
  {
   "cell_type": "code",
   "execution_count": 23,
   "id": "5fbcb8ca",
   "metadata": {},
   "outputs": [
    {
     "data": {
      "text/plain": [
       "0"
      ]
     },
     "execution_count": 23,
     "metadata": {},
     "output_type": "execute_result"
    }
   ],
   "source": [
    "### division \n",
    "a=40 \n",
    "b=20\n",
    "a%b\n"
   ]
  },
  {
   "cell_type": "code",
   "execution_count": 25,
   "id": "93e97fea",
   "metadata": {},
   "outputs": [
    {
     "data": {
      "text/plain": [
       "-10"
      ]
     },
     "execution_count": 25,
     "metadata": {},
     "output_type": "execute_result"
    }
   ],
   "source": [
    "## negative \n",
    "a=10\n",
    "a*-1"
   ]
  },
  {
   "cell_type": "code",
   "execution_count": 26,
   "id": "b50a96de",
   "metadata": {},
   "outputs": [
    {
     "data": {
      "text/plain": [
       "10"
      ]
     },
     "execution_count": 26,
     "metadata": {},
     "output_type": "execute_result"
    }
   ],
   "source": [
    "## absolute\n",
    "\n",
    "a=10\n",
    "b=a*-1\n",
    "abs(b)"
   ]
  },
  {
   "cell_type": "code",
   "execution_count": 29,
   "id": "9308c79d",
   "metadata": {},
   "outputs": [
    {
     "data": {
      "text/plain": [
       "1258.9254117941675"
      ]
     },
     "execution_count": 29,
     "metadata": {},
     "output_type": "execute_result"
    }
   ],
   "source": [
    "## power \n",
    "a=10\n",
    "\n",
    "a**3.1"
   ]
  },
  {
   "cell_type": "code",
   "execution_count": 36,
   "id": "cbf85b95",
   "metadata": {},
   "outputs": [
    {
     "data": {
      "text/plain": [
       "10.0"
      ]
     },
     "execution_count": 36,
     "metadata": {},
     "output_type": "execute_result"
    }
   ],
   "source": [
    "## sqr root \n",
    "\n",
    "import math \n",
    "\n",
    "a=10\n",
    "\n",
    "math.sqrt(100)\n"
   ]
  },
  {
   "cell_type": "markdown",
   "id": "b09ba2a2",
   "metadata": {},
   "source": [
    "### basic assingement \n",
    "\n",
    "a=10 # 10 is assigning to the a varibale \n",
    "\n",
    "a==10 ## we are comparing wheater a value is 10 or not \n",
    "\n",
    "a+=1 ## a values will increase by 1 \n",
    "\n",
    "a-=1 ## a values will decrease by 1\n"
   ]
  },
  {
   "cell_type": "code",
   "execution_count": null,
   "id": "fcaf6003",
   "metadata": {},
   "outputs": [],
   "source": [
    "## Bacis assignment \n",
    "\n",
    "= \n",
    "+=\n",
    "-+\n"
   ]
  },
  {
   "cell_type": "code",
   "execution_count": 37,
   "id": "141d8f0b",
   "metadata": {},
   "outputs": [],
   "source": [
    "a=10"
   ]
  },
  {
   "cell_type": "code",
   "execution_count": 38,
   "id": "2e5b214e",
   "metadata": {},
   "outputs": [
    {
     "data": {
      "text/plain": [
       "10"
      ]
     },
     "execution_count": 38,
     "metadata": {},
     "output_type": "execute_result"
    }
   ],
   "source": [
    "a\n"
   ]
  },
  {
   "cell_type": "code",
   "execution_count": 39,
   "id": "f7037575",
   "metadata": {},
   "outputs": [
    {
     "data": {
      "text/plain": [
       "True"
      ]
     },
     "execution_count": 39,
     "metadata": {},
     "output_type": "execute_result"
    }
   ],
   "source": [
    "a==10"
   ]
  },
  {
   "cell_type": "code",
   "execution_count": 40,
   "id": "055ba38b",
   "metadata": {},
   "outputs": [
    {
     "data": {
      "text/plain": [
       "False"
      ]
     },
     "execution_count": 40,
     "metadata": {},
     "output_type": "execute_result"
    }
   ],
   "source": [
    "a==11"
   ]
  },
  {
   "cell_type": "code",
   "execution_count": 41,
   "id": "2d4b8284",
   "metadata": {},
   "outputs": [],
   "source": [
    "a+=1"
   ]
  },
  {
   "cell_type": "code",
   "execution_count": 42,
   "id": "559bf82a",
   "metadata": {},
   "outputs": [
    {
     "data": {
      "text/plain": [
       "11"
      ]
     },
     "execution_count": 42,
     "metadata": {},
     "output_type": "execute_result"
    }
   ],
   "source": [
    "a"
   ]
  },
  {
   "cell_type": "code",
   "execution_count": 45,
   "id": "7a261a1b",
   "metadata": {},
   "outputs": [],
   "source": [
    "a-=1 ## a is 11 "
   ]
  },
  {
   "cell_type": "code",
   "execution_count": 44,
   "id": "fc98f9f2",
   "metadata": {},
   "outputs": [
    {
     "data": {
      "text/plain": [
       "10"
      ]
     },
     "execution_count": 44,
     "metadata": {},
     "output_type": "execute_result"
    }
   ],
   "source": [
    "a"
   ]
  },
  {
   "cell_type": "code",
   "execution_count": 46,
   "id": "70ff4bea",
   "metadata": {},
   "outputs": [
    {
     "data": {
      "text/plain": [
       "True"
      ]
     },
     "execution_count": 46,
     "metadata": {},
     "output_type": "execute_result"
    }
   ],
   "source": [
    "a!=11"
   ]
  },
  {
   "cell_type": "code",
   "execution_count": 47,
   "id": "d58d4424",
   "metadata": {},
   "outputs": [
    {
     "data": {
      "text/plain": [
       "True"
      ]
     },
     "execution_count": 47,
     "metadata": {},
     "output_type": "execute_result"
    }
   ],
   "source": [
    "a!=10"
   ]
  },
  {
   "cell_type": "code",
   "execution_count": 48,
   "id": "4484a8aa",
   "metadata": {},
   "outputs": [
    {
     "data": {
      "text/plain": [
       "9"
      ]
     },
     "execution_count": 48,
     "metadata": {},
     "output_type": "execute_result"
    }
   ],
   "source": [
    "a"
   ]
  },
  {
   "cell_type": "code",
   "execution_count": 50,
   "id": "42671100",
   "metadata": {},
   "outputs": [
    {
     "name": "stdout",
     "output_type": "stream",
     "text": [
      "10\n",
      "The value of a is  10\n"
     ]
    }
   ],
   "source": [
    "## print use \n",
    "a=10 \n",
    "print(a)\n",
    "\n",
    "## second method \n",
    "\n",
    "print(\"The value of a is \",a)"
   ]
  },
  {
   "cell_type": "code",
   "execution_count": 34,
   "id": "5ab5507a",
   "metadata": {},
   "outputs": [
    {
     "name": "stdout",
     "output_type": "stream",
     "text": [
      "This is method 1 of print \n",
      "10\n",
      "The value of x is  20\n",
      "'Priyanka' is an  25 year old\n",
      "Prashant is an 34 year old\n",
      "Sourab, is an 20 is year old\n",
      "Subham,45 year old \n"
     ]
    }
   ],
   "source": [
    "### Different type of Print \n",
    "\n",
    "print(\"This is method 1 of print \")\n",
    "\n",
    "x=10\n",
    "print(x)\n",
    "x=20\n",
    "\n",
    "## print with sentence\n",
    "\n",
    "print(\"The value of x is \",x)\n",
    "\n",
    "## Print with string formate \n",
    "\n",
    "name = \"Priyanka\"\n",
    "age=25\n",
    "print(\"%a is an  %d year old\" % (name,age))\n",
    "\n",
    "## print with str.formate \n",
    "\n",
    "name =\"Prashant\"\n",
    "age=34\n",
    "print(\"{} is an {} year old\".format(name,age))\n",
    "\n",
    "\n",
    "### print with str formate and argument \n",
    "\n",
    "name=\"Sourab\"\n",
    "\n",
    "age =20\n",
    "\n",
    "print(\"{person}, is an {number} is year old\".format(person=name,number=20))\n",
    "\n",
    "### print with f sting \n",
    "\n",
    "name = \"Subham\" \n",
    "\n",
    "age = 45\n",
    "\n",
    "print(f\"{name},{age} year old \")\n"
   ]
  },
  {
   "cell_type": "code",
   "execution_count": 77,
   "id": "8a3d7fab",
   "metadata": {},
   "outputs": [
    {
     "name": "stdout",
     "output_type": "stream",
     "text": [
      "Priyanka 25\n",
      "The name of person and age:  Priyanka 25\n",
      "The name of person 'Priyanka' and her age is 25 \n",
      "The name of person is  Priyanka and her age is 25 \n",
      "the name of the person is Priyanka and her age is 25\n",
      "the name of the perosn Priyanka, and her age is 25\n"
     ]
    }
   ],
   "source": [
    "## method -3 \n",
    "\n",
    "name =\"Priyanka\"\n",
    "age=25\n",
    "\n",
    "print(name,age)\n",
    "\n",
    "print (\"The name of person and age: \",name,age)\n",
    "\n",
    "\n",
    "## method 3\n",
    "print(\"The name of person %a and her age is %d \" % (name,age))\n",
    "\n",
    "\n",
    "##print method 4\n",
    "print(\"The name of person is  {} and her age is {} \" .format(name,age))\n",
    "\n",
    "\n",
    "## print method 5\n",
    "\n",
    "print (\"the name of the person is {name1} and her age is {ag1}\".format(name1=name,ag1=age))\n",
    "\n",
    "## print method 6  f string method \n",
    "\n",
    "print (f\"the name of the perosn {name}, and her age is {age}\")"
   ]
  },
  {
   "cell_type": "code",
   "execution_count": 78,
   "id": "82c41a63",
   "metadata": {},
   "outputs": [
    {
     "name": "stdout",
     "output_type": "stream",
     "text": [
      "Please enter your name Priyanka\n",
      "Please enter the age 25\n"
     ]
    }
   ],
   "source": [
    "### user define function \n",
    "\n",
    "name =input (\"Please enter your name \")\n",
    "age = int(input (\"Please enter the age \"))\n",
    "\n",
    "\n"
   ]
  },
  {
   "cell_type": "code",
   "execution_count": 79,
   "id": "5c69af13",
   "metadata": {},
   "outputs": [
    {
     "name": "stdout",
     "output_type": "stream",
     "text": [
      "The name of the user is Priyanka and age of the user is 25\n"
     ]
    }
   ],
   "source": [
    "print(\"The name of the user is {} and age of the user is {}\".format(name,age))"
   ]
  },
  {
   "cell_type": "code",
   "execution_count": 80,
   "id": "d4f40257",
   "metadata": {},
   "outputs": [
    {
     "name": "stdout",
     "output_type": "stream",
     "text": [
      "The name of the user is {} and age of the user is {}\n"
     ]
    }
   ],
   "source": [
    "print(\"The name of the user is {} and age of the user is {}\")\n"
   ]
  },
  {
   "cell_type": "code",
   "execution_count": null,
   "id": "caab9e4b",
   "metadata": {},
   "outputs": [],
   "source": []
  },
  {
   "cell_type": "code",
   "execution_count": null,
   "id": "a2368083",
   "metadata": {},
   "outputs": [],
   "source": [
    "H/W \n",
    "\n",
    "1.  Take 3 number from the user and print all the number along with sum \n",
    "2. take 3 number from the user and print the multiplication along with all the number \n",
    "\n",
    "3. take the user name , address and age and print \n",
    "\n",
    "4. take two number and subtract the number and print the number along with result "
   ]
  },
  {
   "cell_type": "code",
   "execution_count": null,
   "id": "c971917a",
   "metadata": {},
   "outputs": [],
   "source": []
  }
 ],
 "metadata": {
  "kernelspec": {
   "display_name": "Python 3 (ipykernel)",
   "language": "python",
   "name": "python3"
  },
  "language_info": {
   "codemirror_mode": {
    "name": "ipython",
    "version": 3
   },
   "file_extension": ".py",
   "mimetype": "text/x-python",
   "name": "python",
   "nbconvert_exporter": "python",
   "pygments_lexer": "ipython3",
   "version": "3.11.5"
  }
 },
 "nbformat": 4,
 "nbformat_minor": 5
}
