{
 "cells": [
  {
   "cell_type": "markdown",
   "id": "391acea7",
   "metadata": {},
   "source": [
    "## Tuple \n",
    "\n"
   ]
  },
  {
   "cell_type": "markdown",
   "id": "52a2ce5a",
   "metadata": {},
   "source": [
    "- it is also a Data structure in python , which is used to store the data \n",
    "- It is faster than the List \n",
    "- It is immutable "
   ]
  },
  {
   "cell_type": "code",
   "execution_count": 2,
   "id": "29edc584",
   "metadata": {},
   "outputs": [],
   "source": [
    "l=[\"Prashant\"]"
   ]
  },
  {
   "cell_type": "code",
   "execution_count": 3,
   "id": "6733dbe0",
   "metadata": {},
   "outputs": [
    {
     "data": {
      "text/plain": [
       "list"
      ]
     },
     "execution_count": 3,
     "metadata": {},
     "output_type": "execute_result"
    }
   ],
   "source": [
    "type(l)"
   ]
  },
  {
   "cell_type": "code",
   "execution_count": 6,
   "id": "3a34d4dc",
   "metadata": {},
   "outputs": [],
   "source": [
    "a=(\"Prashant\",\"Kumar\")"
   ]
  },
  {
   "cell_type": "code",
   "execution_count": 7,
   "id": "41e5f9b5",
   "metadata": {},
   "outputs": [
    {
     "data": {
      "text/plain": [
       "tuple"
      ]
     },
     "execution_count": 7,
     "metadata": {},
     "output_type": "execute_result"
    }
   ],
   "source": [
    "type(a)"
   ]
  },
  {
   "cell_type": "code",
   "execution_count": 9,
   "id": "ed5771f2",
   "metadata": {},
   "outputs": [],
   "source": [
    "l[0]=\"Vishal\""
   ]
  },
  {
   "cell_type": "code",
   "execution_count": 10,
   "id": "5bedf5fc",
   "metadata": {},
   "outputs": [
    {
     "data": {
      "text/plain": [
       "['Vishal']"
      ]
     },
     "execution_count": 10,
     "metadata": {},
     "output_type": "execute_result"
    }
   ],
   "source": [
    "l"
   ]
  },
  {
   "cell_type": "code",
   "execution_count": 11,
   "id": "b4ee6b89",
   "metadata": {},
   "outputs": [
    {
     "data": {
      "text/plain": [
       "'Prashant'"
      ]
     },
     "execution_count": 11,
     "metadata": {},
     "output_type": "execute_result"
    }
   ],
   "source": [
    "a[0]"
   ]
  },
  {
   "cell_type": "code",
   "execution_count": 12,
   "id": "f19f12a8",
   "metadata": {},
   "outputs": [
    {
     "ename": "TypeError",
     "evalue": "'tuple' object does not support item assignment",
     "output_type": "error",
     "traceback": [
      "\u001b[1;31m---------------------------------------------------------------------------\u001b[0m",
      "\u001b[1;31mTypeError\u001b[0m                                 Traceback (most recent call last)",
      "Cell \u001b[1;32mIn[12], line 1\u001b[0m\n\u001b[1;32m----> 1\u001b[0m a[\u001b[38;5;241m0\u001b[39m]\u001b[38;5;241m=\u001b[39m\u001b[38;5;124m'\u001b[39m\u001b[38;5;124mVishal\u001b[39m\u001b[38;5;124m'\u001b[39m\n",
      "\u001b[1;31mTypeError\u001b[0m: 'tuple' object does not support item assignment"
     ]
    }
   ],
   "source": [
    "a[0]='Vishal'"
   ]
  },
  {
   "cell_type": "code",
   "execution_count": 13,
   "id": "a193cfad",
   "metadata": {},
   "outputs": [],
   "source": [
    "a=\"Prashant\",\"Kumar\""
   ]
  },
  {
   "cell_type": "code",
   "execution_count": 14,
   "id": "1c9a49a1",
   "metadata": {},
   "outputs": [
    {
     "data": {
      "text/plain": [
       "tuple"
      ]
     },
     "execution_count": 14,
     "metadata": {},
     "output_type": "execute_result"
    }
   ],
   "source": [
    "type(a)"
   ]
  },
  {
   "cell_type": "code",
   "execution_count": 15,
   "id": "f3b3ddb5",
   "metadata": {},
   "outputs": [],
   "source": [
    "a=(2)"
   ]
  },
  {
   "cell_type": "code",
   "execution_count": 16,
   "id": "2d250be6",
   "metadata": {},
   "outputs": [
    {
     "data": {
      "text/plain": [
       "int"
      ]
     },
     "execution_count": 16,
     "metadata": {},
     "output_type": "execute_result"
    }
   ],
   "source": [
    "type(a)"
   ]
  },
  {
   "cell_type": "code",
   "execution_count": 17,
   "id": "6177d12c",
   "metadata": {},
   "outputs": [],
   "source": [
    "a=(2,3)"
   ]
  },
  {
   "cell_type": "code",
   "execution_count": 18,
   "id": "f1c63e55",
   "metadata": {},
   "outputs": [
    {
     "data": {
      "text/plain": [
       "tuple"
      ]
     },
     "execution_count": 18,
     "metadata": {},
     "output_type": "execute_result"
    }
   ],
   "source": [
    "type(a)"
   ]
  },
  {
   "cell_type": "markdown",
   "id": "c17b0172",
   "metadata": {},
   "source": [
    "# Methods in the tuple "
   ]
  },
  {
   "cell_type": "code",
   "execution_count": 25,
   "id": "d17492a5",
   "metadata": {},
   "outputs": [],
   "source": [
    "t1=(1,2,3,4,\"a\",\"b\",'c')"
   ]
  },
  {
   "cell_type": "code",
   "execution_count": 20,
   "id": "b12aa93e",
   "metadata": {},
   "outputs": [
    {
     "data": {
      "text/plain": [
       "tuple"
      ]
     },
     "execution_count": 20,
     "metadata": {},
     "output_type": "execute_result"
    }
   ],
   "source": [
    "type(t1)"
   ]
  },
  {
   "cell_type": "code",
   "execution_count": 30,
   "id": "225ecb73",
   "metadata": {},
   "outputs": [
    {
     "data": {
      "text/plain": [
       "'c'"
      ]
     },
     "execution_count": 30,
     "metadata": {},
     "output_type": "execute_result"
    }
   ],
   "source": [
    "## Index access \n",
    "t1[6]"
   ]
  },
  {
   "cell_type": "code",
   "execution_count": 31,
   "id": "4599a8d5",
   "metadata": {},
   "outputs": [
    {
     "data": {
      "text/plain": [
       "7"
      ]
     },
     "execution_count": 31,
     "metadata": {},
     "output_type": "execute_result"
    }
   ],
   "source": [
    "len(t1)"
   ]
  },
  {
   "cell_type": "code",
   "execution_count": 32,
   "id": "6dc716d5",
   "metadata": {},
   "outputs": [
    {
     "data": {
      "text/plain": [
       "6"
      ]
     },
     "execution_count": 32,
     "metadata": {},
     "output_type": "execute_result"
    }
   ],
   "source": [
    "7-1"
   ]
  },
  {
   "cell_type": "code",
   "execution_count": 41,
   "id": "4e92b67c",
   "metadata": {},
   "outputs": [
    {
     "data": {
      "text/plain": [
       "4"
      ]
     },
     "execution_count": 41,
     "metadata": {},
     "output_type": "execute_result"
    }
   ],
   "source": [
    "## find the index using values\n",
    "t1.index('a')"
   ]
  },
  {
   "cell_type": "code",
   "execution_count": 42,
   "id": "d2831304",
   "metadata": {},
   "outputs": [
    {
     "data": {
      "text/plain": [
       "3"
      ]
     },
     "execution_count": 42,
     "metadata": {},
     "output_type": "execute_result"
    }
   ],
   "source": [
    "t1.index(4)"
   ]
  },
  {
   "cell_type": "code",
   "execution_count": 44,
   "id": "0721dfcb",
   "metadata": {},
   "outputs": [
    {
     "data": {
      "text/plain": [
       "6"
      ]
     },
     "execution_count": 44,
     "metadata": {},
     "output_type": "execute_result"
    }
   ],
   "source": [
    "t1.index('c')"
   ]
  },
  {
   "cell_type": "code",
   "execution_count": 47,
   "id": "b74ef4ba",
   "metadata": {},
   "outputs": [
    {
     "ename": "AttributeError",
     "evalue": "'tuple' object has no attribute 'append'",
     "output_type": "error",
     "traceback": [
      "\u001b[1;31m---------------------------------------------------------------------------\u001b[0m",
      "\u001b[1;31mAttributeError\u001b[0m                            Traceback (most recent call last)",
      "Cell \u001b[1;32mIn[47], line 1\u001b[0m\n\u001b[1;32m----> 1\u001b[0m t1\u001b[38;5;241m.\u001b[39mappend(\u001b[38;5;124m\"\u001b[39m\u001b[38;5;124mPrashant\u001b[39m\u001b[38;5;124m\"\u001b[39m)\n",
      "\u001b[1;31mAttributeError\u001b[0m: 'tuple' object has no attribute 'append'"
     ]
    }
   ],
   "source": [
    "t1.append(\"Prashant\")"
   ]
  },
  {
   "cell_type": "code",
   "execution_count": 46,
   "id": "9d746b49",
   "metadata": {},
   "outputs": [
    {
     "data": {
      "text/plain": [
       "(1, 2, 3, 4, 'a', 'b', 'c')"
      ]
     },
     "execution_count": 46,
     "metadata": {},
     "output_type": "execute_result"
    }
   ],
   "source": [
    "t1"
   ]
  },
  {
   "cell_type": "code",
   "execution_count": 48,
   "id": "c5c9d062",
   "metadata": {},
   "outputs": [
    {
     "data": {
      "text/plain": [
       "(4, 'a', 'b')"
      ]
     },
     "execution_count": 48,
     "metadata": {},
     "output_type": "execute_result"
    }
   ],
   "source": [
    "t1[3:6]"
   ]
  },
  {
   "cell_type": "code",
   "execution_count": 49,
   "id": "f77d0a44",
   "metadata": {},
   "outputs": [
    {
     "ename": "TypeError",
     "evalue": "'>' not supported between instances of 'str' and 'int'",
     "output_type": "error",
     "traceback": [
      "\u001b[1;31m---------------------------------------------------------------------------\u001b[0m",
      "\u001b[1;31mTypeError\u001b[0m                                 Traceback (most recent call last)",
      "Cell \u001b[1;32mIn[49], line 1\u001b[0m\n\u001b[1;32m----> 1\u001b[0m \u001b[38;5;28mmax\u001b[39m(t1)\n",
      "\u001b[1;31mTypeError\u001b[0m: '>' not supported between instances of 'str' and 'int'"
     ]
    }
   ],
   "source": []
  },
  {
   "cell_type": "code",
   "execution_count": 51,
   "id": "a9cd3dd4",
   "metadata": {},
   "outputs": [
    {
     "data": {
      "text/plain": [
       "1"
      ]
     },
     "execution_count": 51,
     "metadata": {},
     "output_type": "execute_result"
    }
   ],
   "source": [
    "### count how mnay time any number or character are availabe in the tuple \n",
    "t1.count(2)"
   ]
  },
  {
   "cell_type": "code",
   "execution_count": 52,
   "id": "bcfe6e6e",
   "metadata": {},
   "outputs": [],
   "source": [
    "t2=(2,2,2,2,2,2,2)"
   ]
  },
  {
   "cell_type": "code",
   "execution_count": 53,
   "id": "dc5e6898",
   "metadata": {},
   "outputs": [
    {
     "data": {
      "text/plain": [
       "7"
      ]
     },
     "execution_count": 53,
     "metadata": {},
     "output_type": "execute_result"
    }
   ],
   "source": [
    "t2.count(2)"
   ]
  },
  {
   "cell_type": "code",
   "execution_count": 54,
   "id": "7accd3ab",
   "metadata": {},
   "outputs": [],
   "source": [
    "t3=(45,56,12,65,99,10,1)"
   ]
  },
  {
   "cell_type": "code",
   "execution_count": 66,
   "id": "9acf8c28",
   "metadata": {},
   "outputs": [],
   "source": [
    "## sort the t3 tuple in ascending order \n",
    "sorted_t3=sorted(t3,reverse=False)"
   ]
  },
  {
   "cell_type": "code",
   "execution_count": 65,
   "id": "b0e258bc",
   "metadata": {},
   "outputs": [
    {
     "data": {
      "text/plain": [
       "[99, 65, 56, 45, 12, 10, 1]"
      ]
     },
     "execution_count": 65,
     "metadata": {},
     "output_type": "execute_result"
    }
   ],
   "source": [
    "sorted_t3"
   ]
  },
  {
   "cell_type": "code",
   "execution_count": 67,
   "id": "6dc3e8b9",
   "metadata": {},
   "outputs": [
    {
     "data": {
      "text/plain": [
       "[99, 65, 56, 45, 12, 10, 1]"
      ]
     },
     "execution_count": 67,
     "metadata": {},
     "output_type": "execute_result"
    }
   ],
   "source": [
    "## sort the t3 tuple in Descinding order \n",
    "sorted(t3,reverse=True)"
   ]
  },
  {
   "cell_type": "code",
   "execution_count": 68,
   "id": "5f86e1f0",
   "metadata": {},
   "outputs": [
    {
     "data": {
      "text/plain": [
       "1"
      ]
     },
     "execution_count": 68,
     "metadata": {},
     "output_type": "execute_result"
    }
   ],
   "source": [
    "##  find the minimum value from t3 tuple\n",
    "min(t3)"
   ]
  },
  {
   "cell_type": "code",
   "execution_count": 69,
   "id": "48f6f326",
   "metadata": {},
   "outputs": [
    {
     "data": {
      "text/plain": [
       "99"
      ]
     },
     "execution_count": 69,
     "metadata": {},
     "output_type": "execute_result"
    }
   ],
   "source": [
    "## find the maximum value in the t3 tuple\n",
    "max(t3)"
   ]
  },
  {
   "cell_type": "code",
   "execution_count": 70,
   "id": "1dfa39e4",
   "metadata": {},
   "outputs": [
    {
     "data": {
      "text/plain": [
       "(45, 56, 12, 65, 99, 10, 1)"
      ]
     },
     "execution_count": 70,
     "metadata": {},
     "output_type": "execute_result"
    }
   ],
   "source": [
    "t3"
   ]
  },
  {
   "cell_type": "code",
   "execution_count": 71,
   "id": "71ca3489",
   "metadata": {},
   "outputs": [
    {
     "data": {
      "text/plain": [
       "(1, 2, 3, 4, 'a', 'b', 'c')"
      ]
     },
     "execution_count": 71,
     "metadata": {},
     "output_type": "execute_result"
    }
   ],
   "source": [
    "t1"
   ]
  },
  {
   "cell_type": "code",
   "execution_count": 72,
   "id": "6a5238a5",
   "metadata": {},
   "outputs": [
    {
     "data": {
      "text/plain": [
       "(2, 2, 2, 2, 2, 2, 2)"
      ]
     },
     "execution_count": 72,
     "metadata": {},
     "output_type": "execute_result"
    }
   ],
   "source": [
    "t2"
   ]
  },
  {
   "cell_type": "code",
   "execution_count": 77,
   "id": "731c531c",
   "metadata": {},
   "outputs": [],
   "source": [
    "Anand=t3+t1+t2"
   ]
  },
  {
   "cell_type": "code",
   "execution_count": 80,
   "id": "2a12febc",
   "metadata": {},
   "outputs": [
    {
     "data": {
      "text/plain": [
       "(45, 56, 12, 65, 99, 10, 1, 1, 2, 3, 4, 'a', 'b', 'c', 2, 2, 2, 2, 2, 2, 2)"
      ]
     },
     "execution_count": 80,
     "metadata": {},
     "output_type": "execute_result"
    }
   ],
   "source": [
    "Anand"
   ]
  },
  {
   "cell_type": "code",
   "execution_count": 81,
   "id": "30c7d344",
   "metadata": {},
   "outputs": [
    {
     "data": {
      "text/plain": [
       "(1, 2, 3, 4, 'a', 'b', 'c')"
      ]
     },
     "execution_count": 81,
     "metadata": {},
     "output_type": "execute_result"
    }
   ],
   "source": [
    "t1"
   ]
  },
  {
   "cell_type": "code",
   "execution_count": 87,
   "id": "3556ffef",
   "metadata": {},
   "outputs": [
    {
     "data": {
      "text/plain": [
       "(1, 2, 3, 4, 'a', 'b', 'c', 1, 2, 3, 4, 'a', 'b', 'c')"
      ]
     },
     "execution_count": 87,
     "metadata": {},
     "output_type": "execute_result"
    }
   ],
   "source": [
    "## replicating of the tuple\n",
    "t1*2"
   ]
  },
  {
   "cell_type": "code",
   "execution_count": 88,
   "id": "075b4e34",
   "metadata": {},
   "outputs": [
    {
     "data": {
      "text/plain": [
       "('a', 'b', 'c')"
      ]
     },
     "execution_count": 88,
     "metadata": {},
     "output_type": "execute_result"
    }
   ],
   "source": [
    "t1[4:7]"
   ]
  },
  {
   "cell_type": "code",
   "execution_count": 89,
   "id": "047d44e9",
   "metadata": {},
   "outputs": [],
   "source": [
    "t5=list(t1)"
   ]
  },
  {
   "cell_type": "code",
   "execution_count": 90,
   "id": "8de42f9d",
   "metadata": {},
   "outputs": [
    {
     "data": {
      "text/plain": [
       "[1, 2, 3, 4, 'a', 'b', 'c']"
      ]
     },
     "execution_count": 90,
     "metadata": {},
     "output_type": "execute_result"
    }
   ],
   "source": [
    "t5"
   ]
  },
  {
   "cell_type": "code",
   "execution_count": 91,
   "id": "5213a206",
   "metadata": {},
   "outputs": [
    {
     "data": {
      "text/plain": [
       "list"
      ]
     },
     "execution_count": 91,
     "metadata": {},
     "output_type": "execute_result"
    }
   ],
   "source": [
    "type(t5)"
   ]
  },
  {
   "cell_type": "code",
   "execution_count": 93,
   "id": "eca2077d",
   "metadata": {},
   "outputs": [],
   "source": [
    "t5.append(\"Prashant\")"
   ]
  },
  {
   "cell_type": "code",
   "execution_count": 94,
   "id": "da9a76e0",
   "metadata": {},
   "outputs": [
    {
     "data": {
      "text/plain": [
       "[1, 2, 3, 4, 'a', 'b', 'c', 'Prashant']"
      ]
     },
     "execution_count": 94,
     "metadata": {},
     "output_type": "execute_result"
    }
   ],
   "source": [
    "t5"
   ]
  },
  {
   "cell_type": "code",
   "execution_count": 95,
   "id": "a5ec0e94",
   "metadata": {},
   "outputs": [],
   "source": [
    "t1=tuple(t5)"
   ]
  },
  {
   "cell_type": "code",
   "execution_count": 96,
   "id": "921bf816",
   "metadata": {},
   "outputs": [
    {
     "data": {
      "text/plain": [
       "(1, 2, 3, 4, 'a', 'b', 'c', 'Prashant')"
      ]
     },
     "execution_count": 96,
     "metadata": {},
     "output_type": "execute_result"
    }
   ],
   "source": [
    "t1"
   ]
  },
  {
   "cell_type": "code",
   "execution_count": 97,
   "id": "f3dc8619",
   "metadata": {},
   "outputs": [
    {
     "data": {
      "text/plain": [
       "tuple"
      ]
     },
     "execution_count": 97,
     "metadata": {},
     "output_type": "execute_result"
    }
   ],
   "source": [
    "type(t1)"
   ]
  },
  {
   "cell_type": "code",
   "execution_count": 98,
   "id": "0da107c0",
   "metadata": {},
   "outputs": [],
   "source": [
    "## delete the tuple \n",
    "del t1"
   ]
  },
  {
   "cell_type": "code",
   "execution_count": 100,
   "id": "007dfe35",
   "metadata": {},
   "outputs": [],
   "source": [
    "del t5"
   ]
  },
  {
   "cell_type": "code",
   "execution_count": 101,
   "id": "354b9db9",
   "metadata": {},
   "outputs": [
    {
     "ename": "NameError",
     "evalue": "name 't5' is not defined",
     "output_type": "error",
     "traceback": [
      "\u001b[1;31m---------------------------------------------------------------------------\u001b[0m",
      "\u001b[1;31mNameError\u001b[0m                                 Traceback (most recent call last)",
      "Cell \u001b[1;32mIn[101], line 1\u001b[0m\n\u001b[1;32m----> 1\u001b[0m t5\n",
      "\u001b[1;31mNameError\u001b[0m: name 't5' is not defined"
     ]
    }
   ],
   "source": [
    "t5"
   ]
  },
  {
   "cell_type": "code",
   "execution_count": 104,
   "id": "1931bd66",
   "metadata": {},
   "outputs": [
    {
     "name": "stdout",
     "output_type": "stream",
     "text": [
      "Your are corrct\n"
     ]
    }
   ],
   "source": [
    "if 5<6:\n",
    "    print(\"Your are corrct\")\n",
    "else:\n",
    "    print(\"you are wrong\")"
   ]
  },
  {
   "cell_type": "code",
   "execution_count": null,
   "id": "351edd19",
   "metadata": {},
   "outputs": [],
   "source": [
    "list_1=[1,2,3,4,5,6]\n",
    "\n"
   ]
  },
  {
   "cell_type": "code",
   "execution_count": 139,
   "id": "67b77b10",
   "metadata": {},
   "outputs": [
    {
     "name": "stdout",
     "output_type": "stream",
     "text": [
      "Please enter the number b/w 1 to 99 56\n",
      "Game over\n",
      "System number 65\n"
     ]
    }
   ],
   "source": [
    "user_number=int(input(\"Please enter the number b/w 1 to 99 \"))\n",
    "\n",
    "import random\n",
    "\n",
    "system_number=random.randint(1,99)\n",
    "\n",
    "\n",
    "if user_number==system_number:\n",
    "    print('You won the game')\n",
    "else:\n",
    "    print(\"Game over\")\n",
    "    print(\"System number\",system_number)\n"
   ]
  },
  {
   "cell_type": "code",
   "execution_count": 115,
   "id": "a27d48b4",
   "metadata": {},
   "outputs": [
    {
     "data": {
      "text/plain": [
       "str"
      ]
     },
     "execution_count": 115,
     "metadata": {},
     "output_type": "execute_result"
    }
   ],
   "source": [
    "type(user_number)"
   ]
  },
  {
   "cell_type": "code",
   "execution_count": 116,
   "id": "7eb7f4d1",
   "metadata": {},
   "outputs": [
    {
     "data": {
      "text/plain": [
       "'5'"
      ]
     },
     "execution_count": 116,
     "metadata": {},
     "output_type": "execute_result"
    }
   ],
   "source": [
    "user_number"
   ]
  },
  {
   "cell_type": "code",
   "execution_count": 117,
   "id": "0fff466e",
   "metadata": {},
   "outputs": [],
   "source": [
    "user_number=int(user_number)"
   ]
  },
  {
   "cell_type": "code",
   "execution_count": 118,
   "id": "e3d27d8d",
   "metadata": {},
   "outputs": [
    {
     "data": {
      "text/plain": [
       "5"
      ]
     },
     "execution_count": 118,
     "metadata": {},
     "output_type": "execute_result"
    }
   ],
   "source": [
    "user_number"
   ]
  },
  {
   "cell_type": "code",
   "execution_count": 112,
   "id": "96e1bcd2",
   "metadata": {},
   "outputs": [
    {
     "data": {
      "text/plain": [
       "2"
      ]
     },
     "execution_count": 112,
     "metadata": {},
     "output_type": "execute_result"
    }
   ],
   "source": [
    "xyz"
   ]
  },
  {
   "cell_type": "code",
   "execution_count": 113,
   "id": "5af70015",
   "metadata": {},
   "outputs": [
    {
     "data": {
      "text/plain": [
       "int"
      ]
     },
     "execution_count": 113,
     "metadata": {},
     "output_type": "execute_result"
    }
   ],
   "source": [
    "type(xyz)"
   ]
  },
  {
   "cell_type": "code",
   "execution_count": 152,
   "id": "4c37962a",
   "metadata": {},
   "outputs": [
    {
     "name": "stdout",
     "output_type": "stream",
     "text": [
      "Please enter the number b/w 1 to 9967\n",
      "System_number is less than user_number\n",
      "System number  58\n",
      "User number  67\n"
     ]
    }
   ],
   "source": [
    "user_number=int(input(\"Please enter the number b/w 1 to 99\"))\n",
    "\n",
    "import random\n",
    "\n",
    "system_number=random.randint(1,99)\n",
    "\n",
    "if (user_number==system_number):\n",
    "    print ('Same number')\n",
    "    \n",
    "elif user_number > system_number :\n",
    "    print ('System_number is less than user_number')\n",
    "    \n",
    "else:\n",
    "    print ('System_number is greater than user_number')\n",
    "    \n",
    "\n",
    "print(\"System number \",system_number)\n",
    "print(\"User number \",user_number)"
   ]
  },
  {
   "cell_type": "markdown",
   "id": "bdb8c9f9",
   "metadata": {},
   "source": [
    "Dict- It is data stracture which store the data in key and value formate \n",
    "\n",
    "Dict = {\"Name\":\"Prashant\"}"
   ]
  },
  {
   "cell_type": "code",
   "execution_count": 154,
   "id": "2b95f388",
   "metadata": {},
   "outputs": [],
   "source": [
    "d1={ 'Name': 'Prashant','email_id': \"xyz@gmail.com\", \"Age\" : 45, \"Mobile_number\": 123456789}"
   ]
  },
  {
   "cell_type": "code",
   "execution_count": 155,
   "id": "2974d7ea",
   "metadata": {},
   "outputs": [
    {
     "data": {
      "text/plain": [
       "{'Name': 'Prashant',\n",
       " 'email_id': 'xyz@gmail.com',\n",
       " 'Age': 45,\n",
       " 'Mobile_number': 123456789}"
      ]
     },
     "execution_count": 155,
     "metadata": {},
     "output_type": "execute_result"
    }
   ],
   "source": [
    "d1"
   ]
  },
  {
   "cell_type": "code",
   "execution_count": 156,
   "id": "110132b7",
   "metadata": {},
   "outputs": [
    {
     "data": {
      "text/plain": [
       "dict"
      ]
     },
     "execution_count": 156,
     "metadata": {},
     "output_type": "execute_result"
    }
   ],
   "source": [
    "type(d1)"
   ]
  },
  {
   "cell_type": "code",
   "execution_count": 159,
   "id": "729e221c",
   "metadata": {},
   "outputs": [
    {
     "data": {
      "text/plain": [
       "dict_keys(['Name', 'email_id', 'Age', 'Mobile_number'])"
      ]
     },
     "execution_count": 159,
     "metadata": {},
     "output_type": "execute_result"
    }
   ],
   "source": [
    "d1.keys()"
   ]
  },
  {
   "cell_type": "code",
   "execution_count": 160,
   "id": "c4314d4a",
   "metadata": {},
   "outputs": [
    {
     "data": {
      "text/plain": [
       "dict_values(['Prashant', 'xyz@gmail.com', 45, 123456789])"
      ]
     },
     "execution_count": 160,
     "metadata": {},
     "output_type": "execute_result"
    }
   ],
   "source": [
    "d1.values()"
   ]
  },
  {
   "cell_type": "code",
   "execution_count": 161,
   "id": "2874c364",
   "metadata": {},
   "outputs": [
    {
     "data": {
      "text/plain": [
       "'Prashant'"
      ]
     },
     "execution_count": 161,
     "metadata": {},
     "output_type": "execute_result"
    }
   ],
   "source": [
    "d1['Name']"
   ]
  },
  {
   "cell_type": "code",
   "execution_count": 175,
   "id": "efe23388",
   "metadata": {},
   "outputs": [
    {
     "data": {
      "text/plain": [
       "dict_keys(['Name', 'email_id', 'Age', 'Mobile_number'])"
      ]
     },
     "execution_count": 175,
     "metadata": {},
     "output_type": "execute_result"
    }
   ],
   "source": [
    "d1.keys()"
   ]
  },
  {
   "cell_type": "code",
   "execution_count": 176,
   "id": "bc38d6f9",
   "metadata": {},
   "outputs": [
    {
     "data": {
      "text/plain": [
       "dict_values(['Prashant', 'xyz@gmail.com', 45, 123456789])"
      ]
     },
     "execution_count": 176,
     "metadata": {},
     "output_type": "execute_result"
    }
   ],
   "source": [
    "d1.values()"
   ]
  },
  {
   "cell_type": "code",
   "execution_count": 177,
   "id": "19d0400f",
   "metadata": {},
   "outputs": [],
   "source": [
    "## assign the new keys and values \n",
    "\n",
    "d1['address']=\"BLR\""
   ]
  },
  {
   "cell_type": "code",
   "execution_count": 178,
   "id": "0dfb7079",
   "metadata": {},
   "outputs": [
    {
     "data": {
      "text/plain": [
       "{'Name': 'Prashant',\n",
       " 'email_id': 'xyz@gmail.com',\n",
       " 'Age': 45,\n",
       " 'Mobile_number': 123456789,\n",
       " 'address': 'BLR'}"
      ]
     },
     "execution_count": 178,
     "metadata": {},
     "output_type": "execute_result"
    }
   ],
   "source": [
    "d1"
   ]
  },
  {
   "cell_type": "code",
   "execution_count": 179,
   "id": "cd04e0e4",
   "metadata": {},
   "outputs": [
    {
     "ename": "AttributeError",
     "evalue": "'dict' object has no attribute 'append'",
     "output_type": "error",
     "traceback": [
      "\u001b[1;31m---------------------------------------------------------------------------\u001b[0m",
      "\u001b[1;31mAttributeError\u001b[0m                            Traceback (most recent call last)",
      "Cell \u001b[1;32mIn[179], line 1\u001b[0m\n\u001b[1;32m----> 1\u001b[0m d1\u001b[38;5;241m.\u001b[39mappend(\u001b[38;5;124m\"\u001b[39m\u001b[38;5;124mDAL\u001b[39m\u001b[38;5;124m\"\u001b[39m)\n",
      "\u001b[1;31mAttributeError\u001b[0m: 'dict' object has no attribute 'append'"
     ]
    }
   ],
   "source": [
    "d1.append(\"DAL\")\n",
    "\n",
    "## append is not applicable in the dict."
   ]
  },
  {
   "cell_type": "code",
   "execution_count": 180,
   "id": "1ea480ae",
   "metadata": {},
   "outputs": [],
   "source": [
    "d2={\"Name\":\"Vishal\",'age':50,\"Mobile\":58965869}"
   ]
  },
  {
   "cell_type": "markdown",
   "id": "baa97aed",
   "metadata": {},
   "source": [
    "# if condition "
   ]
  },
  {
   "cell_type": "code",
   "execution_count": 187,
   "id": "a869f88e",
   "metadata": {},
   "outputs": [
    {
     "data": {
      "text/plain": [
       "{'Name': 'Prashant',\n",
       " 'email_id': 'xyz@gmail.com',\n",
       " 'Age': 45,\n",
       " 'Mobile_number': 123456789,\n",
       " 'address': 'BLR'}"
      ]
     },
     "execution_count": 187,
     "metadata": {},
     "output_type": "execute_result"
    }
   ],
   "source": [
    "d1"
   ]
  },
  {
   "cell_type": "code",
   "execution_count": 189,
   "id": "b933a9ba",
   "metadata": {},
   "outputs": [
    {
     "name": "stdout",
     "output_type": "stream",
     "text": [
      "Prashant\n"
     ]
    }
   ],
   "source": [
    "for i in d1.keys():\n",
    "    if i =='Name':\n",
    "        print(d1[i])"
   ]
  },
  {
   "cell_type": "code",
   "execution_count": 206,
   "id": "af986f07",
   "metadata": {},
   "outputs": [],
   "source": [
    "### multiple 2 with each number of the list\n",
    "\n",
    "l1=[1,2,3,4,5,6,7,8,9,10]\n",
    "l2=[]\n",
    "\n",
    "for i in l1:\n",
    "    l2.append(i*2)\n",
    "    "
   ]
  },
  {
   "cell_type": "code",
   "execution_count": 225,
   "id": "f86be80e",
   "metadata": {},
   "outputs": [],
   "source": [
    "###  assign all the even number from 1 to 50 into list l3\n",
    "\n",
    "\n",
    "l3=[]\n",
    "for i in range(1,51):\n",
    "    if i % 2==0:\n",
    "        l3.append(i)\n",
    "    \n",
    "\n"
   ]
  },
  {
   "cell_type": "code",
   "execution_count": 229,
   "id": "a3b73114",
   "metadata": {},
   "outputs": [
    {
     "name": "stdout",
     "output_type": "stream",
     "text": [
      "Enter the number 67589\n",
      "Entered Number is odd\n"
     ]
    }
   ],
   "source": [
    "user_number= int(input(\"Enter the number \"))\n",
    "\n",
    "if user_number%2==0:\n",
    "    print(\"Entered number is even\")\n",
    "else:\n",
    "    print(\"Entered Number is odd\")"
   ]
  },
  {
   "cell_type": "code",
   "execution_count": 230,
   "id": "f79e0652",
   "metadata": {},
   "outputs": [
    {
     "name": "stdout",
     "output_type": "stream",
     "text": [
      "Enter the number 67589\n"
     ]
    }
   ],
   "source": [
    "\n",
    "\n",
    "user_number=input(\"Enter the number \")"
   ]
  },
  {
   "cell_type": "code",
   "execution_count": 287,
   "id": "4e0dde60",
   "metadata": {},
   "outputs": [
    {
     "name": "stdout",
     "output_type": "stream",
     "text": [
      "Enter the number 56789\n",
      "even\n"
     ]
    }
   ],
   "source": [
    "user_number=input(\"Enter the number \")\n",
    "\n",
    "l2=[]\n",
    "\n",
    "for i in user_number:\n",
    "    l2.append(i.split())\n",
    "number=l2[len(user_number)-1][0]\n",
    "\n",
    "number=int(number)\n",
    "\n",
    "\n",
    "l1=[0,2,4,6,8]\n",
    "if number in l1:\n",
    "    print(\"even\")\n",
    "else:\n",
    "    print('odd')\n",
    "    \n",
    "    \n",
    "    "
   ]
  },
  {
   "cell_type": "code",
   "execution_count": 281,
   "id": "691b61a4",
   "metadata": {},
   "outputs": [
    {
     "data": {
      "text/plain": [
       "'9'"
      ]
     },
     "execution_count": 281,
     "metadata": {},
     "output_type": "execute_result"
    }
   ],
   "source": [
    "\n"
   ]
  },
  {
   "cell_type": "markdown",
   "id": "b47c6b6f",
   "metadata": {},
   "source": [
    "## 17th Feb 2024 Dictionary"
   ]
  },
  {
   "cell_type": "code",
   "execution_count": 1,
   "id": "feb0b4ab",
   "metadata": {},
   "outputs": [],
   "source": [
    "d1={}"
   ]
  },
  {
   "cell_type": "code",
   "execution_count": 2,
   "id": "01b3db11",
   "metadata": {},
   "outputs": [
    {
     "data": {
      "text/plain": [
       "dict"
      ]
     },
     "execution_count": 2,
     "metadata": {},
     "output_type": "execute_result"
    }
   ],
   "source": [
    "type(d1)"
   ]
  },
  {
   "cell_type": "code",
   "execution_count": 3,
   "id": "a0efc16e",
   "metadata": {},
   "outputs": [],
   "source": [
    "d1={ 'Name': 'Prashant','email_id': \"xyz@gmail.com\", \"Age\" : 45, \"Mobile_number\": 123456789}"
   ]
  },
  {
   "cell_type": "code",
   "execution_count": 4,
   "id": "4ac2b791",
   "metadata": {},
   "outputs": [
    {
     "data": {
      "text/plain": [
       "{'Name': 'Prashant',\n",
       " 'email_id': 'xyz@gmail.com',\n",
       " 'Age': 45,\n",
       " 'Mobile_number': 123456789}"
      ]
     },
     "execution_count": 4,
     "metadata": {},
     "output_type": "execute_result"
    }
   ],
   "source": [
    "d1"
   ]
  },
  {
   "cell_type": "code",
   "execution_count": 5,
   "id": "fb5d028a",
   "metadata": {},
   "outputs": [
    {
     "data": {
      "text/plain": [
       "'Prashant'"
      ]
     },
     "execution_count": 5,
     "metadata": {},
     "output_type": "execute_result"
    }
   ],
   "source": [
    "## to access the value you can use keys \n",
    "d1[\"Name\"]"
   ]
  },
  {
   "cell_type": "code",
   "execution_count": 6,
   "id": "b98ef8ca",
   "metadata": {},
   "outputs": [
    {
     "data": {
      "text/plain": [
       "'xyz@gmail.com'"
      ]
     },
     "execution_count": 6,
     "metadata": {},
     "output_type": "execute_result"
    }
   ],
   "source": [
    "d1['email_id']"
   ]
  },
  {
   "cell_type": "code",
   "execution_count": 8,
   "id": "1d115927",
   "metadata": {},
   "outputs": [
    {
     "data": {
      "text/plain": [
       "dict_keys(['Name', 'email_id', 'Age', 'Mobile_number'])"
      ]
     },
     "execution_count": 8,
     "metadata": {},
     "output_type": "execute_result"
    }
   ],
   "source": [
    "## you want to access the entire keys \n",
    "d1.keys()"
   ]
  },
  {
   "cell_type": "code",
   "execution_count": 9,
   "id": "fb9f48a4",
   "metadata": {},
   "outputs": [
    {
     "data": {
      "text/plain": [
       "dict_values(['Prashant', 'xyz@gmail.com', 45, 123456789])"
      ]
     },
     "execution_count": 9,
     "metadata": {},
     "output_type": "execute_result"
    }
   ],
   "source": [
    "## you want to access the all values \n",
    "\n",
    "d1.values()"
   ]
  },
  {
   "cell_type": "code",
   "execution_count": 10,
   "id": "f9d54e4b",
   "metadata": {},
   "outputs": [],
   "source": [
    "## you want to add new items in the dict d1\n",
    "\n",
    "d1[\"Address\"]=\"BLR\""
   ]
  },
  {
   "cell_type": "code",
   "execution_count": 11,
   "id": "6d28a70f",
   "metadata": {},
   "outputs": [
    {
     "data": {
      "text/plain": [
       "{'Name': 'Prashant',\n",
       " 'email_id': 'xyz@gmail.com',\n",
       " 'Age': 45,\n",
       " 'Mobile_number': 123456789,\n",
       " 'Address': 'BLR'}"
      ]
     },
     "execution_count": 11,
     "metadata": {},
     "output_type": "execute_result"
    }
   ],
   "source": [
    "d1"
   ]
  },
  {
   "cell_type": "code",
   "execution_count": 13,
   "id": "c5bfe3e3",
   "metadata": {},
   "outputs": [],
   "source": [
    "## you want to change the address ,i.e. over writing \n",
    "\n",
    "d1[\"Address\"]=\"Delhi\""
   ]
  },
  {
   "cell_type": "code",
   "execution_count": 14,
   "id": "2ad9cf4d",
   "metadata": {},
   "outputs": [
    {
     "data": {
      "text/plain": [
       "{'Name': 'Prashant',\n",
       " 'email_id': 'xyz@gmail.com',\n",
       " 'Age': 45,\n",
       " 'Mobile_number': 123456789,\n",
       " 'Address': 'Delhi'}"
      ]
     },
     "execution_count": 14,
     "metadata": {},
     "output_type": "execute_result"
    }
   ],
   "source": [
    "d1"
   ]
  },
  {
   "cell_type": "code",
   "execution_count": 15,
   "id": "5bd22275",
   "metadata": {},
   "outputs": [],
   "source": [
    "## you want to remove the address key from the dict d1\n",
    "\n",
    "del d1[\"Address\"]"
   ]
  },
  {
   "cell_type": "code",
   "execution_count": 16,
   "id": "e2b6ca86",
   "metadata": {},
   "outputs": [
    {
     "data": {
      "text/plain": [
       "{'Name': 'Prashant',\n",
       " 'email_id': 'xyz@gmail.com',\n",
       " 'Age': 45,\n",
       " 'Mobile_number': 123456789}"
      ]
     },
     "execution_count": 16,
     "metadata": {},
     "output_type": "execute_result"
    }
   ],
   "source": [
    "d1"
   ]
  },
  {
   "cell_type": "code",
   "execution_count": 21,
   "id": "e4c51746",
   "metadata": {},
   "outputs": [
    {
     "data": {
      "text/plain": [
       "45"
      ]
     },
     "execution_count": 21,
     "metadata": {},
     "output_type": "execute_result"
    }
   ],
   "source": [
    "## pop \n",
    "\n",
    "d1.pop(\"Age\")"
   ]
  },
  {
   "cell_type": "code",
   "execution_count": 22,
   "id": "b50d6b2a",
   "metadata": {},
   "outputs": [
    {
     "data": {
      "text/plain": [
       "{'Name': 'Prashant', 'email_id': 'xyz@gmail.com', 'Mobile_number': 123456789}"
      ]
     },
     "execution_count": 22,
     "metadata": {},
     "output_type": "execute_result"
    }
   ],
   "source": [
    "d1"
   ]
  },
  {
   "cell_type": "code",
   "execution_count": 23,
   "id": "428a4f28",
   "metadata": {},
   "outputs": [],
   "source": [
    "## you want to clear the entire dict \n",
    "\n",
    "d1.clear()"
   ]
  },
  {
   "cell_type": "code",
   "execution_count": 24,
   "id": "89e803fc",
   "metadata": {},
   "outputs": [
    {
     "data": {
      "text/plain": [
       "{}"
      ]
     },
     "execution_count": 24,
     "metadata": {},
     "output_type": "execute_result"
    }
   ],
   "source": [
    "d1"
   ]
  },
  {
   "cell_type": "code",
   "execution_count": 26,
   "id": "ae100fa4",
   "metadata": {},
   "outputs": [],
   "source": [
    "d2={\n",
    "    \n",
    "    \"Country\":\"India\",\n",
    "    \"State\":\"Himachal\",\n",
    "    \"city\": \"Kullu\",\n",
    "    \"pin\":56987\n",
    "    \n",
    "}\n",
    "\n",
    "d3={\n",
    "    \n",
    "    'Country_code':29,\n",
    "    \"Invoice\":12365,\n",
    "    'amount':12000\n",
    "    \n",
    "    \n",
    "}"
   ]
  },
  {
   "cell_type": "code",
   "execution_count": 27,
   "id": "293447bb",
   "metadata": {},
   "outputs": [
    {
     "name": "stdout",
     "output_type": "stream",
     "text": [
      "{'Country': 'India', 'State': 'Himachal', 'city': 'Kullu', 'pin': 56987}\n",
      "{'Country_code': 29, 'Invoice': 12365, 'amount': 12000}\n"
     ]
    }
   ],
   "source": [
    "print(d2)\n",
    "print(d3)"
   ]
  },
  {
   "cell_type": "code",
   "execution_count": 29,
   "id": "4eb69e8b",
   "metadata": {},
   "outputs": [],
   "source": [
    "## to combine the dict both d2 and d3 \n",
    "\n",
    "d2.update(d3)"
   ]
  },
  {
   "cell_type": "code",
   "execution_count": 30,
   "id": "e9d5bc7c",
   "metadata": {},
   "outputs": [
    {
     "data": {
      "text/plain": [
       "{'Country': 'India',\n",
       " 'State': 'Himachal',\n",
       " 'city': 'Kullu',\n",
       " 'pin': 56987,\n",
       " 'Country_code': 29,\n",
       " 'Invoice': 12365,\n",
       " 'amount': 12000}"
      ]
     },
     "execution_count": 30,
     "metadata": {},
     "output_type": "execute_result"
    }
   ],
   "source": [
    "d2"
   ]
  },
  {
   "cell_type": "code",
   "execution_count": 31,
   "id": "43183216",
   "metadata": {},
   "outputs": [
    {
     "name": "stdout",
     "output_type": "stream",
     "text": [
      "Country\n",
      "State\n",
      "city\n",
      "pin\n",
      "Country_code\n",
      "Invoice\n",
      "amount\n"
     ]
    }
   ],
   "source": [
    "## you can also loop the dict using for loop\n",
    "\n",
    "for i in d2: ## it will only itrate the key of the dict \n",
    "    print(i)"
   ]
  },
  {
   "cell_type": "code",
   "execution_count": 39,
   "id": "de73e361",
   "metadata": {},
   "outputs": [
    {
     "name": "stdout",
     "output_type": "stream",
     "text": [
      "Country : India\n",
      "State : Himachal\n",
      "city : Kullu\n",
      "pin : 56987\n",
      "Country_code : 29\n",
      "Invoice : 12365\n",
      "amount : 12000\n"
     ]
    }
   ],
   "source": [
    "## how to get the values of dict uisng for loop \n",
    "\n",
    "for i in d2:\n",
    "    print(i,\":\",d2[i])"
   ]
  },
  {
   "cell_type": "code",
   "execution_count": 34,
   "id": "65959cc2",
   "metadata": {},
   "outputs": [
    {
     "name": "stdout",
     "output_type": "stream",
     "text": [
      "India\n",
      "Himachal\n",
      "Kullu\n",
      "56987\n",
      "29\n",
      "12365\n",
      "12000\n"
     ]
    }
   ],
   "source": [
    "for i in d2.values():\n",
    "    print(i)"
   ]
  },
  {
   "cell_type": "code",
   "execution_count": null,
   "id": "4b575d56",
   "metadata": {},
   "outputs": [],
   "source": []
  },
  {
   "cell_type": "code",
   "execution_count": 35,
   "id": "4f0940de",
   "metadata": {},
   "outputs": [
    {
     "data": {
      "text/plain": [
       "dict_values(['India', 'Himachal', 'Kullu', 56987, 29, 12365, 12000])"
      ]
     },
     "execution_count": 35,
     "metadata": {},
     "output_type": "execute_result"
    }
   ],
   "source": [
    "d2.values()"
   ]
  },
  {
   "cell_type": "markdown",
   "id": "3ca8ec57",
   "metadata": {},
   "source": [
    "## set "
   ]
  },
  {
   "cell_type": "markdown",
   "id": "97540c09",
   "metadata": {},
   "source": [
    "# what is set ?\n",
    "\n",
    "- Set is built in data stracture , used for storing the ordered , unique data or element \n",
    "\n",
    "# How can we create the set?\n",
    "\n",
    "- Set can be created buing the curly bracket {}"
   ]
  },
  {
   "cell_type": "code",
   "execution_count": 41,
   "id": "87c7dcc4",
   "metadata": {},
   "outputs": [],
   "source": [
    "s1={1,2,3,4,5,6,6,6,6,8,45,7,7,7,9,10,100,56}"
   ]
  },
  {
   "cell_type": "code",
   "execution_count": 42,
   "id": "7000c6b2",
   "metadata": {},
   "outputs": [
    {
     "data": {
      "text/plain": [
       "set"
      ]
     },
     "execution_count": 42,
     "metadata": {},
     "output_type": "execute_result"
    }
   ],
   "source": [
    "type(s1)"
   ]
  },
  {
   "cell_type": "code",
   "execution_count": 43,
   "id": "fd59c5bd",
   "metadata": {},
   "outputs": [
    {
     "data": {
      "text/plain": [
       "{1, 2, 3, 4, 5, 6, 7, 8, 9, 10, 45, 56, 100}"
      ]
     },
     "execution_count": 43,
     "metadata": {},
     "output_type": "execute_result"
    }
   ],
   "source": [
    "s1"
   ]
  },
  {
   "cell_type": "code",
   "execution_count": 44,
   "id": "cdbd71d7",
   "metadata": {},
   "outputs": [],
   "source": [
    "## add the new data into the s1 set \n",
    "\n",
    "s1.add(1000)"
   ]
  },
  {
   "cell_type": "code",
   "execution_count": 45,
   "id": "38fd17f6",
   "metadata": {},
   "outputs": [
    {
     "data": {
      "text/plain": [
       "{1, 2, 3, 4, 5, 6, 7, 8, 9, 10, 45, 56, 100, 1000}"
      ]
     },
     "execution_count": 45,
     "metadata": {},
     "output_type": "execute_result"
    }
   ],
   "source": [
    "s1"
   ]
  },
  {
   "cell_type": "code",
   "execution_count": 46,
   "id": "2729011c",
   "metadata": {},
   "outputs": [],
   "source": [
    "s1.add(36)"
   ]
  },
  {
   "cell_type": "code",
   "execution_count": 47,
   "id": "df1116a9",
   "metadata": {},
   "outputs": [
    {
     "data": {
      "text/plain": [
       "{1, 2, 3, 4, 5, 6, 7, 8, 9, 10, 36, 45, 56, 100, 1000}"
      ]
     },
     "execution_count": 47,
     "metadata": {},
     "output_type": "execute_result"
    }
   ],
   "source": [
    "s1"
   ]
  },
  {
   "cell_type": "code",
   "execution_count": 51,
   "id": "840c327f",
   "metadata": {},
   "outputs": [],
   "source": [
    "s2={\"Prashant\",\"Vishal\",\"Niraj\",\"Niraj\",\"Niraj\",\"Niraj\"}"
   ]
  },
  {
   "cell_type": "code",
   "execution_count": 52,
   "id": "2bf65877",
   "metadata": {},
   "outputs": [
    {
     "data": {
      "text/plain": [
       "{'Niraj', 'Prashant', 'Vishal'}"
      ]
     },
     "execution_count": 52,
     "metadata": {},
     "output_type": "execute_result"
    }
   ],
   "source": [
    "s2"
   ]
  },
  {
   "cell_type": "code",
   "execution_count": 53,
   "id": "c39ce728",
   "metadata": {},
   "outputs": [
    {
     "ename": "TypeError",
     "evalue": "unhashable type: 'set'",
     "output_type": "error",
     "traceback": [
      "\u001b[1;31m---------------------------------------------------------------------------\u001b[0m",
      "\u001b[1;31mTypeError\u001b[0m                                 Traceback (most recent call last)",
      "Cell \u001b[1;32mIn[53], line 1\u001b[0m\n\u001b[1;32m----> 1\u001b[0m s1\u001b[38;5;241m.\u001b[39madd(s2)\n",
      "\u001b[1;31mTypeError\u001b[0m: unhashable type: 'set'"
     ]
    }
   ],
   "source": [
    "s1.add(s2)"
   ]
  },
  {
   "cell_type": "code",
   "execution_count": 54,
   "id": "801edbdc",
   "metadata": {},
   "outputs": [],
   "source": [
    "s1.update(s2)"
   ]
  },
  {
   "cell_type": "code",
   "execution_count": 55,
   "id": "3916348b",
   "metadata": {},
   "outputs": [
    {
     "data": {
      "text/plain": [
       "{1,\n",
       " 10,\n",
       " 100,\n",
       " 1000,\n",
       " 2,\n",
       " 3,\n",
       " 36,\n",
       " 4,\n",
       " 45,\n",
       " 5,\n",
       " 56,\n",
       " 6,\n",
       " 7,\n",
       " 8,\n",
       " 9,\n",
       " 'Niraj',\n",
       " 'Prashant',\n",
       " 'Vishal'}"
      ]
     },
     "execution_count": 55,
     "metadata": {},
     "output_type": "execute_result"
    }
   ],
   "source": [
    "s1"
   ]
  },
  {
   "cell_type": "code",
   "execution_count": 56,
   "id": "ab25e9b9",
   "metadata": {},
   "outputs": [],
   "source": [
    "s1.remove(1000)"
   ]
  },
  {
   "cell_type": "code",
   "execution_count": 57,
   "id": "3ceb2bb9",
   "metadata": {},
   "outputs": [
    {
     "data": {
      "text/plain": [
       "{1, 10, 100, 2, 3, 36, 4, 45, 5, 56, 6, 7, 8, 9, 'Niraj', 'Prashant', 'Vishal'}"
      ]
     },
     "execution_count": 57,
     "metadata": {},
     "output_type": "execute_result"
    }
   ],
   "source": [
    "s1"
   ]
  },
  {
   "cell_type": "code",
   "execution_count": 62,
   "id": "80dbead6",
   "metadata": {},
   "outputs": [
    {
     "ename": "KeyError",
     "evalue": "10000",
     "output_type": "error",
     "traceback": [
      "\u001b[1;31m---------------------------------------------------------------------------\u001b[0m",
      "\u001b[1;31mKeyError\u001b[0m                                  Traceback (most recent call last)",
      "Cell \u001b[1;32mIn[62], line 1\u001b[0m\n\u001b[1;32m----> 1\u001b[0m s1\u001b[38;5;241m.\u001b[39mremove(\u001b[38;5;241m10000\u001b[39m)\n",
      "\u001b[1;31mKeyError\u001b[0m: 10000"
     ]
    }
   ],
   "source": [
    "s1.remove(10000)"
   ]
  },
  {
   "cell_type": "code",
   "execution_count": 59,
   "id": "b6857838",
   "metadata": {},
   "outputs": [],
   "source": [
    "s1.discard(10000)"
   ]
  },
  {
   "cell_type": "code",
   "execution_count": 60,
   "id": "924067c3",
   "metadata": {},
   "outputs": [],
   "source": [
    "s1.discard(100)"
   ]
  },
  {
   "cell_type": "code",
   "execution_count": 61,
   "id": "a58816f8",
   "metadata": {},
   "outputs": [
    {
     "data": {
      "text/plain": [
       "{1, 10, 2, 3, 36, 4, 45, 5, 56, 6, 7, 8, 9, 'Niraj', 'Prashant', 'Vishal'}"
      ]
     },
     "execution_count": 61,
     "metadata": {},
     "output_type": "execute_result"
    }
   ],
   "source": [
    "s1"
   ]
  },
  {
   "cell_type": "code",
   "execution_count": 66,
   "id": "75a27811",
   "metadata": {},
   "outputs": [
    {
     "data": {
      "text/plain": [
       "3"
      ]
     },
     "execution_count": 66,
     "metadata": {},
     "output_type": "execute_result"
    }
   ],
   "source": [
    "## pop\n",
    "s1.pop()"
   ]
  },
  {
   "cell_type": "code",
   "execution_count": 67,
   "id": "a67f4b25",
   "metadata": {},
   "outputs": [
    {
     "data": {
      "text/plain": [
       "{10, 36, 4, 45, 5, 56, 6, 7, 8, 9, 'Niraj', 'Prashant', 'Vishal'}"
      ]
     },
     "execution_count": 67,
     "metadata": {},
     "output_type": "execute_result"
    }
   ],
   "source": [
    "s1"
   ]
  },
  {
   "cell_type": "markdown",
   "id": "27359fef",
   "metadata": {},
   "source": [
    "## set operation \n",
    "\n",
    "- union |\n",
    "- insersection &\n",
    "- defference  -"
   ]
  },
  {
   "cell_type": "code",
   "execution_count": 70,
   "id": "72326c35",
   "metadata": {},
   "outputs": [],
   "source": [
    "s3={5,6,78,56,66,\"Vishal\"}"
   ]
  },
  {
   "cell_type": "code",
   "execution_count": 75,
   "id": "11404b47",
   "metadata": {},
   "outputs": [
    {
     "data": {
      "text/plain": [
       "{10, 36, 4, 45, 5, 56, 6, 7, 8, 9, 'Niraj', 'Prashant', 'Vishal'}"
      ]
     },
     "execution_count": 75,
     "metadata": {},
     "output_type": "execute_result"
    }
   ],
   "source": [
    "s1"
   ]
  },
  {
   "cell_type": "code",
   "execution_count": 71,
   "id": "7b93d5ce",
   "metadata": {},
   "outputs": [
    {
     "data": {
      "text/plain": [
       "{5, 56, 6, 66, 78, 'Vishal'}"
      ]
     },
     "execution_count": 71,
     "metadata": {},
     "output_type": "execute_result"
    }
   ],
   "source": [
    "s3"
   ]
  },
  {
   "cell_type": "code",
   "execution_count": 72,
   "id": "335d1a1e",
   "metadata": {},
   "outputs": [
    {
     "data": {
      "text/plain": [
       "{10, 36, 4, 45, 5, 56, 6, 66, 7, 78, 8, 9, 'Niraj', 'Prashant', 'Vishal'}"
      ]
     },
     "execution_count": 72,
     "metadata": {},
     "output_type": "execute_result"
    }
   ],
   "source": [
    "## union  combine the two or more set and present the unique element\n",
    "\n",
    "s1|s3"
   ]
  },
  {
   "cell_type": "code",
   "execution_count": 74,
   "id": "f03d0c1d",
   "metadata": {},
   "outputs": [
    {
     "data": {
      "text/plain": [
       "{5, 56, 6, 'Vishal'}"
      ]
     },
     "execution_count": 74,
     "metadata": {},
     "output_type": "execute_result"
    }
   ],
   "source": [
    "## insersection - It prove the common element b/w two set \n",
    "s1 &s3 "
   ]
  },
  {
   "cell_type": "code",
   "execution_count": 76,
   "id": "571c5f89",
   "metadata": {},
   "outputs": [
    {
     "data": {
      "text/plain": [
       "{10, 36, 4, 45, 7, 8, 9, 'Niraj', 'Prashant'}"
      ]
     },
     "execution_count": 76,
     "metadata": {},
     "output_type": "execute_result"
    }
   ],
   "source": [
    "# difference \n",
    "\n",
    "s1-s3"
   ]
  },
  {
   "cell_type": "code",
   "execution_count": 77,
   "id": "4cdac9cf",
   "metadata": {},
   "outputs": [
    {
     "data": {
      "text/plain": [
       "13"
      ]
     },
     "execution_count": 77,
     "metadata": {},
     "output_type": "execute_result"
    }
   ],
   "source": [
    "len(s1)"
   ]
  },
  {
   "cell_type": "code",
   "execution_count": 78,
   "id": "5272eaf7",
   "metadata": {},
   "outputs": [
    {
     "data": {
      "text/plain": [
       "6"
      ]
     },
     "execution_count": 78,
     "metadata": {},
     "output_type": "execute_result"
    }
   ],
   "source": [
    "len(s3)"
   ]
  },
  {
   "cell_type": "code",
   "execution_count": 79,
   "id": "5cf13583",
   "metadata": {},
   "outputs": [
    {
     "name": "stdout",
     "output_type": "stream",
     "text": [
      "4\n",
      "5\n",
      "6\n",
      "7\n",
      "8\n",
      "9\n",
      "10\n",
      "45\n",
      "Niraj\n",
      "Vishal\n",
      "Prashant\n",
      "36\n",
      "56\n"
     ]
    }
   ],
   "source": [
    "for i in s1:\n",
    "    print(i)"
   ]
  },
  {
   "cell_type": "code",
   "execution_count": 80,
   "id": "392dadc6",
   "metadata": {},
   "outputs": [
    {
     "name": "stdout",
     "output_type": "stream",
     "text": [
      "1\n",
      "3\n",
      "5\n",
      "7\n",
      "9\n"
     ]
    }
   ],
   "source": [
    "## create a list and iterate using for loop . \n",
    "\n",
    "list1 = [1, 3, 5, 7, 9] \n",
    "for i in list: \n",
    "  print(i)"
   ]
  },
  {
   "cell_type": "code",
   "execution_count": 85,
   "id": "b25b7ed7",
   "metadata": {},
   "outputs": [
    {
     "name": "stdout",
     "output_type": "stream",
     "text": [
      "0 1\n",
      "1 2\n",
      "2 3\n",
      "3 4\n",
      "4 5\n"
     ]
    }
   ],
   "source": [
    "l1 = [1,2,3,4,5]\n",
    "for i in l1:\n",
    "    print(l1.index(i),i)\n"
   ]
  },
  {
   "cell_type": "code",
   "execution_count": 94,
   "id": "dc54119f",
   "metadata": {},
   "outputs": [
    {
     "ename": "SyntaxError",
     "evalue": "invalid syntax (3984266551.py, line 1)",
     "output_type": "error",
     "traceback": [
      "\u001b[1;36m  Cell \u001b[1;32mIn[94], line 1\u001b[1;36m\u001b[0m\n\u001b[1;33m    for idex,j  in enumerate l1 :\u001b[0m\n\u001b[1;37m                             ^\u001b[0m\n\u001b[1;31mSyntaxError\u001b[0m\u001b[1;31m:\u001b[0m invalid syntax\n"
     ]
    }
   ],
   "source": [
    "## iterate the list and save in different list in opposite direction."
   ]
  },
  {
   "cell_type": "code",
   "execution_count": 92,
   "id": "9007b6ad",
   "metadata": {},
   "outputs": [
    {
     "data": {
      "text/plain": [
       "[1, 2, 3, 4, 5]"
      ]
     },
     "execution_count": 92,
     "metadata": {},
     "output_type": "execute_result"
    }
   ],
   "source": [
    "l1"
   ]
  },
  {
   "cell_type": "code",
   "execution_count": null,
   "id": "048a90fe",
   "metadata": {},
   "outputs": [],
   "source": []
  }
 ],
 "metadata": {
  "kernelspec": {
   "display_name": "Python 3 (ipykernel)",
   "language": "python",
   "name": "python3"
  },
  "language_info": {
   "codemirror_mode": {
    "name": "ipython",
    "version": 3
   },
   "file_extension": ".py",
   "mimetype": "text/x-python",
   "name": "python",
   "nbconvert_exporter": "python",
   "pygments_lexer": "ipython3",
   "version": "3.11.5"
  }
 },
 "nbformat": 4,
 "nbformat_minor": 5
}
