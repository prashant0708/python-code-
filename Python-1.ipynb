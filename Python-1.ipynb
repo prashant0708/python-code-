{
 "cells": [
  {
   "cell_type": "markdown",
   "id": "9663b6df",
   "metadata": {},
   "source": [
    "## This is the first day of Python class \n",
    "\n",
    "Today we are going to leran the basic of Python \n",
    "[click for more details](https://docs.python.org/3/)"
   ]
  },
  {
   "cell_type": "code",
   "execution_count": 3,
   "id": "0f8d549d",
   "metadata": {},
   "outputs": [
    {
     "name": "stdout",
     "output_type": "stream",
     "text": [
      "Hello  I am in the class of  python \n"
     ]
    }
   ],
   "source": [
    "print(\"Hello  I am in the class of  python \")"
   ]
  },
  {
   "cell_type": "markdown",
   "id": "751550f3",
   "metadata": {},
   "source": [
    "## Data types \n",
    "\n",
    "- String - \"Name\",'Address','Pincode','Any alphanumerical value', Example - Prashant, Bangalore,45673,prashant.singh@gmail.com,B5\n",
    "always string must be inside the double or single inverted-coma \n",
    "\n",
    "- Int-0 to 9 exmaple - 5, 99, 9999,45879674\n",
    "- float - decimal values - 45.67,23.56\n",
    "- Date - 12-02-2024\n",
    "- Dateand time- 14-02-2024 10:56:00"
   ]
  },
  {
   "cell_type": "code",
   "execution_count": 6,
   "id": "97f6cf50",
   "metadata": {},
   "outputs": [],
   "source": [
    "X=5\n",
    "Y=6"
   ]
  },
  {
   "cell_type": "code",
   "execution_count": 7,
   "id": "742eb702",
   "metadata": {},
   "outputs": [
    {
     "data": {
      "text/plain": [
       "5"
      ]
     },
     "execution_count": 7,
     "metadata": {},
     "output_type": "execute_result"
    }
   ],
   "source": [
    "X"
   ]
  },
  {
   "cell_type": "code",
   "execution_count": 8,
   "id": "e8edd933",
   "metadata": {},
   "outputs": [
    {
     "data": {
      "text/plain": [
       "6"
      ]
     },
     "execution_count": 8,
     "metadata": {},
     "output_type": "execute_result"
    }
   ],
   "source": [
    "Y"
   ]
  },
  {
   "cell_type": "code",
   "execution_count": 9,
   "id": "bf011863",
   "metadata": {},
   "outputs": [
    {
     "name": "stdout",
     "output_type": "stream",
     "text": [
      "5 6\n"
     ]
    }
   ],
   "source": [
    "print(X,Y)"
   ]
  },
  {
   "cell_type": "code",
   "execution_count": 11,
   "id": "e7880ba2",
   "metadata": {},
   "outputs": [
    {
     "data": {
      "text/plain": [
       "11"
      ]
     },
     "execution_count": 11,
     "metadata": {},
     "output_type": "execute_result"
    }
   ],
   "source": [
    "X+Y"
   ]
  },
  {
   "cell_type": "code",
   "execution_count": 12,
   "id": "706b7c27",
   "metadata": {},
   "outputs": [],
   "source": [
    "X,Y=7,8"
   ]
  },
  {
   "cell_type": "code",
   "execution_count": 13,
   "id": "1c27b536",
   "metadata": {},
   "outputs": [
    {
     "data": {
      "text/plain": [
       "7"
      ]
     },
     "execution_count": 13,
     "metadata": {},
     "output_type": "execute_result"
    }
   ],
   "source": [
    "X"
   ]
  },
  {
   "cell_type": "code",
   "execution_count": 14,
   "id": "12ea9d9f",
   "metadata": {},
   "outputs": [
    {
     "data": {
      "text/plain": [
       "8"
      ]
     },
     "execution_count": 14,
     "metadata": {},
     "output_type": "execute_result"
    }
   ],
   "source": [
    "Y"
   ]
  },
  {
   "cell_type": "code",
   "execution_count": 15,
   "id": "23ffde34",
   "metadata": {},
   "outputs": [
    {
     "ename": "SyntaxError",
     "evalue": "invalid syntax (2852799696.py, line 1)",
     "output_type": "error",
     "traceback": [
      "\u001b[1;36m  Cell \u001b[1;32mIn[15], line 1\u001b[1;36m\u001b[0m\n\u001b[1;33m    X Y=7\u001b[0m\n\u001b[1;37m      ^\u001b[0m\n\u001b[1;31mSyntaxError\u001b[0m\u001b[1;31m:\u001b[0m invalid syntax\n"
     ]
    }
   ],
   "source": [
    "X_Y=7"
   ]
  },
  {
   "cell_type": "code",
   "execution_count": 19,
   "id": "1a9f4fd3",
   "metadata": {},
   "outputs": [],
   "source": [
    "full ,name = 'Prashant', 'Singh'"
   ]
  },
  {
   "cell_type": "code",
   "execution_count": 20,
   "id": "e8b9d868",
   "metadata": {},
   "outputs": [
    {
     "data": {
      "text/plain": [
       "'Prashant'"
      ]
     },
     "execution_count": 20,
     "metadata": {},
     "output_type": "execute_result"
    }
   ],
   "source": [
    "full"
   ]
  },
  {
   "cell_type": "code",
   "execution_count": 22,
   "id": "8e71b66f",
   "metadata": {},
   "outputs": [
    {
     "data": {
      "text/plain": [
       "'Singh'"
      ]
     },
     "execution_count": 22,
     "metadata": {},
     "output_type": "execute_result"
    }
   ],
   "source": [
    "name"
   ]
  },
  {
   "cell_type": "code",
   "execution_count": 24,
   "id": "15d0b66e",
   "metadata": {},
   "outputs": [],
   "source": [
    "full9='Prashant'"
   ]
  },
  {
   "cell_type": "code",
   "execution_count": 26,
   "id": "5efc1888",
   "metadata": {},
   "outputs": [],
   "source": [
    "## I want to assign 45 and 65 to two different variable and find the product of it\n",
    "\n",
    "first_number = 45\n",
    "second_number=65"
   ]
  },
  {
   "cell_type": "code",
   "execution_count": 27,
   "id": "6f5d5207",
   "metadata": {},
   "outputs": [
    {
     "name": "stdout",
     "output_type": "stream",
     "text": [
      "45 65\n"
     ]
    }
   ],
   "source": [
    "print(first_number,second_number)"
   ]
  },
  {
   "cell_type": "code",
   "execution_count": 30,
   "id": "8f0dd1e5",
   "metadata": {},
   "outputs": [
    {
     "data": {
      "text/plain": [
       "110"
      ]
     },
     "execution_count": 30,
     "metadata": {},
     "output_type": "execute_result"
    }
   ],
   "source": [
    "first_number+second_number"
   ]
  },
  {
   "cell_type": "code",
   "execution_count": 31,
   "id": "75ecb98d",
   "metadata": {},
   "outputs": [],
   "source": [
    "a=34,56,78"
   ]
  },
  {
   "cell_type": "code",
   "execution_count": 33,
   "id": "b1d5f5ac",
   "metadata": {},
   "outputs": [
    {
     "data": {
      "text/plain": [
       "set"
      ]
     },
     "execution_count": 33,
     "metadata": {},
     "output_type": "execute_result"
    }
   ],
   "source": []
  },
  {
   "cell_type": "code",
   "execution_count": 50,
   "id": "1d2cee36",
   "metadata": {},
   "outputs": [
    {
     "name": "stdout",
     "output_type": "stream",
     "text": [
      "Please enter the 1st Number 6\n",
      "Please enter the 2st Number 8\n",
      "The sum of two number is   14\n"
     ]
    }
   ],
   "source": [
    "## i want that user shound enter two values and code shoud should return the sum of those values \n",
    "\n",
    "a=int(input(\"Please enter the 1st Number \"))\n",
    "b=int(input(\"Please enter the 2nd Number \"))\n",
    "result=a+b\n",
    "print(\"The sum of two number is  \",result)"
   ]
  },
  {
   "cell_type": "code",
   "execution_count": 53,
   "id": "3b0e2259",
   "metadata": {},
   "outputs": [
    {
     "name": "stdout",
     "output_type": "stream",
     "text": [
      "Please enter the 1st Number 5\n",
      "Please enter the 2nd Number 6\n",
      "Please enter the 3rd Number 7\n",
      "Please enter the 4th Number 8\n",
      "The sum of 4 number is  26\n"
     ]
    }
   ],
   "source": [
    "## Take the four input from the user and add those numbers\n",
    "\n",
    "\n",
    "a=int(input(\"Please enter the 1st Number \"))  #1st user input \n",
    "\n",
    "b=int(input(\"Please enter the 2nd Number \"))  #2nd user input \n",
    "\n",
    "c=int(input(\"Please enter the 3rd Number \"))  # 3rd user input \n",
    "\n",
    "d=int(input(\"Please enter the 4th Number \"))  # 4th user input\n",
    "\n",
    "result= a+b+c+d # sum operation of all the number \n",
    "print(\"The sum of 4 number is \",result)\n"
   ]
  },
  {
   "cell_type": "code",
   "execution_count": 57,
   "id": "2450f45d",
   "metadata": {},
   "outputs": [
    {
     "name": "stdout",
     "output_type": "stream",
     "text": [
      "Please enter the 1st Number 6\n",
      "Please enter the 2nd Number 4\n",
      "Division of two number is  1.5\n"
     ]
    }
   ],
   "source": [
    "## take two user input and devide it \n",
    "\n",
    "a=int(input(\"Please enter the 1st Number \"))  #1st user input \n",
    "\n",
    "b=int(input(\"Please enter the 2nd Number \"))  #2nd user input\n",
    "\n",
    "result=a/b\n",
    "\n",
    "print(\"Division of two number is \" , result)"
   ]
  },
  {
   "cell_type": "code",
   "execution_count": 44,
   "id": "c40822d0",
   "metadata": {},
   "outputs": [
    {
     "data": {
      "text/plain": [
       "'56'"
      ]
     },
     "execution_count": 44,
     "metadata": {},
     "output_type": "execute_result"
    }
   ],
   "source": [
    "a+b"
   ]
  },
  {
   "cell_type": "code",
   "execution_count": null,
   "id": "44e712b0",
   "metadata": {},
   "outputs": [],
   "source": []
  }
 ],
 "metadata": {
  "kernelspec": {
   "display_name": "Python 3 (ipykernel)",
   "language": "python",
   "name": "python3"
  },
  "language_info": {
   "codemirror_mode": {
    "name": "ipython",
    "version": 3
   },
   "file_extension": ".py",
   "mimetype": "text/x-python",
   "name": "python",
   "nbconvert_exporter": "python",
   "pygments_lexer": "ipython3",
   "version": "3.11.5"
  }
 },
 "nbformat": 4,
 "nbformat_minor": 5
}
