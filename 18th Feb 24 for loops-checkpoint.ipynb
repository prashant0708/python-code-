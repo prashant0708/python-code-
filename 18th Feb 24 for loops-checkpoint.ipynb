{
 "cells": [
  {
   "cell_type": "code",
   "execution_count": 2,
   "id": "b631cf72",
   "metadata": {},
   "outputs": [
    {
     "name": "stdout",
     "output_type": "stream",
     "text": [
      "['Prashant', 2, 3, 4, 5, 'DHL', 'SUB']\n"
     ]
    }
   ],
   "source": [
    "## create a list and iterate through loop and assign into list2\n",
    "\n",
    "l1=[\"Prashant\",2,3,4,5,\"DHL\",\"SUB\"]\n",
    "\n",
    "l2=[]\n",
    "\n",
    "for i in l1:\n",
    "    l2.append(i)\n",
    "    \n",
    "print(l2)"
   ]
  },
  {
   "cell_type": "code",
   "execution_count": 6,
   "id": "ccb3381b",
   "metadata": {},
   "outputs": [
    {
     "data": {
      "text/plain": [
       "['SUB', 'DHL', 5, 4, 3, 2, 'Prashant']"
      ]
     },
     "execution_count": 6,
     "metadata": {},
     "output_type": "execute_result"
    }
   ],
   "source": [
    "## create a list and iterate through loop and assign into list2 in opposite direction \n",
    "l2=[]\n",
    "\n",
    "for i in l1[::-1]:\n",
    "    l2.append(i)\n",
    "l2   "
   ]
  },
  {
   "cell_type": "code",
   "execution_count": 15,
   "id": "29e76178",
   "metadata": {},
   "outputs": [
    {
     "name": "stdout",
     "output_type": "stream",
     "text": [
      "['Prashant', 'DHL', 'SUB']\n",
      "[2, 3, 4, 5]\n"
     ]
    }
   ],
   "source": [
    "## seprate the element of list based on string and integie.\n",
    "\n",
    "string_list=[]\n",
    "number_list=[]\n",
    "\n",
    "for i in l1:\n",
    "    if isinstance(i,str):\n",
    "        string_list.append(i)\n",
    "    else:\n",
    "        number_list.append(i)\n",
    "print(string_list)\n",
    "print(number_list)"
   ]
  },
  {
   "cell_type": "code",
   "execution_count": 16,
   "id": "436c3370",
   "metadata": {},
   "outputs": [
    {
     "data": {
      "text/plain": [
       "['Prashant', 2, 3, 4, 5, 'DHL', 'SUB']"
      ]
     },
     "execution_count": 16,
     "metadata": {},
     "output_type": "execute_result"
    }
   ],
   "source": [
    "## print the index and list items together :\n",
    "l1"
   ]
  },
  {
   "cell_type": "code",
   "execution_count": 17,
   "id": "b0568339",
   "metadata": {},
   "outputs": [
    {
     "name": "stdout",
     "output_type": "stream",
     "text": [
      "0 Prashant\n",
      "1 2\n",
      "2 3\n",
      "3 4\n",
      "4 5\n",
      "5 DHL\n",
      "6 SUB\n"
     ]
    }
   ],
   "source": [
    "for i in l1:\n",
    "    print(l1.index(i),i)"
   ]
  },
  {
   "cell_type": "code",
   "execution_count": 20,
   "id": "b18e3f0f",
   "metadata": {},
   "outputs": [
    {
     "data": {
      "text/plain": [
       "1"
      ]
     },
     "execution_count": 20,
     "metadata": {},
     "output_type": "execute_result"
    }
   ],
   "source": [
    "l1.index(2)"
   ]
  },
  {
   "cell_type": "code",
   "execution_count": 21,
   "id": "908c13ed",
   "metadata": {},
   "outputs": [
    {
     "data": {
      "text/plain": [
       "['Prashant', 'DHL', 'SUB']"
      ]
     },
     "execution_count": 21,
     "metadata": {},
     "output_type": "execute_result"
    }
   ],
   "source": [
    "## count the number of character of each sting element of list string_list\n",
    "\n",
    "string_list\n",
    "\n",
    "for i in string_list:"
   ]
  },
  {
   "cell_type": "code",
   "execution_count": 26,
   "id": "11d563f4",
   "metadata": {},
   "outputs": [],
   "source": [
    "a='Prashant'\n",
    "b=[\"Prasahnt\"]\n",
    "\n",
    "alpha_count={}\n",
    "\n",
    "for i in b:\n",
    "    for j in i:\n",
    "        if j in alpha_count:\n",
    "            alpha_count[j]+=1\n",
    "        else:\n",
    "            \n",
    "            alpha_count[j]=1\n",
    "            \n",
    "    \n",
    "        "
   ]
  },
  {
   "cell_type": "code",
   "execution_count": 27,
   "id": "8e328c38",
   "metadata": {},
   "outputs": [
    {
     "data": {
      "text/plain": [
       "{'P': 1, 'r': 1, 'a': 2, 's': 1, 'h': 1, 'n': 1, 't': 1}"
      ]
     },
     "execution_count": 27,
     "metadata": {},
     "output_type": "execute_result"
    }
   ],
   "source": [
    "alpha_count"
   ]
  },
  {
   "cell_type": "code",
   "execution_count": 28,
   "id": "27539b0f",
   "metadata": {},
   "outputs": [
    {
     "data": {
      "text/plain": [
       "['P', 'r', 'a', 's', 'h', 'n', 't']"
      ]
     },
     "execution_count": 28,
     "metadata": {},
     "output_type": "execute_result"
    }
   ],
   "source": []
  },
  {
   "cell_type": "code",
   "execution_count": null,
   "id": "45521625",
   "metadata": {},
   "outputs": [],
   "source": [
    "# Home Work of 18th Feb 2024"
   ]
  },
  {
   "cell_type": "code",
   "execution_count": 29,
   "id": "b7f3e3a2",
   "metadata": {},
   "outputs": [],
   "source": [
    "l34=[\"In statistics, a sequence of random variables is homoscedastic (/ˌhoʊmoʊskəˈdæstɪk/) if all its random variables have the same finite variance; this is also known as homogeneity of variance. The complementary notion is called heteroscedasticity, also known as heterogeneity of variance. The spellings homoskedasticity and heteroskedasticity are also frequently used.[1][2][3] Assuming a variable is homoscedastic when in reality it is heteroscedastic (/ˌhɛtəroʊskəˈdæstɪk/) results in unbiased but inefficient point estimates and in biased estimates of standard errors, and may result in overestimating the goodness of fit as measured by the Pearson coefficient.\"]"
   ]
  },
  {
   "cell_type": "code",
   "execution_count": 30,
   "id": "3733d962",
   "metadata": {},
   "outputs": [
    {
     "data": {
      "text/plain": [
       "['In statistics, a sequence of random variables is homoscedastic (/ˌhoʊmoʊskəˈdæstɪk/) if all its random variables have the same finite variance; this is also known as homogeneity of variance. The complementary notion is called heteroscedasticity, also known as heterogeneity of variance. The spellings homoskedasticity and heteroskedasticity are also frequently used.[1][2][3] Assuming a variable is homoscedastic when in reality it is heteroscedastic (/ˌhɛtəroʊskəˈdæstɪk/) results in unbiased but inefficient point estimates and in biased estimates of standard errors, and may result in overestimating the goodness of fit as measured by the Pearson coefficient.']"
      ]
     },
     "execution_count": 30,
     "metadata": {},
     "output_type": "execute_result"
    }
   ],
   "source": [
    "l34"
   ]
  },
  {
   "cell_type": "markdown",
   "id": "8bef5487",
   "metadata": {},
   "source": [
    "For loops example \n",
    "\n",
    "Content\n",
    "- Example 1: Print the first 10 natural numbers using for loop.\n",
    "- Example 2: Python program to print all the even numbers within the given range.\n",
    "- Example 3: Python program to calculate the sum of all numbers from 1 to a given number.\n",
    "- Example 4: Python program to calculate the sum of all the odd numbers within the given range.\n",
    "- Example 5: Python program to print a multiplication table of a given number\n",
    "- Example 6: Python program to display numbers from a list using a for loop.\n",
    "- Example 7: Python program to count the total number of digits in a number.\n",
    "- Example 8: Python program to check if the given string is a palindrome.\n",
    "- Example 9: Python program that accepts a word from the user and reverses it.\n",
    "- Example 10: Python program to check if a given number is an Armstrong number\n",
    "- Example 11: Python program to count the number of even and odd numbers from a series of numbers.\n",
    "- Example 12: Python program to display all numbers within a range except the prime numbers.\n",
    "- Example 13: Python program to get the Fibonacci series between 0 to 50.\n",
    "- Example 14: Python program to find the factorial of a given number.\n",
    "- Example 15: Python program that accepts a string and calculates the number of digits and letters.\n",
    "- Example 16: Write a Python program that iterates the integers from 1 to 25.\n",
    "- Example 17: Python program to check the validity of password input by users.\n",
    "- Example 18: Python program to convert the month name to a number of days."
   ]
  },
  {
   "cell_type": "code",
   "execution_count": null,
   "id": "985bd21e",
   "metadata": {},
   "outputs": [],
   "source": []
  }
 ],
 "metadata": {
  "kernelspec": {
   "display_name": "Python 3 (ipykernel)",
   "language": "python",
   "name": "python3"
  },
  "language_info": {
   "codemirror_mode": {
    "name": "ipython",
    "version": 3
   },
   "file_extension": ".py",
   "mimetype": "text/x-python",
   "name": "python",
   "nbconvert_exporter": "python",
   "pygments_lexer": "ipython3",
   "version": "3.11.5"
  }
 },
 "nbformat": 4,
 "nbformat_minor": 5
}
